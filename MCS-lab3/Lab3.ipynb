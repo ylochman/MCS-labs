{
 "cells": [
  {
   "cell_type": "code",
   "execution_count": 623,
   "metadata": {},
   "outputs": [],
   "source": [
    "import numpy as np\n",
    "import pandas as pd\n",
    "from scipy.integrate import odeint\n",
    "from itertools import permutations\n",
    "import matplotlib.pyplot as plt\n",
    "%matplotlib inline\n",
    "\n",
    "from pylab import rcParams\n",
    "rcParams['figure.figsize'] = 9, 5"
   ]
  },
  {
   "cell_type": "markdown",
   "metadata": {},
   "source": [
    "## Реалізація МНКО"
   ]
  },
  {
   "cell_type": "code",
   "execution_count": 624,
   "metadata": {
    "code_folding": []
   },
   "outputs": [],
   "source": [
    "def RMNK(X, y, s=None, sigma_estimation=None, verbose=False,\n",
    "         deep_verbose=False, create_dataframe=False):\n",
    "    assert X.ndim == 2 and X.shape[1] > 0\n",
    "    m = X.shape[1]\n",
    "    if m > 1:\n",
    "        if create_dataframe:\n",
    "            w, H_inv, RSS, df = RMNK(X[:,:-1], y, s, sigma_estimation,\n",
    "                                     verbose, deep_verbose, create_dataframe)\n",
    "            if s and m > s:\n",
    "                return w, H_inv, RSS, df\n",
    "        else:\n",
    "            w, H_inv, RSS = RMNK(X[:,:-1], y, s, sigma_estimation,\n",
    "                                 verbose, deep_verbose, create_dataframe)\n",
    "            if s and m > s:\n",
    "                return w, H_inv, RSS\n",
    "        # w is of shape = [m-1, 1]; H_inv is of shape = [m-1, m-1]    \n",
    "        h = (X[:,:-1].T @ X[:,-1]).reshape(-1,1) # shape = [m-1, 1]\n",
    "        eta = X[:,-1].T @ X[:,-1] # shape = [1, 1]\n",
    "        alpha = H_inv @ h # shape = [m-1, 1]\n",
    "        beta = eta - h.T @ alpha # shape = [1, 1]\n",
    "        beta_inv = 1 / beta # shape = [1, 1]\n",
    "        gamma = X[:,-1].T @ y # shape = [1, 1]\n",
    "        nu = beta_inv * (gamma - h.T @ w) # shape = [1, 1]\n",
    "        w = np.vstack((w - nu * alpha, nu))  # shape = [m, 1]\n",
    "        H_next_inv = np.vstack((np.hstack((H_inv + beta_inv * alpha @ alpha.T,\n",
    "                                           (- beta_inv * alpha).reshape(-1, 1))),\n",
    "                               np.hstack((-beta_inv * alpha.T, beta_inv))))\n",
    "        RSS_next = (RSS - nu.flatten() ** 2 * beta.flatten())[0]\n",
    "\n",
    "    else: # 1\n",
    "        H_inv = np.array([[0]])\n",
    "        eta = beta = X[:,-1].T @ X[:,-1]\n",
    "        beta_inv = 1 / beta\n",
    "        alpha = h = np.array([0])\n",
    "        gamma = X[:,-1].T @ y\n",
    "        nu = np.array([beta_inv * gamma])\n",
    "        w = np.array([nu])\n",
    "        H_next_inv = np.array(beta_inv).reshape(1, 1)\n",
    "        RSS_next = (y.T @ y - y.T @ X[:,-1].reshape(-1, 1) @ w)[0]\n",
    "        if create_dataframe:\n",
    "            if sigma_estimation is None:\n",
    "                df = pd.DataFrame(columns=['s', 'RSS', 'Cp', 'FPE'])\n",
    "            else:\n",
    "                df = pd.DataFrame(columns=['s', 'RSS', 'Cp_simple',\n",
    "                                           'Cp', 'FPE'])\n",
    "        \n",
    "    if verbose:\n",
    "        print('===============================================')\n",
    "        print('\\tStep {}'.format(m))\n",
    "        print('===============================================')\n",
    "        if deep_verbose:\n",
    "            print('h_{}:\\t\\t{}'.format(m, h.reshape(-1,1)[:,0]))\n",
    "            print('eta_{}:\\t\\t{}'.format(m, eta))\n",
    "            print('alpha_{}:\\t{}'.format(m, alpha.reshape(-1,1)[:,0]))\n",
    "            print('beta_{}:\\t\\t{}'.format(m, beta))\n",
    "            print('gamma_{}:\\t{}'.format(m, gamma))\n",
    "            print('nu_{}:\\t\\t{}'.format(m, nu))\n",
    "            print('===============================================')\n",
    "        print('> θ_{}: {}'.format(m, w[:, 0]))\n",
    "        print('> H_{}_inv:\\n{}'.format(m, H_next_inv))\n",
    "        print('> RSS_{}: {}'.format(m, RSS_next))\n",
    "    if create_dataframe:\n",
    "        n = y.shape[0]\n",
    "        FPE = (n + m) / (n - m) * RSS_next\n",
    "        Cp_simple = RSS_next + 2 * m\n",
    "        if sigma_estimation is None:\n",
    "            df = df.append({'s': m, 'RSS': RSS_next,\n",
    "                            'Cp': Cp_simple, 'FPE': FPE},\n",
    "                           ignore_index=True)\n",
    "        else:\n",
    "            Cp = RSS_next + 2 * sigma_estimation * m\n",
    "            df = df.append({'s': m, 'RSS': RSS_next,\n",
    "                            'Cp_simple': Cp_simple,\n",
    "                            'Cp': Cp, 'FPE': FPE},\n",
    "                           ignore_index=True)\n",
    "        return w, H_next_inv, RSS_next, df\n",
    "    return w, H_next_inv, RSS_next"
   ]
  },
  {
   "cell_type": "markdown",
   "metadata": {},
   "source": [
    "# Пошук моделі оптимальної складності"
   ]
  },
  {
   "cell_type": "code",
   "execution_count": 625,
   "metadata": {
    "code_folding": [
     11,
     42,
     46,
     54,
     68,
     72,
     77,
     104,
     144,
     161
    ]
   },
   "outputs": [],
   "source": [
    "class ModelConfig():\n",
    "    m = 5\n",
    "    n = 10\n",
    "    n_grid = [10, 30, 100]\n",
    "    theta = np.array([3, -2, 1, 0, 0])\n",
    "    a = 0\n",
    "    b = 2\n",
    "    sigma = 0.3\n",
    "    s0 = 3\n",
    "    s = m\n",
    "    \n",
    "    def __init__(self, m=None, s0=None, theta=None, a=None, b=None,\n",
    "                 X=None, y=None):\n",
    "        if m:\n",
    "            self.m = m\n",
    "            self.s = m\n",
    "        if s0:\n",
    "            self.s0 = s0\n",
    "        if theta:\n",
    "            if isinstance(theta, dict) and theta['random']:\n",
    "                self.theta = np.zeros(self.m)\n",
    "                self.theta[:self.s0] = np.random.uniform(*theta['random'],\n",
    "                                                         size=self.s0)\n",
    "            elif theta == 'unknown':\n",
    "                assert X is not None, 'Please provide data (X)'\n",
    "                assert y is not None, 'Please provide target values as well (y)'\n",
    "                self.theta = theta\n",
    "            else:\n",
    "                self.theta = theta\n",
    "        if a:\n",
    "            self.a = a\n",
    "        if b:\n",
    "            self.b = b\n",
    "        if X is not None:\n",
    "            assert y is not None, 'Please provide target values as well (y)'\n",
    "            self.X = np.array(X)\n",
    "            self.y = np.array(y)\n",
    "            (self.n, self.m) = X.shape\n",
    "            self.s = self.m\n",
    "        else:\n",
    "            self.compile()\n",
    "        \n",
    "    def generate_noise_and_output(self):\n",
    "        self.ksi = np.random.normal(0, self.sigma, size=self.n)\n",
    "        self.y = self.X @ self.theta + self.ksi\n",
    "        \n",
    "    def compile(self, n=None, sigma=None):\n",
    "        if n:\n",
    "            self.n = n\n",
    "        if sigma:\n",
    "            self.sigma = sigma\n",
    "        self.X = np.random.uniform(self.a, self.b, size=(self.n, self.m))\n",
    "        self.generate_noise_and_output()\n",
    "        \n",
    "    def show(self, n_limit=10):\n",
    "        print('Regressors: m = {}'.format(self.m))\n",
    "        print('True parameters: θ = {}'.format(self.theta))\n",
    "        if not isinstance(self.theta, str):\n",
    "            equation_str = ''\n",
    "            for i, theta_i in enumerate(self.theta):\n",
    "                equation_str += ' + ({}) * x{}'.format(theta_i, i+1)\n",
    "            equation_str = 'y0 = '+ equation_str[3:]\n",
    "            print(equation_str)\n",
    "            print('Noise generation: σ = {}'.format(self.sigma))\n",
    "        print('Sample length: n = {}'.format(self.n))\n",
    "        print('X[:10]:\\n{}'.format(self.X[:n_limit]))\n",
    "        print('y[:10]:\\n{}'.format(self.y[:n_limit]))\n",
    "        \n",
    "    def show_estimations(self):\n",
    "        print('RSS(m) = {:5.5}'.format(self.RSS))\n",
    "        print('σ* = {:5.5}'.format(self.sigma_hat ** .2))\n",
    "    \n",
    "    def estimate_sigma(self):\n",
    "        _, _, self.RSS = RMNK(self.X, self.y, s=self.s,\n",
    "                         verbose=False, create_dataframe=False)\n",
    "        self.sigma_hat = self.RSS ** 2 / (self.X.shape[0] - self.X.shape[1])\n",
    "        \n",
    "    def run_grid_RMNK_model_selection(self):\n",
    "        self.estimate_sigma()\n",
    "        for i, n in enumerate(self.n_grid): \n",
    "            for j, sigma in enumerate(self.sigma_grid):\n",
    "                self.compile(n, sigma)\n",
    "                print('--------------------------------------------------------------')\n",
    "                print('\\t\\t\\tSAMPLE #{}'.format(i * len(self.n_grid) + j + 1))\n",
    "                print('--------------------------------------------------------------')\n",
    "                print('\\t\\tCONFUGURATIONS & DATA')\n",
    "                self.show()\n",
    "                print('\\n\\t\\tRLSM ITERATIONS')\n",
    "                theta_pred, _, _, df = RMNK(self.X, self.y, s=self.s,\n",
    "                                            verbose=True, create_dataframe=True)\n",
    "                print('\\n\\t\\t\\tRESULTS')\n",
    "                print('\\nPARAMETERS')\n",
    "                print('True values:\\tθ: {}'.format(self.theta))\n",
    "                print('Estimates:\\tθ*: {}'.format(theta_pred[:,0]))\n",
    "                plt.plot(df['s'], df['RSS'], label='RSS')\n",
    "                plt.plot(df['s'], df['Cp'], label='Cp')\n",
    "                plt.plot(df['s'], df['FPE'], label='FPE')\n",
    "                plt.legend()\n",
    "                plt.show()\n",
    "                print(df)\n",
    "                print('s* by Cp:  {}'.format(np.array(df['Cp']).argmin()+1))\n",
    "                print('s* by FPE: {}'.format(np.array(df['FPE']).argmin()+1))\n",
    "                print()\n",
    "    \n",
    "    def run_single_RMNK_model_selection(self, p=None, plot=False, \n",
    "                                        criteria=['Cp', 'FPE', 'RSS']):\n",
    "        \"\"\"Single RMNK\n",
    "        \n",
    "        p : str in ['direct', 'reverse', 'correlation'] or list\n",
    "            if list: permutation indices\n",
    "            if str: how to create permutation\n",
    "        \"\"\"\n",
    "        if p == 'reverse':\n",
    "            print('=============\\nREVERSE\\n=============')\n",
    "            p = np.flip(np.arange(self.m), axis=0)\n",
    "        elif p == 'correlation':\n",
    "            print('=====================\\nCORRELATION INCLUDING\\n=====================')\n",
    "            correlations = np.abs(np.cov(self.X.T, self.y.T)[-1,:-1])\n",
    "            p = np.argsort(-correlations)\n",
    "        elif isinstance(p, list):\n",
    "            print('=============\\nCUSTOM\\n=============')\n",
    "        else:\n",
    "            print('=============\\nDIRECT\\n=============')\n",
    "            p = np.arange(self.m)\n",
    "        print('Regressors order: {}'.format(p))\n",
    "        theta_pred, _, _, df = RMNK(self.X[:,p], self.y, s=self.s,\n",
    "                                    verbose=False, create_dataframe=True)\n",
    "            \n",
    "        df['regressors'] = [str(sorted(p[:int(s)]+1)) for s in df.s]\n",
    "        for criterion in criteria:\n",
    "            df[criterion] = np.round(df[criterion], 6)\n",
    "        if plot:\n",
    "            for criterion in criteria:\n",
    "                plt.plot(df['s'], df[criterion], label=criterion)\n",
    "                plt.legend()\n",
    "                plt.show()\n",
    "        df = df.sort_values(by=criteria).reset_index()\\\n",
    "                   [['s', 'regressors'] + criteria]\n",
    "        self.s_opt, self.regressors_opt = df.loc[0, ['s','regressors']]\n",
    "        print('Optimal:')\n",
    "        print('\\ts* = {}\\n\\tregressors = {}'.format(self.s_opt,\n",
    "                                                    self.regressors_opt))\n",
    "        return df\n",
    "    \n",
    "    def run_single_full_RMNK_model_selection(self,\n",
    "                                             criteria=['Cp', 'FPE', 'RSS']):\n",
    "        print('=============\\nBRUT FORCE\\n=============')\n",
    "        total_df = pd.DataFrame()\n",
    "        for p in permutations(range(self.m)):\n",
    "            p = np.array(p)\n",
    "            theta_pred, _, _, df = RMNK(self.X[:,p], self.y, s=self.s,\n",
    "                                        verbose=False, create_dataframe=True)\n",
    "            df['regressors'] = [str(sorted(p[:int(s)]+1)) for s in df.s]\n",
    "            total_df = pd.concat([total_df, df], axis=0)\n",
    "        for criterion in criteria:\n",
    "            total_df[criterion] = np.round(total_df[criterion], 6)\n",
    "        total_df = total_df.drop_duplicates()\n",
    "        total_df = total_df.sort_values(by=criteria).reset_index()\\\n",
    "                   [['s', 'regressors'] + criteria]\n",
    "        return total_df\n",
    "    \n",
    "    def run_single_random_RMNK_model_selection(self, K=20,\n",
    "                                               criteria=['Cp', 'FPE', 'RSS'],\n",
    "                                               main_criterion='Cp'):\n",
    "        print('================================\\nRANDOM INCLUDING WITH K = {}\\n================================'.format(K))\n",
    "        permutations = [np.random.permutation(self.m) for k in range(K)]\n",
    "        total_df = pd.DataFrame()\n",
    "        best_df = pd.DataFrame()\n",
    "        self.main_criterion_value = np.Inf\n",
    "        for p in permutations:\n",
    "            p = np.array(p)\n",
    "            theta_pred, _, _, df = RMNK(self.X[:,p], self.y, s=self.s,\n",
    "                                        verbose=False, create_dataframe=True)\n",
    "            df['regressors'] = [str(sorted(p[:int(s)]+1)) for s in df.s]\n",
    "            df = df.sort_values(by=criteria).reset_index()\n",
    "            main_criterion_value = df.loc[0, main_criterion]\n",
    "            if main_criterion_value < self.main_criterion_value:\n",
    "                self.main_criterion_value = main_criterion_value\n",
    "                self.theta_pred = theta_pred\n",
    "                self.s_opt, self.regressors_opt = df.loc[0,\n",
    "                                                         ['s', 'regressors']]\n",
    "            total_df = pd.concat([total_df, df], axis=0)\n",
    "            best_df = pd.concat([best_df, df.loc[0:0]], axis=0)\n",
    "        for criterion in criteria:\n",
    "            total_df[criterion] = np.round(total_df[criterion], 6)\n",
    "            best_df[criterion] = np.round(best_df[criterion], 6)\n",
    "        total_df = total_df.drop_duplicates()\n",
    "        total_df = total_df.sort_values(by=criteria).reset_index()\\\n",
    "                   [['s', 'regressors'] + criteria]\n",
    "        best_df = best_df.rename(columns={'s': 's*',\n",
    "                                 'regressors': 'regressors*'}).reset_index()\\\n",
    "                  [['s*', 'regressors*'] + criteria]\n",
    "        print()\n",
    "        print(best_df[:5])\n",
    "        print('...')\n",
    "        print(best_df[-5:])\n",
    "        print()\n",
    "        print('Optimal:')\n",
    "        print('\\ts* = {}\\n\\tregressors = {}'.format(self.s_opt,\n",
    "                                                    self.regressors_opt))\n",
    "        return total_df, best_df\n",
    "    \n",
    "    def run_single_picking_RMNK_model_selection(self,\n",
    "                                               criteria=['Cp', 'FPE', 'RSS'],\n",
    "                                               main_criterion='Cp'):\n",
    "        print('================================\\nPICKING INCLUDING\\n================================'.format(K))\n",
    "        self.regressors_opt = []\n",
    "        left_indices = list(np.range(self.m)\n",
    "        permutations = [regressors_indices + [i] for i in left_indices]\n",
    "        self.main_criterion_value = np.Inf\n",
    "        for p in permutations:\n",
    "            theta_pred, _, _, df = RMNK(self.X[:,p], self.y, s=len(p),\n",
    "                                        verbose=False, create_dataframe=True)\n",
    "            df['regressors'] = [str(sorted(p[:int(s)]+1)) for s in df.s]\n",
    "            df = df.sort_values(by=criteria).reset_index()\n",
    "            main_criterion_value = df.loc[0, main_criterion]\n",
    "            if main_criterion_value < self.main_criterion_value:\n",
    "                self.main_criterion_value = main_criterion_value\n",
    "                self.theta_pred = theta_pred\n",
    "                self.s_opt, self.regressors_opt = df.loc[0,\n",
    "                                                         ['s', 'regressors']]\n",
    "            total_df = pd.concat([total_df, df], axis=0)\n",
    "            best_df = pd.concat([best_df, df.loc[0:0]], axis=0)\n",
    "        for criterion in criteria:\n",
    "            total_df[criterion] = np.round(total_df[criterion], 6)\n",
    "            best_df[criterion] = np.round(best_df[criterion], 6)\n",
    "        total_df = total_df.drop_duplicates()\n",
    "        total_df = total_df.sort_values(by=criteria).reset_index()\\\n",
    "                   [['s', 'regressors'] + criteria]\n",
    "        best_df = best_df.rename(columns={'s': 's*',\n",
    "                                 'regressors': 'regressors*'}).reset_index()\\\n",
    "                  [['s*', 'regressors*'] + criteria]\n",
    "        print()\n",
    "        print(best_df[:5])\n",
    "        print('...')\n",
    "        print(best_df[-5:])\n",
    "        print()\n",
    "        print('Optimal:')\n",
    "        print('\\ts* = {}\\n\\tregressors = {}'.format(self.s_opt,\n",
    "                                                    self.regressors_opt))\n",
    "        return total_df, best_df\n",
    "    "
   ]
  },
  {
   "cell_type": "markdown",
   "metadata": {},
   "source": [
    "## Задання конфігурацій. Створення вибірок"
   ]
  },
  {
   "cell_type": "markdown",
   "metadata": {},
   "source": [
    "### Тест 1 (вибірка аналогічна вибірці з лабораторної роботи №2)"
   ]
  },
  {
   "cell_type": "code",
   "execution_count": 626,
   "metadata": {},
   "outputs": [
    {
     "name": "stdout",
     "output_type": "stream",
     "text": [
      "Regressors: m = 5\n",
      "True parameters: θ = [ 3 -2  1  0  0]\n",
      "y0 = (3) * x1 + (-2) * x2 + (1) * x3 + (0) * x4 + (0) * x5\n",
      "Noise generation: σ = 0.3\n",
      "Sample length: n = 1000\n",
      "X[:10]:\n",
      "[[0.03681244 0.2328146  0.022194   0.49286089 0.26525601]\n",
      " [0.19670304 0.20897471 0.19834191 0.3775959  0.08990125]\n",
      " [0.48389836 0.44521889 0.0086247  0.49518199 0.35764481]\n",
      " [0.2780668  0.2656907  0.15567972 0.15321773 0.309037  ]\n",
      " [0.16709806 0.01145448 0.29360321 0.13088148 0.17618804]\n",
      " [0.43898293 0.27150413 0.14091688 0.36047379 0.23309455]\n",
      " [0.27736848 0.2139179  0.18690541 0.22335776 0.19653261]\n",
      " [0.32496836 0.36885358 0.36793231 0.23666946 0.41841507]\n",
      " [0.43549546 0.19133817 0.47225474 0.37535722 0.29790832]\n",
      " [0.35501469 0.11570359 0.2003423  0.14256618 0.23380121]]\n",
      "y[:10]:\n",
      "[-0.63986665  0.18612406  0.1065405   0.35810936  0.88868648  1.13693586\n",
      "  0.85395978  0.85095252  1.20948959  0.82419922]\n"
     ]
    }
   ],
   "source": [
    "config1 = ModelConfig(a=0, b=0.5)\n",
    "config1.compile(n=1000)\n",
    "config1.generate_noise_and_output()\n",
    "config1.show()"
   ]
  },
  {
   "cell_type": "markdown",
   "metadata": {},
   "source": [
    "### Тест 2 (велика вибірка з великою кількістю регресорів)"
   ]
  },
  {
   "cell_type": "code",
   "execution_count": 681,
   "metadata": {},
   "outputs": [
    {
     "name": "stdout",
     "output_type": "stream",
     "text": [
      "Regressors: m = 15\n",
      "True parameters: θ = [5.97210317 4.86107574 5.82450262 3.55040437 3.86459627 5.04937404\n",
      " 6.61378967 8.28391115 1.46023858 5.99707121 0.         0.\n",
      " 0.         0.         0.        ]\n",
      "y0 = (5.972103171646234) * x1 + (4.861075743189338) * x2 + (5.824502615587379) * x3 + (3.5504043675808297) * x4 + (3.864596272495195) * x5 + (5.049374037749504) * x6 + (6.613789674183755) * x7 + (8.283911151053491) * x8 + (1.4602385750421958) * x9 + (5.997071207883257) * x10 + (0.0) * x11 + (0.0) * x12 + (0.0) * x13 + (0.0) * x14 + (0.0) * x15\n",
      "Noise generation: σ = 0.3\n",
      "Sample length: n = 1000\n",
      "X[:10]:\n",
      "[[0.12897796 0.41595819 0.42456359 0.21303093 0.32340781 0.39024948\n",
      "  0.12273252 0.23240344 0.41411046 0.2144005  0.40322462 0.02781469\n",
      "  0.1826461  0.13011081 0.44284339]\n",
      " [0.02959981 0.06779383 0.02733201 0.30499447 0.11893972 0.35455782\n",
      "  0.06434137 0.31312804 0.49016415 0.117884   0.04177466 0.34820999\n",
      "  0.23032235 0.36007021 0.11463227]\n",
      " [0.13626896 0.0962296  0.19759231 0.32017878 0.44340809 0.1788807\n",
      "  0.10541859 0.31648176 0.00577009 0.40684087 0.06567288 0.29566844\n",
      "  0.09538817 0.43681751 0.23630602]\n",
      " [0.38914544 0.43691837 0.27529841 0.18096175 0.10255334 0.06394993\n",
      "  0.11204299 0.09785313 0.19997657 0.16785678 0.27507257 0.41866361\n",
      "  0.25061975 0.02309514 0.03538278]\n",
      " [0.39105958 0.10702106 0.11453918 0.49110693 0.12606036 0.31276161\n",
      "  0.04575488 0.4612662  0.10191187 0.23281755 0.35991303 0.46435797\n",
      "  0.20862955 0.39518517 0.28570274]]\n",
      "y[:10]:\n",
      "[14.58865629  8.91956791 11.85867666 10.13768799 12.6882416 ]\n"
     ]
    }
   ],
   "source": [
    "config2 = ModelConfig(m=15, s0=10, a=0, b=0.5, theta={'random': [1, 10]})\n",
    "config2.compile(n=1000)\n",
    "config2.generate_noise_and_output()\n",
    "config2.show(5)"
   ]
  },
  {
   "cell_type": "markdown",
   "metadata": {},
   "source": [
    "### Тест 3 (власні задачі)"
   ]
  },
  {
   "cell_type": "markdown",
   "metadata": {},
   "source": [
    "#### Діабет\n",
    "\n",
    "Для 442 пацієнтів з діабетом, маємо 10 вхідних змінних:\n",
    "- вік\n",
    "- стать\n",
    "- індекс маси тіла\n",
    "- середній артеріальний тиск\n",
    "- шість вимірів сироватки крові,\n",
    "\n",
    "Вихідна змінна:\n",
    "- кількісний показник прогресії хвороби через рік після вимірювання.\n",
    "\n",
    "В кожному з цих 10 регресорів елементи відцентровані та поділені на $n \\sigma$ (тобто в кожному стовпці сума квадратів елементів становить 1)."
   ]
  },
  {
   "cell_type": "code",
   "execution_count": 636,
   "metadata": {},
   "outputs": [],
   "source": [
    "# dataframe_path = 'data/diabetes.csv'\n",
    "# df = pd.read_csv(dataframe_path)\n",
    "# config3 = ModelConfig(theta='unknown',\n",
    "#                       X=df.loc[:, 'age':'s6'],\n",
    "#                       y=df['target'])\n",
    "# config3.show(5)"
   ]
  },
  {
   "cell_type": "markdown",
   "metadata": {},
   "source": [
    "#### Оцінка смертності\n"
   ]
  },
  {
   "cell_type": "code",
   "execution_count": 642,
   "metadata": {},
   "outputs": [
    {
     "name": "stdout",
     "output_type": "stream",
     "text": [
      "Regressors: m = 16\n",
      "True parameters: θ = unknown\n",
      "Sample length: n = 60\n",
      "X[:10]:\n",
      "[[3.600e+01 2.700e+01 7.100e+01 8.100e+00 3.340e+00 1.140e+01 8.150e+01\n",
      "  3.243e+03 8.800e+00 4.260e+01 1.170e+01 2.100e+01 1.500e+01 5.900e+01\n",
      "  5.900e+01 1.000e+00]\n",
      " [3.500e+01 2.300e+01 7.200e+01 1.110e+01 3.140e+00 1.100e+01 7.880e+01\n",
      "  4.281e+03 3.600e+00 5.070e+01 1.440e+01 8.000e+00 1.000e+01 3.900e+01\n",
      "  5.700e+01 1.000e+00]]\n",
      "y[:10]:\n",
      "[921.87  997.875]\n"
     ]
    }
   ],
   "source": [
    "dataframe_path = 'data/death-rate.csv'\n",
    "df = pd.read_csv(dataframe_path)\n",
    "config3 = ModelConfig(theta='unknown',\n",
    "                      X=df.loc[:, 'A1':'A15'],\n",
    "                      y=df['B'])\n",
    "config3.X = np.hstack((config3.X, np.ones((config3.n, 1))))\n",
    "config3.m += 1\n",
    "config3.s += 1\n",
    "config3.show(2)"
   ]
  },
  {
   "cell_type": "markdown",
   "metadata": {},
   "source": [
    "#### Октан\n",
    "\n",
    "При дослідженні виробничого процесу нафтопереробному заводі вимірюється вміст октану в певного бензині залежно від кількості 3-х сировинних матеріалів та змінної, що характеризує умови виробництва. Вхідні змінні (5):\n",
    "- одиниця, відповідає вільному члену\n",
    "- кількість матеріалу 1\n",
    "- кількість матеріалу 2\n",
    "- кількість матеріалу 3\n",
    "- кількісний показник умов виробництва\n",
    "\n",
    "Вихідна змінна:\n",
    "- вміст октану"
   ]
  },
  {
   "cell_type": "code",
   "execution_count": 646,
   "metadata": {},
   "outputs": [
    {
     "name": "stdout",
     "output_type": "stream",
     "text": [
      "Regressors: m = 5\n",
      "True parameters: θ = unknown\n",
      "Sample length: n = 82\n",
      "X[:10]:\n",
      "[[ 1.      55.33     1.72    54.       1.66219]\n",
      " [ 1.      59.13     1.2     53.       1.58399]\n",
      " [ 1.      57.39     1.42    55.       1.61731]\n",
      " [ 1.      56.43     1.78    55.       1.66228]\n",
      " [ 1.      55.98     1.58    54.       1.63195]]\n",
      "y[:10]:\n",
      "[92.19 92.74 91.88 92.8  92.56]\n"
     ]
    }
   ],
   "source": [
    "dataframe_path = 'data/octane-rating.csv'\n",
    "df = pd.read_csv(dataframe_path)\n",
    "config3 = ModelConfig(theta='unknown',\n",
    "                      X=df.loc[:, 'One':'Condition'],\n",
    "                      y=df['Octane number'])\n",
    "config3.show(5)"
   ]
  },
  {
   "cell_type": "markdown",
   "metadata": {},
   "source": [
    "#### House Prices\n",
    "\n",
    "Прогнозування цін на нерухомість.\n",
    "\n",
    "! TODO: DESCRIBE TASK\n",
    "\n",
    "Вхідні змінні:\n",
    "- .\n",
    "\n",
    "Вихідна змінна:\n",
    "- ."
   ]
  },
  {
   "cell_type": "code",
   "execution_count": 682,
   "metadata": {},
   "outputs": [
    {
     "name": "stdout",
     "output_type": "stream",
     "text": [
      "Regressors: m = 36\n",
      "True parameters: θ = unknown\n",
      "Sample length: n = 1460\n",
      "X[:10]:\n",
      "[[4.11087386e+00 4.18965474e+00 9.04204006e+00 7.00000000e+00\n",
      "  5.00000000e+00 2.00300000e+03 2.00300000e+03 5.28320373e+00\n",
      "  6.56103067e+00 0.00000000e+00 5.01727984e+00 6.75343792e+00\n",
      "  6.75343792e+00 6.75110147e+00 0.00000000e+00 7.44483327e+00\n",
      "  1.00000000e+00 0.00000000e+00 2.00000000e+00 1.00000000e+00\n",
      "  3.00000000e+00 6.93147181e-01 8.00000000e+00 0.00000000e+00\n",
      "  2.00300000e+03 2.00000000e+00 5.48000000e+02 0.00000000e+00\n",
      "  4.12713439e+00 0.00000000e+00 0.00000000e+00 0.00000000e+00\n",
      "  0.00000000e+00 0.00000000e+00 2.00000000e+00 2.00800000e+03]]\n",
      "y[:10]:\n",
      "[12.24769912]\n"
     ]
    }
   ],
   "source": [
    "dataframe_path = 'data/house-prices-cleaned.csv'\n",
    "df = pd.read_csv(dataframe_path)\n",
    "config3 = ModelConfig(theta='unknown',\n",
    "                      X=df.loc[:, 'MSSubClass':'YrSold'],\n",
    "                      y=df['SalePrice'])\n",
    "config3.show(1)"
   ]
  },
  {
   "cell_type": "markdown",
   "metadata": {},
   "source": [
    "## Пошук моделі. Послідовне включення (метод з лабораторної роботи №2)"
   ]
  },
  {
   "cell_type": "code",
   "execution_count": 678,
   "metadata": {
    "collapsed": true
   },
   "outputs": [
    {
     "name": "stdout",
     "output_type": "stream",
     "text": [
      "=============\n",
      "DIRECT\n",
      "=============\n",
      "Regressors order: [ 0  1  2  3  4  5  6  7  8  9 10 11 12 13 14 15 16 17 18 19 20 21 22 23\n",
      " 24 25 26 27 28 29 30 31 32 33 34 35]\n"
     ]
    },
    {
     "data": {
      "image/png": "[encoded data removed]",
      "text/plain": [
       "<matplotlib.figure.Figure at 0x1a197b1898>"
      ]
     },
     "metadata": {},
     "output_type": "display_data"
    },
    {
     "name": "stdout",
     "output_type": "stream",
     "text": [
      "Optimal:\n",
      "\ts* = 14.0\n",
      "\tregressors = [1, 2, 3, 4, 5, 6, 7, 8, 9, 10, 11, 12, 13, 14]\n",
      "\n",
      "=============\n",
      "REVERSE\n",
      "=============\n",
      "Regressors order: [35 34 33 32 31 30 29 28 27 26 25 24 23 22 21 20 19 18 17 16 15 14 13 12\n",
      " 11 10  9  8  7  6  5  4  3  2  1  0]\n"
     ]
    },
    {
     "data": {
      "image/png": "[encoded data removed]",
      "text/plain": [
       "<matplotlib.figure.Figure at 0x1a151cd7f0>"
      ]
     },
     "metadata": {},
     "output_type": "display_data"
    },
    {
     "name": "stdout",
     "output_type": "stream",
     "text": [
      "Optimal:\n",
      "\ts* = 23.0\n",
      "\tregressors = [14, 15, 16, 17, 18, 19, 20, 21, 22, 23, 24, 25, 26, 27, 28, 29, 30, 31, 32, 33, 34, 35, 36]\n"
     ]
    }
   ],
   "source": [
    "df1 = config3.run_single_RMNK_model_selection(p=None,\n",
    "                                       criteria=['Cp'],\n",
    "                                       plot=True)\n",
    "print()\n",
    "df2 = config3.run_single_RMNK_model_selection(p='reverse',\n",
    "                                       criteria=['Cp'],\n",
    "                                       plot=True)"
   ]
  },
  {
   "cell_type": "markdown",
   "metadata": {},
   "source": [
    "## Пошук моделі. Метод кореляційного включення"
   ]
  },
  {
   "cell_type": "code",
   "execution_count": 679,
   "metadata": {
    "collapsed": true
   },
   "outputs": [
    {
     "name": "stdout",
     "output_type": "stream",
     "text": [
      "=====================\n",
      "CORRELATION INCLUDING\n",
      "=====================\n",
      "Regressors order: [26 24  5  1  6  7  3 28 27 22  8 13 25 11 10 29 18 23 15  2 12 20 19 34\n",
      " 31 16 33  9 35  4 14 30 32  0 21 17]\n"
     ]
    },
    {
     "data": {
      "image/png": "[encoded data removed]",
      "text/plain": [
       "<matplotlib.figure.Figure at 0x1a19627400>"
      ]
     },
     "metadata": {},
     "output_type": "display_data"
    },
    {
     "name": "stdout",
     "output_type": "stream",
     "text": [
      "Optimal:\n",
      "\ts* = 11.0\n",
      "\tregressors = [2, 4, 6, 7, 8, 9, 23, 25, 27, 28, 29]\n"
     ]
    }
   ],
   "source": [
    "df1 = config3.run_single_RMNK_model_selection(p='correlation',\n",
    "                                       criteria=['Cp'],\n",
    "                                       plot=True)"
   ]
  },
  {
   "cell_type": "markdown",
   "metadata": {},
   "source": [
    "## Пошук моделі. Метод випадкового включення"
   ]
  },
  {
   "cell_type": "code",
   "execution_count": 680,
   "metadata": {
    "collapsed": true
   },
   "outputs": [
    {
     "name": "stdout",
     "output_type": "stream",
     "text": [
      "================================\n",
      "RANDOM INCLUDING WITH K = 10\n",
      "================================\n",
      "\n",
      "     s*                                        regressors*         Cp\n",
      "0  22.0  [2, 3, 5, 6, 8, 10, 11, 13, 14, 17, 19, 20, 21...  80.724651\n",
      "1  21.0  [5, 6, 8, 9, 10, 12, 13, 14, 15, 17, 18, 19, 2...  81.625466\n",
      "2  15.0  [4, 9, 11, 12, 14, 16, 18, 19, 24, 26, 28, 30,...  67.867975\n",
      "3  22.0  [1, 2, 3, 5, 6, 8, 11, 13, 14, 15, 18, 20, 22,...  84.321065\n",
      "4  13.0  [5, 6, 9, 10, 15, 16, 17, 18, 22, 26, 28, 31, 35]  68.384456\n",
      "...\n",
      "     s*                                        regressors*         Cp\n",
      "5  15.0  [1, 2, 4, 6, 9, 10, 11, 15, 16, 19, 20, 27, 31...  68.050059\n",
      "6   8.0                     [2, 6, 13, 14, 15, 17, 20, 27]  72.605223\n",
      "7  28.0  [2, 3, 4, 5, 6, 8, 9, 10, 11, 14, 15, 16, 18, ...  83.978672\n",
      "8  21.0  [2, 4, 6, 7, 8, 9, 11, 13, 14, 19, 20, 23, 25,...  77.336096\n",
      "9   8.0                      [4, 6, 8, 13, 21, 26, 29, 36]  64.000055\n",
      "\n",
      "Optimal:\n",
      "\ts* = 8.0\n",
      "\tregressors = [4, 6, 8, 13, 21, 26, 29, 36]\n",
      "================================\n",
      "RANDOM INCLUDING WITH K = 20\n",
      "================================\n",
      "\n",
      "     s*                                        regressors*         Cp\n",
      "0  16.0  [2, 3, 6, 8, 10, 11, 16, 18, 20, 21, 22, 25, 2...  79.341457\n",
      "1   8.0                      [3, 4, 6, 11, 16, 18, 23, 36]  57.126198\n",
      "2  25.0  [3, 4, 5, 6, 11, 12, 13, 14, 15, 17, 18, 19, 2...  79.646950\n",
      "3  13.0    [3, 4, 7, 8, 9, 19, 25, 27, 30, 31, 32, 35, 36]  67.911746\n",
      "4  24.0  [3, 4, 5, 6, 9, 11, 12, 14, 15, 16, 17, 18, 19...  75.469898\n",
      "...\n",
      "      s*                                        regressors*         Cp\n",
      "15  20.0  [2, 4, 5, 7, 8, 12, 13, 17, 19, 22, 23, 24, 26...  76.217665\n",
      "16  16.0  [1, 4, 5, 8, 12, 13, 15, 16, 18, 20, 22, 24, 2...  70.900135\n",
      "17  20.0  [1, 3, 4, 5, 7, 8, 9, 13, 15, 16, 18, 21, 22, ...  71.912815\n",
      "18   8.0                     [4, 6, 11, 12, 16, 17, 19, 35]  59.103753\n",
      "19  22.0  [1, 3, 4, 5, 6, 7, 9, 14, 15, 18, 19, 20, 21, ...  79.288355\n",
      "\n",
      "Optimal:\n",
      "\ts* = 13.0\n",
      "\tregressors = [2, 3, 4, 5, 6, 9, 16, 22, 24, 26, 31, 34, 36]\n",
      "================================\n",
      "RANDOM INCLUDING WITH K = 50\n",
      "================================\n",
      "\n",
      "     s*                                        regressors*         Cp\n",
      "0  14.0  [4, 7, 9, 11, 13, 15, 16, 20, 25, 30, 32, 33, ...  65.495129\n",
      "1  21.0  [1, 7, 8, 9, 10, 11, 12, 13, 16, 17, 18, 19, 2...  89.481284\n",
      "2  18.0  [1, 5, 6, 8, 9, 11, 12, 13, 15, 16, 20, 22, 23...  73.695072\n",
      "3  22.0  [1, 2, 3, 4, 6, 8, 9, 10, 11, 12, 15, 16, 17, ...  77.941999\n",
      "4  13.0  [6, 8, 9, 12, 14, 16, 18, 21, 25, 26, 33, 35, 36]  73.253298\n",
      "...\n",
      "      s*                                        regressors*         Cp\n",
      "45  23.0  [1, 2, 3, 4, 6, 7, 8, 9, 10, 14, 16, 17, 18, 2...  76.425008\n",
      "46  12.0       [2, 4, 7, 9, 12, 13, 14, 18, 24, 26, 28, 34]  60.689862\n",
      "47  22.0  [4, 5, 7, 9, 10, 11, 12, 13, 14, 16, 17, 21, 2...  78.012697\n",
      "48  23.0  [1, 2, 4, 6, 7, 8, 11, 12, 13, 14, 15, 17, 20,...  81.500091\n",
      "49  14.0  [2, 3, 4, 9, 10, 11, 16, 18, 25, 27, 30, 33, 3...  67.990253\n",
      "\n",
      "Optimal:\n",
      "\ts* = 8.0\n",
      "\tregressors = [3, 4, 6, 14, 16, 21, 32, 35]\n",
      "================================\n",
      "RANDOM INCLUDING WITH K = 100\n",
      "================================\n",
      "\n",
      "     s*                                        regressors*         Cp\n",
      "0   8.0                     [2, 6, 13, 14, 22, 24, 28, 35]  75.201344\n",
      "1  22.0  [1, 3, 4, 6, 8, 10, 11, 12, 13, 14, 15, 16, 17...  77.909137\n",
      "2  29.0  [1, 3, 4, 5, 8, 9, 10, 11, 13, 14, 15, 16, 17,...  90.436065\n",
      "3  12.0      [1, 4, 7, 14, 16, 20, 21, 23, 24, 26, 28, 34]  62.192281\n",
      "4  11.0         [7, 9, 11, 14, 16, 20, 21, 23, 25, 26, 35]  71.997229\n",
      "...\n",
      "      s*                                        regressors*         Cp\n",
      "95  15.0  [3, 4, 11, 13, 15, 19, 21, 22, 23, 25, 28, 31,...  74.607417\n",
      "96  15.0  [4, 6, 8, 14, 17, 20, 23, 24, 25, 26, 29, 30, ...  73.978790\n",
      "97  17.0  [1, 4, 6, 11, 13, 15, 17, 19, 21, 22, 24, 25, ...  77.140688\n",
      "98  13.0    [2, 4, 5, 6, 9, 11, 12, 16, 18, 20, 25, 32, 36]  62.207903\n",
      "99  16.0  [1, 2, 3, 4, 5, 8, 10, 11, 14, 23, 24, 25, 26,...  77.855122\n",
      "\n",
      "Optimal:\n",
      "\ts* = 11.0\n",
      "\tregressors = [4, 5, 6, 12, 14, 15, 16, 17, 18, 25, 34]\n"
     ]
    }
   ],
   "source": [
    "Ks = [10, 20, 50, 100]\n",
    "for K in Ks:\n",
    "    config3.run_single_random_RMNK_model_selection(K=K, criteria=['Cp'],\n",
    "                                                   main_criterion='Cp')"
   ]
  },
  {
   "cell_type": "markdown",
   "metadata": {},
   "source": [
    "## Пошук моделі. Метод перебірного включення"
   ]
  },
  {
   "cell_type": "code",
   "execution_count": null,
   "metadata": {},
   "outputs": [],
   "source": []
  }
 ],
 "metadata": {
  "kernelspec": {
   "display_name": "Python 3",
   "language": "python",
   "name": "python3"
  },
  "language_info": {
   "codemirror_mode": {
    "name": "ipython",
    "version": 3
   },
   "file_extension": ".py",
   "mimetype": "text/x-python",
   "name": "python",
   "nbconvert_exporter": "python",
   "pygments_lexer": "ipython3",
   "version": "3.6.4"
  }
 },
 "nbformat": 4,
 "nbformat_minor": 2
}
