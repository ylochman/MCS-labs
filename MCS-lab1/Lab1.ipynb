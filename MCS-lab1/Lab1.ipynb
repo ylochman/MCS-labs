{
 "cells": [
  {
   "cell_type": "code",
   "execution_count": 70,
   "metadata": {},
   "outputs": [],
   "source": [
    "from ipywidgets import *\n",
    "import numpy as np\n",
    "from scipy.integrate import odeint\n",
    "import matplotlib.pyplot as plt\n",
    "from IPython.display import display\n",
    "%matplotlib inline\n",
    "\n",
    "from pylab import rcParams\n",
    "rcParams['figure.figsize'] = 14, 6\n",
    "style = {'description_width': 'initial'}\n",
    "layout = Layout(width = '400px')\n",
    "models = [None] * 4 \n",
    "\n",
    "\n",
    "\n",
    "def model1(k, μ, N0):\n",
    "    def model1_eq(N,t):\n",
    "        return μ*N*(k-N)\n",
    "    \n",
    "    t = np.linspace(0, 30, num=200)\n",
    "\n",
    "    # solve ODE\n",
    "    N = odeint(model1_eq, N0, t)\n",
    "\n",
    "    # plot results\n",
    "    plt.plot(t,N)\n",
    "    plt.xlabel('t')\n",
    "    plt.ylabel('N(t)')\n",
    "    plt.show()\n",
    "\n",
    "def plot_model1(k, mu, N0):\n",
    "    description1 = Label(value=\"$N'=μN(k-N)$\")\n",
    "    k_val = FloatText(value=k, description = \\\n",
    "    'Ємність середовища (гранична чисельність): $k = $', step=0.1,\n",
    "                      style = style, layout = layout)\n",
    "    μ_val = FloatText(value=mu, description = \\\n",
    "    'Швидкість росту популяції: $μ = $', step=0.1, \n",
    "                      style = style, layout = layout)\n",
    "    N0_val = FloatText(value=N0, description = \\\n",
    "    'Початковий розмір популяції: $N_0 = $', step=0.1,\n",
    "                       style = style, layout = layout)\n",
    "    models[0] = VBox([description1, interactive(model1, k=k_val,\n",
    "                                                μ=μ_val, N0=N0_val,\n",
    "                                                continuous_update=True)])\n",
    "    display(models[0])\n",
    "    \n",
    "\n",
    "def model2(s, a, α, μ, q, k0):\n",
    "    def model2_eq(k,t):\n",
    "        return s*a*k**α-(μ+q)*k\n",
    "\n",
    "    t = np.linspace(0, 100, num=200)\n",
    "\n",
    "    # solve ODE\n",
    "    k = odeint(model2_eq, k0, t)\n",
    "\n",
    "    # plot results\n",
    "    plt.plot(t, k)\n",
    "    plt.xlabel('t')\n",
    "    plt.ylabel('k(t)')\n",
    "    plt.show()\n",
    "\n",
    "def plot_model2(s, a, alpha, mu, q, k0):\n",
    "    description2 = Label(value=\"$k'=sak^α-(μ+q)k$\")\n",
    "    s_val = FloatText(s, description = \\\n",
    "    'Норма накопичення: $s = $', step=0.1, style = style, layout = layout)\n",
    "    a_val = FloatText(a, description = \\\n",
    "    'Рівень розвитку економіки: $a = $', step=0.1,\n",
    "                      style = style, layout = layout)\n",
    "    α_val = FloatText(alpha, description = \\\n",
    "    'Частка капіталу у сукупній продукції: $α = $', step=0.1,\n",
    "                      style = style, layout = layout)\n",
    "    μ_val = FloatText(mu, description = \\\n",
    "    'Норма витрат на амортизацію: $μ = $', step=0.1,\n",
    "                      style = style, layout = layout)\n",
    "    q_val = FloatText(q, description = \\\n",
    "    'Темп приросту робочої сили: $q = $', step=0.1,\n",
    "                      style = style, layout = layout)\n",
    "    k0_val = FloatText(k0, description = \\\n",
    "    'Початкова капіталозабезпеченість: $k_0 = $', step=0.1,\n",
    "                       style = style, layout = layout)\n",
    "    models[1] = VBox([description2, interactive(model2, s=s_val,\n",
    "                                                a=a_val, α=α_val,\n",
    "                                                μ=μ_val, q=q_val, k0=k0_val,\n",
    "                                                continuous_update=True)])\n",
    "    display(models[1])\n",
    "    \n",
    "    \n",
    "def model3(δ, ω0, ω, f0, x0, x00):\n",
    "    \n",
    "    #x_0' = x_1 = x'\n",
    "    #x_1' = x'' = f0 * np.cos(ω * t) - 2 * δ * x[1] - (ω0 ** 2) * x[0]\n",
    "    def model3_eq(x,t):\n",
    "        return [x[1], f0 * np.cos(ω * t) - 2 * δ * x[1] - (ω0 ** 2) * x[0]]\n",
    "\n",
    "    t = np.linspace(0, 300, num=1000)\n",
    "\n",
    "    # solve ODE\n",
    "    x = odeint(model3_eq, np.array([x0, x00]), t)\n",
    "\n",
    "    # plot results\n",
    "    fig, ax = plt.subplots(nrows=1, ncols=2)\n",
    "    ax[0].plot(t, x[:,0])\n",
    "    ax[0].set_xlabel('t')\n",
    "    ax[0].set_ylabel('x(t)')\n",
    "    ax[1].plot(x[:,0], x[:,1])\n",
    "    ax[1].set_xlabel('x(t)')\n",
    "    ax[1].set_ylabel(\"x'(t)\")\n",
    "    plt.show()\n",
    "\n",
    "def plot_model3(delta, omega0, omega, f0, x0, x00):\n",
    "    description3 = Label(value=\"$x''+2δ x'+ω_0^2 x=f_0 cos(ωt)$\")\n",
    "    δ_val = FloatText(value=delta, description = \\\n",
    "    'Коефіцієнт згасання: $δ = $', step=0.1, style = style, layout = layout)\n",
    "    ω0_val = FloatText(value=omega0, description = \\\n",
    "    'Власна частота: $ω_0 = $', step=0.1, style = style, layout = layout)\n",
    "    ω_val = FloatText(value=omega, description = \\\n",
    "    'Частота зовнішньої сили: $ω = $', step=0.1,\n",
    "                      style = style, layout = layout)\n",
    "    f0_val = FloatText(value=f0, description = \\\n",
    "    'Амплітуда зовнішньої сили: $f_0 = $', step=0.1,\n",
    "                       style = style, layout = layout)\n",
    "    x0_val = FloatText(value=x0, description = \\\n",
    "    'Початкове положення: $x_0 = $', step=0.1,\n",
    "                       style = style, layout = layout)\n",
    "    x00_val = FloatText(value=x00, description = \\\n",
    "    \"Початкова швидкіть: $x_0' = $\", step=0.1,\n",
    "                        style = style, layout = layout)\n",
    "    models[2] = VBox([description3, interactive(model3, δ=δ_val, ω0=ω0_val,\n",
    "                                                ω=ω_val, f0=f0_val,\n",
    "                                                x0=x0_val, x00=x00_val,\n",
    "                                                continuous_update=True)])\n",
    "    display(models[2])\n",
    "    \n",
    "    \n",
    "def model4(αx, αy, βx, βy, x0, y0):\n",
    "    def model4_eq(x,t):\n",
    "        return [(αx * x[1] - βx) * x[0], (αy - x[0] * βy) * x[1]]\n",
    "    \n",
    "    t = np.linspace(0, 50, num=1000)\n",
    "\n",
    "    # solve ODE\n",
    "    x = odeint(model4_eq, np.array([x0, y0]), t)\n",
    "\n",
    "    # plot results\n",
    "    fig, ax = plt.subplots(nrows=1, ncols=2)\n",
    "    ax[0].plot(t, x[:,0], label = 'x(t)')\n",
    "    ax[0].plot(t, x[:,1], label = 'y(t)')\n",
    "    ax[0].legend()\n",
    "    ax[0].set_xlabel('t')\n",
    "    ax[1].plot(x[:,0], x[:,1])\n",
    "    if βy != 0 and αx != 0:\n",
    "        ax[1].scatter(αy/βy, βx/αx, s=25, c=4)\n",
    "    ax[1].set_xlabel('x(t)')\n",
    "    ax[1].set_ylabel(\"y(t)\")\n",
    "    plt.show()\n",
    "\n",
    "def plot_model4(alpha_x, alpha_y, beta_x, beta_y, x0, y0):\n",
    "    description4 = Label(value=\\\n",
    "    r\"\"\"$ \\bigg\\{ \\matrix{x'=(α_x y - β_x)x \\cr y'=(α_y - β_y x)y} $\"\"\",\n",
    "                         layout = Layout(height = '50px'))\n",
    "    αx_val = FloatText(value=alpha_x, description = \\\n",
    "   '\"Норма споживання\" жертв: $α_x = $', step=0.1, style = style, \n",
    "                       layout = layout)\n",
    "    αy_val = FloatText(value=alpha_y, description = \\\n",
    "   'Природна народжуваність жертв: $α_y = $', step=0.1, style = style, \n",
    "                       layout = layout)\n",
    "    βx_val = FloatText(value=beta_x, description = \\\n",
    "   'Природна смертність хижаків: $β_x = $', step=0.1, style = style, \n",
    "                       layout = layout)\n",
    "    βy_val = FloatText(value=beta_y, description = \\\n",
    "   '\"Норма споживаності\" жертв: $β_y = $', step=0.1, style = style, \n",
    "                       layout = layout)\n",
    "    x0_val = FloatText(value=x0, description = \\\n",
    "   'Початкова кількість хижаків: $x_0 = $', step=0.1, style = style, \n",
    "                       layout = layout)\n",
    "    y0_val = FloatText(value=y0, description = \\\n",
    "   \"Початкова кількість жертв: $y_0 = $\", step=0.1, style = style,\n",
    "                       layout = layout)\n",
    "    models[3] = VBox([description4, interactive(model4, αx=αx_val, αy=αy_val,\n",
    "                                                βx=βx_val, βy=βy_val,\n",
    "                                                x0=x0_val, y0=y0_val,\n",
    "                                                continuous_update=True)])\n",
    "    display(models[3])"
   ]
  },
  {
   "cell_type": "markdown",
   "metadata": {},
   "source": [
    "# Опис та аналіз математичних моделей"
   ]
  },
  {
   "cell_type": "markdown",
   "metadata": {},
   "source": [
    "## Динаміка росту популяції (модель Фергюльста)"
   ]
  },
  {
   "cell_type": "markdown",
   "metadata": {},
   "source": [
    "Описує динаміку росту популяції з урахуванням обмеженості ресурсів середовища:\n",
    "\n",
    "$ N'=μN(k-N) \\enspace | \\enspace N_0 $\n",
    "\n",
    "$ N $ – чисельність популяції\n",
    "\n",
    "$ µ $ – коефіцієнти народжуваності (приріст популяції за одиницю часу)\n",
    "\n",
    "$ k $ – ємність середовища (гранична чисельність популяції)\n",
    "\n",
    "$ N_0 $ – початкова чисельність популяції"
   ]
  },
  {
   "cell_type": "markdown",
   "metadata": {},
   "source": [
    "### Зростаючий процес"
   ]
  },
  {
   "cell_type": "code",
   "execution_count": 33,
   "metadata": {},
   "outputs": [
    {
     "data": {
      "application/vnd.jupyter.widget-view+json": {
       "model_id": "1f23752197534c0194a686bd58df42d0",
       "version_major": 2,
       "version_minor": 0
      },
      "text/html": [
       "<p>Failed to display Jupyter Widget of type <code>VBox</code>.</p>\n",
       "<p>\n",
       "  If you're reading this message in the Jupyter Notebook or JupyterLab Notebook, it may mean\n",
       "  that the widgets JavaScript is still loading. If this message persists, it\n",
       "  likely means that the widgets JavaScript library is either not installed or\n",
       "  not enabled. See the <a href=\"https://ipywidgets.readthedocs.io/en/stable/user_install.html\">Jupyter\n",
       "  Widgets Documentation</a> for setup instructions.\n",
       "</p>\n",
       "<p>\n",
       "  If you're reading this message in another frontend (for example, a static\n",
       "  rendering on GitHub or <a href=\"https://nbviewer.jupyter.org/\">NBViewer</a>),\n",
       "  it may mean that your frontend doesn't currently support widgets.\n",
       "</p>\n"
      ],
      "text/plain": [
       "VBox(children=(Label(value=\"$N'=μN(k-N)$\"), interactive(children=(FloatText(value=15.0, description='Ємність середовища (гранична чисельність): $k = $', layout=Layout(width='400px'), step=0.1, style=DescriptionStyle(description_width='initial')), FloatText(value=0.05, description='Швидкість росту популяції: $μ = $', layout=Layout(width='400px'), step=0.1, style=DescriptionStyle(description_width='initial')), FloatText(value=10.0, description='Початковий розмір популяції: $N_0 = $', layout=Layout(width='400px'), step=0.1, style=DescriptionStyle(description_width='initial')), Output()), _dom_classes=('widget-interact',))))"
      ]
     },
     "metadata": {},
     "output_type": "display_data"
    }
   ],
   "source": [
    "plot_model1(15, 0.05, 10)"
   ]
  },
  {
   "cell_type": "markdown",
   "metadata": {},
   "source": [
    "При $N0 < k$ та $\\mu > 0$ відбуватиметься зростання популяції аж до граничної чисельності."
   ]
  },
  {
   "cell_type": "code",
   "execution_count": 34,
   "metadata": {},
   "outputs": [
    {
     "data": {
      "application/vnd.jupyter.widget-view+json": {
       "model_id": "f7d463797d2541a78690cbcc81be7f1d",
       "version_major": 2,
       "version_minor": 0
      },
      "text/html": [
       "<p>Failed to display Jupyter Widget of type <code>VBox</code>.</p>\n",
       "<p>\n",
       "  If you're reading this message in the Jupyter Notebook or JupyterLab Notebook, it may mean\n",
       "  that the widgets JavaScript is still loading. If this message persists, it\n",
       "  likely means that the widgets JavaScript library is either not installed or\n",
       "  not enabled. See the <a href=\"https://ipywidgets.readthedocs.io/en/stable/user_install.html\">Jupyter\n",
       "  Widgets Documentation</a> for setup instructions.\n",
       "</p>\n",
       "<p>\n",
       "  If you're reading this message in another frontend (for example, a static\n",
       "  rendering on GitHub or <a href=\"https://nbviewer.jupyter.org/\">NBViewer</a>),\n",
       "  it may mean that your frontend doesn't currently support widgets.\n",
       "</p>\n"
      ],
      "text/plain": [
       "VBox(children=(Label(value=\"$N'=μN(k-N)$\"), interactive(children=(FloatText(value=15.0, description='Ємність середовища (гранична чисельність): $k = $', layout=Layout(width='400px'), step=0.1, style=DescriptionStyle(description_width='initial')), FloatText(value=0.05, description='Швидкість росту популяції: $μ = $', layout=Layout(width='400px'), step=0.1, style=DescriptionStyle(description_width='initial')), FloatText(value=0.5, description='Початковий розмір популяції: $N_0 = $', layout=Layout(width='400px'), step=0.1, style=DescriptionStyle(description_width='initial')), Output()), _dom_classes=('widget-interact',))))"
      ]
     },
     "metadata": {},
     "output_type": "display_data"
    }
   ],
   "source": [
    "plot_model1(15, 0.05, 0.5)"
   ]
  },
  {
   "cell_type": "markdown",
   "metadata": {},
   "source": [
    "При цьому до значення чисельності $k/2$ швидкість зростання збільшується, а після нього зменшується до нуля (до чисельності популяції $N=k$) - дійсно, вище це було виведено аналітично, і підтверджено експериментально."
   ]
  },
  {
   "cell_type": "markdown",
   "metadata": {},
   "source": [
    "### Стаціонарний процес"
   ]
  },
  {
   "cell_type": "code",
   "execution_count": 35,
   "metadata": {},
   "outputs": [
    {
     "data": {
      "application/vnd.jupyter.widget-view+json": {
       "model_id": "6c34cc2487714c1583257845186dc4f6",
       "version_major": 2,
       "version_minor": 0
      },
      "text/html": [
       "<p>Failed to display Jupyter Widget of type <code>VBox</code>.</p>\n",
       "<p>\n",
       "  If you're reading this message in the Jupyter Notebook or JupyterLab Notebook, it may mean\n",
       "  that the widgets JavaScript is still loading. If this message persists, it\n",
       "  likely means that the widgets JavaScript library is either not installed or\n",
       "  not enabled. See the <a href=\"https://ipywidgets.readthedocs.io/en/stable/user_install.html\">Jupyter\n",
       "  Widgets Documentation</a> for setup instructions.\n",
       "</p>\n",
       "<p>\n",
       "  If you're reading this message in another frontend (for example, a static\n",
       "  rendering on GitHub or <a href=\"https://nbviewer.jupyter.org/\">NBViewer</a>),\n",
       "  it may mean that your frontend doesn't currently support widgets.\n",
       "</p>\n"
      ],
      "text/plain": [
       "VBox(children=(Label(value=\"$N'=μN(k-N)$\"), interactive(children=(FloatText(value=100.0, description='Ємність середовища (гранична чисельність): $k = $', layout=Layout(width='400px'), step=0.1, style=DescriptionStyle(description_width='initial')), FloatText(value=0.05, description='Швидкість росту популяції: $μ = $', layout=Layout(width='400px'), step=0.1, style=DescriptionStyle(description_width='initial')), FloatText(value=0.0, description='Початковий розмір популяції: $N_0 = $', layout=Layout(width='400px'), step=0.1, style=DescriptionStyle(description_width='initial')), Output()), _dom_classes=('widget-interact',))))"
      ]
     },
     "metadata": {},
     "output_type": "display_data"
    }
   ],
   "source": [
    "plot_model1(100, 0.05, 0)"
   ]
  },
  {
   "cell_type": "markdown",
   "metadata": {},
   "source": [
    "При початковій нульовій чисельності популяції з часом нічого не змінюється. Дійсно, розмноження популяції не відбувається через її відсутність."
   ]
  },
  {
   "cell_type": "code",
   "execution_count": 36,
   "metadata": {
    "scrolled": false
   },
   "outputs": [
    {
     "data": {
      "application/vnd.jupyter.widget-view+json": {
       "model_id": "52ff49fe79ca4438b12bf5feba818a93",
       "version_major": 2,
       "version_minor": 0
      },
      "text/html": [
       "<p>Failed to display Jupyter Widget of type <code>VBox</code>.</p>\n",
       "<p>\n",
       "  If you're reading this message in the Jupyter Notebook or JupyterLab Notebook, it may mean\n",
       "  that the widgets JavaScript is still loading. If this message persists, it\n",
       "  likely means that the widgets JavaScript library is either not installed or\n",
       "  not enabled. See the <a href=\"https://ipywidgets.readthedocs.io/en/stable/user_install.html\">Jupyter\n",
       "  Widgets Documentation</a> for setup instructions.\n",
       "</p>\n",
       "<p>\n",
       "  If you're reading this message in another frontend (for example, a static\n",
       "  rendering on GitHub or <a href=\"https://nbviewer.jupyter.org/\">NBViewer</a>),\n",
       "  it may mean that your frontend doesn't currently support widgets.\n",
       "</p>\n"
      ],
      "text/plain": [
       "VBox(children=(Label(value=\"$N'=μN(k-N)$\"), interactive(children=(FloatText(value=100.0, description='Ємність середовища (гранична чисельність): $k = $', layout=Layout(width='400px'), step=0.1, style=DescriptionStyle(description_width='initial')), FloatText(value=0.05, description='Швидкість росту популяції: $μ = $', layout=Layout(width='400px'), step=0.1, style=DescriptionStyle(description_width='initial')), FloatText(value=100.0, description='Початковий розмір популяції: $N_0 = $', layout=Layout(width='400px'), step=0.1, style=DescriptionStyle(description_width='initial')), Output()), _dom_classes=('widget-interact',))))"
      ]
     },
     "metadata": {},
     "output_type": "display_data"
    }
   ],
   "source": [
    "plot_model1(100, 0.05, 100)"
   ]
  },
  {
   "cell_type": "markdown",
   "metadata": {},
   "source": [
    "За початкової чисельності, рівної граничній чисельності, через обмеженість ресурсів популяція далі зростати не може, тож вона залишається такою й надалі."
   ]
  },
  {
   "cell_type": "markdown",
   "metadata": {},
   "source": [
    "### Спадний процес"
   ]
  },
  {
   "cell_type": "code",
   "execution_count": 37,
   "metadata": {
    "scrolled": false
   },
   "outputs": [
    {
     "data": {
      "application/vnd.jupyter.widget-view+json": {
       "model_id": "181c767915b845bb81385b00a27d8ca1",
       "version_major": 2,
       "version_minor": 0
      },
      "text/html": [
       "<p>Failed to display Jupyter Widget of type <code>VBox</code>.</p>\n",
       "<p>\n",
       "  If you're reading this message in the Jupyter Notebook or JupyterLab Notebook, it may mean\n",
       "  that the widgets JavaScript is still loading. If this message persists, it\n",
       "  likely means that the widgets JavaScript library is either not installed or\n",
       "  not enabled. See the <a href=\"https://ipywidgets.readthedocs.io/en/stable/user_install.html\">Jupyter\n",
       "  Widgets Documentation</a> for setup instructions.\n",
       "</p>\n",
       "<p>\n",
       "  If you're reading this message in another frontend (for example, a static\n",
       "  rendering on GitHub or <a href=\"https://nbviewer.jupyter.org/\">NBViewer</a>),\n",
       "  it may mean that your frontend doesn't currently support widgets.\n",
       "</p>\n"
      ],
      "text/plain": [
       "VBox(children=(Label(value=\"$N'=μN(k-N)$\"), interactive(children=(FloatText(value=100.0, description='Ємність середовища (гранична чисельність): $k = $', layout=Layout(width='400px'), step=0.1, style=DescriptionStyle(description_width='initial')), FloatText(value=0.001, description='Швидкість росту популяції: $μ = $', layout=Layout(width='400px'), step=0.1, style=DescriptionStyle(description_width='initial')), FloatText(value=150.0, description='Початковий розмір популяції: $N_0 = $', layout=Layout(width='400px'), step=0.1, style=DescriptionStyle(description_width='initial')), Output()), _dom_classes=('widget-interact',))))"
      ]
     },
     "metadata": {},
     "output_type": "display_data"
    }
   ],
   "source": [
    "plot_model1(100, 0.001, 150)"
   ]
  },
  {
   "cell_type": "markdown",
   "metadata": {},
   "source": [
    "Коли $N_0 > k$, то спостерігається процес спадання $N$ до значення $k$. Це так само пов'язано з обмеженістю ресурсів."
   ]
  },
  {
   "cell_type": "markdown",
   "metadata": {},
   "source": [
    "### Повне вимирання"
   ]
  },
  {
   "cell_type": "code",
   "execution_count": 38,
   "metadata": {},
   "outputs": [
    {
     "data": {
      "application/vnd.jupyter.widget-view+json": {
       "model_id": "29fd606ff4204a94a6ba5ec3157e96eb",
       "version_major": 2,
       "version_minor": 0
      },
      "text/html": [
       "<p>Failed to display Jupyter Widget of type <code>VBox</code>.</p>\n",
       "<p>\n",
       "  If you're reading this message in the Jupyter Notebook or JupyterLab Notebook, it may mean\n",
       "  that the widgets JavaScript is still loading. If this message persists, it\n",
       "  likely means that the widgets JavaScript library is either not installed or\n",
       "  not enabled. See the <a href=\"https://ipywidgets.readthedocs.io/en/stable/user_install.html\">Jupyter\n",
       "  Widgets Documentation</a> for setup instructions.\n",
       "</p>\n",
       "<p>\n",
       "  If you're reading this message in another frontend (for example, a static\n",
       "  rendering on GitHub or <a href=\"https://nbviewer.jupyter.org/\">NBViewer</a>),\n",
       "  it may mean that your frontend doesn't currently support widgets.\n",
       "</p>\n"
      ],
      "text/plain": [
       "VBox(children=(Label(value=\"$N'=μN(k-N)$\"), interactive(children=(FloatText(value=100.0, description='Ємність середовища (гранична чисельність): $k = $', layout=Layout(width='400px'), step=0.1, style=DescriptionStyle(description_width='initial')), FloatText(value=-0.001, description='Швидкість росту популяції: $μ = $', layout=Layout(width='400px'), step=0.1, style=DescriptionStyle(description_width='initial')), FloatText(value=10.0, description='Початковий розмір популяції: $N_0 = $', layout=Layout(width='400px'), step=0.1, style=DescriptionStyle(description_width='initial')), Output()), _dom_classes=('widget-interact',))))"
      ]
     },
     "metadata": {},
     "output_type": "display_data"
    }
   ],
   "source": [
    "plot_model1(100, -0.001, 10)"
   ]
  },
  {
   "cell_type": "markdown",
   "metadata": {},
   "source": [
    "Якщо швидкість росту популяції від'ємна ($\\mu < 0$), тобто коли природна смертність більша за природну народжуваність, то при будь-якому $N_0 < k$ буде спостерігатися вимирання популяції (спадання $N$ до нуля)."
   ]
  },
  {
   "cell_type": "markdown",
   "metadata": {
    "collapsed": true
   },
   "source": [
    "## Односекторна модель економічної динаміки (модель Солоу)"
   ]
  },
  {
   "cell_type": "markdown",
   "metadata": {},
   "source": [
    "Економічна система виробляє один продукт, який як споживається, так і інвестується. Експорт і імпорт не враховуються. Стан економіки в моделі Солоу визначається за допомогою п'яти ендогенних змінних, що змінюються з часом\n",
    "\n",
    "$ k'=sak^\\alpha-(\\mu+g)k $\n",
    "\n",
    "$ a $ – рівень розвитку економіки\n",
    "\n",
    "$ 0 < \\alpha < 1 $ – частка капіталу в продукції\n",
    "  \n",
    "$ 0 < \\mu < 1 $ – норма витрат на амортизацію\n",
    "  \n",
    "$ 0 < s < 1 $ – норма накопичення\n",
    "  \n",
    "$ 0 < g < 1 $ – темп приросту робочої сили\n",
    " \n",
    "$ k_0 $ – початковий капітал"
   ]
  },
  {
   "cell_type": "markdown",
   "metadata": {},
   "source": [
    "### Значення вхідних параметрів для України"
   ]
  },
  {
   "cell_type": "code",
   "execution_count": 39,
   "metadata": {
    "scrolled": false
   },
   "outputs": [
    {
     "data": {
      "application/vnd.jupyter.widget-view+json": {
       "model_id": "20819f01e1df4221945282462068a98d",
       "version_major": 2,
       "version_minor": 0
      },
      "text/html": [
       "<p>Failed to display Jupyter Widget of type <code>VBox</code>.</p>\n",
       "<p>\n",
       "  If you're reading this message in the Jupyter Notebook or JupyterLab Notebook, it may mean\n",
       "  that the widgets JavaScript is still loading. If this message persists, it\n",
       "  likely means that the widgets JavaScript library is either not installed or\n",
       "  not enabled. See the <a href=\"https://ipywidgets.readthedocs.io/en/stable/user_install.html\">Jupyter\n",
       "  Widgets Documentation</a> for setup instructions.\n",
       "</p>\n",
       "<p>\n",
       "  If you're reading this message in another frontend (for example, a static\n",
       "  rendering on GitHub or <a href=\"https://nbviewer.jupyter.org/\">NBViewer</a>),\n",
       "  it may mean that your frontend doesn't currently support widgets.\n",
       "</p>\n"
      ],
      "text/plain": [
       "VBox(children=(Label(value=\"$k'=sak^α-(μ+q)k$\"), interactive(children=(FloatText(value=0.2, description='Норма накопичення: $s = $', layout=Layout(width='400px'), step=0.1, style=DescriptionStyle(description_width='initial')), FloatText(value=2.5, description='Рівень розвитку економіки: $a = $', layout=Layout(width='400px'), step=0.1, style=DescriptionStyle(description_width='initial')), FloatText(value=0.3, description='Частка капіталу у сукупній продукції: $α = $', layout=Layout(width='400px'), step=0.1, style=DescriptionStyle(description_width='initial')), FloatText(value=0.1, description='Норма витрат на амортизацію: $μ = $', layout=Layout(width='400px'), step=0.1, style=DescriptionStyle(description_width='initial')), FloatText(value=0.1, description='Темп приросту робочої сили: $q = $', layout=Layout(width='400px'), step=0.1, style=DescriptionStyle(description_width='initial')), FloatText(value=0.8, description='Початкова капіталозабезпеченість: $k_0 = $', layout=Layout(width='400px'), step=0.1, style=DescriptionStyle(description_width='initial')), Output()), _dom_classes=('widget-interact',))))"
      ]
     },
     "metadata": {},
     "output_type": "display_data"
    }
   ],
   "source": [
    "plot_model2(0.2, 2.5, 0.3, 0.1, 0.1, 0.8)"
   ]
  },
  {
   "cell_type": "markdown",
   "metadata": {},
   "source": [
    "Процес не містить точки перегину - капіталоозброєність буде зростати, але швидкість зростання зменшуватиметься."
   ]
  },
  {
   "cell_type": "markdown",
   "metadata": {},
   "source": [
    "### Зростаючий процес"
   ]
  },
  {
   "cell_type": "code",
   "execution_count": 40,
   "metadata": {},
   "outputs": [
    {
     "data": {
      "application/vnd.jupyter.widget-view+json": {
       "model_id": "66a2138fff8a4e8aab1cb0736489c2f0",
       "version_major": 2,
       "version_minor": 0
      },
      "text/html": [
       "<p>Failed to display Jupyter Widget of type <code>VBox</code>.</p>\n",
       "<p>\n",
       "  If you're reading this message in the Jupyter Notebook or JupyterLab Notebook, it may mean\n",
       "  that the widgets JavaScript is still loading. If this message persists, it\n",
       "  likely means that the widgets JavaScript library is either not installed or\n",
       "  not enabled. See the <a href=\"https://ipywidgets.readthedocs.io/en/stable/user_install.html\">Jupyter\n",
       "  Widgets Documentation</a> for setup instructions.\n",
       "</p>\n",
       "<p>\n",
       "  If you're reading this message in another frontend (for example, a static\n",
       "  rendering on GitHub or <a href=\"https://nbviewer.jupyter.org/\">NBViewer</a>),\n",
       "  it may mean that your frontend doesn't currently support widgets.\n",
       "</p>\n"
      ],
      "text/plain": [
       "VBox(children=(Label(value=\"$k'=sak^α-(μ+q)k$\"), interactive(children=(FloatText(value=0.2, description='Норма накопичення: $s = $', layout=Layout(width='400px'), step=0.1, style=DescriptionStyle(description_width='initial')), FloatText(value=2.5, description='Рівень розвитку економіки: $a = $', layout=Layout(width='400px'), step=0.1, style=DescriptionStyle(description_width='initial')), FloatText(value=0.8, description='Частка капіталу у сукупній продукції: $α = $', layout=Layout(width='400px'), step=0.1, style=DescriptionStyle(description_width='initial')), FloatText(value=0.1, description='Норма витрат на амортизацію: $μ = $', layout=Layout(width='400px'), step=0.1, style=DescriptionStyle(description_width='initial')), FloatText(value=0.1, description='Темп приросту робочої сили: $q = $', layout=Layout(width='400px'), step=0.1, style=DescriptionStyle(description_width='initial')), FloatText(value=0.1, description='Початкова капіталозабезпеченість: $k_0 = $', layout=Layout(width='400px'), step=0.1, style=DescriptionStyle(description_width='initial')), Output()), _dom_classes=('widget-interact',))))"
      ]
     },
     "metadata": {},
     "output_type": "display_data"
    }
   ],
   "source": [
    "plot_model2(0.2, 2.5, 0.8, 0.1, 0.1, 0.1)"
   ]
  },
  {
   "cell_type": "markdown",
   "metadata": {},
   "source": [
    "Приклад зростаючого розв'язку, де наявна точка перегину, до якої відбувається пришвидшене зростання. На відміну від параметрів для України, в цьому процесі було збільшено лише частку капіталу у сукіпній продукції, що дало суттєві результати (капіталоозброєність при $t=100$ зросла майже втричі)."
   ]
  },
  {
   "cell_type": "code",
   "execution_count": 41,
   "metadata": {
    "scrolled": false
   },
   "outputs": [
    {
     "data": {
      "application/vnd.jupyter.widget-view+json": {
       "model_id": "73f949a916044b8783ede5fc8e0c3f40",
       "version_major": 2,
       "version_minor": 0
      },
      "text/html": [
       "<p>Failed to display Jupyter Widget of type <code>VBox</code>.</p>\n",
       "<p>\n",
       "  If you're reading this message in the Jupyter Notebook or JupyterLab Notebook, it may mean\n",
       "  that the widgets JavaScript is still loading. If this message persists, it\n",
       "  likely means that the widgets JavaScript library is either not installed or\n",
       "  not enabled. See the <a href=\"https://ipywidgets.readthedocs.io/en/stable/user_install.html\">Jupyter\n",
       "  Widgets Documentation</a> for setup instructions.\n",
       "</p>\n",
       "<p>\n",
       "  If you're reading this message in another frontend (for example, a static\n",
       "  rendering on GitHub or <a href=\"https://nbviewer.jupyter.org/\">NBViewer</a>),\n",
       "  it may mean that your frontend doesn't currently support widgets.\n",
       "</p>\n"
      ],
      "text/plain": [
       "VBox(children=(Label(value=\"$k'=sak^α-(μ+q)k$\"), interactive(children=(FloatText(value=0.5, description='Норма накопичення: $s = $', layout=Layout(width='400px'), step=0.1, style=DescriptionStyle(description_width='initial')), FloatText(value=2.7, description='Рівень розвитку економіки: $a = $', layout=Layout(width='400px'), step=0.1, style=DescriptionStyle(description_width='initial')), FloatText(value=0.9, description='Частка капіталу у сукупній продукції: $α = $', layout=Layout(width='400px'), step=0.1, style=DescriptionStyle(description_width='initial')), FloatText(value=0.1, description='Норма витрат на амортизацію: $μ = $', layout=Layout(width='400px'), step=0.1, style=DescriptionStyle(description_width='initial')), FloatText(value=0.1, description='Темп приросту робочої сили: $q = $', layout=Layout(width='400px'), step=0.1, style=DescriptionStyle(description_width='initial')), FloatText(value=0.8, description='Початкова капіталозабезпеченість: $k_0 = $', layout=Layout(width='400px'), step=0.1, style=DescriptionStyle(description_width='initial')), Output()), _dom_classes=('widget-interact',))))"
      ]
     },
     "metadata": {},
     "output_type": "display_data"
    }
   ],
   "source": [
    "plot_model2(0.5, 2.7, 0.9, 0.1, 0.1, 0.8)"
   ]
  },
  {
   "cell_type": "markdown",
   "metadata": {},
   "source": [
    "При збільшенні норми накопичення, рівня розвитку економіки або частки капіталу у сукупній продукції можна суттєво збільшити капіталоозброєність та швидкість її зростання."
   ]
  },
  {
   "cell_type": "markdown",
   "metadata": {},
   "source": [
    "### Стаціонарний процес"
   ]
  },
  {
   "cell_type": "code",
   "execution_count": 42,
   "metadata": {},
   "outputs": [
    {
     "data": {
      "application/vnd.jupyter.widget-view+json": {
       "model_id": "088a9bce73394717b79a16c263984f44",
       "version_major": 2,
       "version_minor": 0
      },
      "text/html": [
       "<p>Failed to display Jupyter Widget of type <code>VBox</code>.</p>\n",
       "<p>\n",
       "  If you're reading this message in the Jupyter Notebook or JupyterLab Notebook, it may mean\n",
       "  that the widgets JavaScript is still loading. If this message persists, it\n",
       "  likely means that the widgets JavaScript library is either not installed or\n",
       "  not enabled. See the <a href=\"https://ipywidgets.readthedocs.io/en/stable/user_install.html\">Jupyter\n",
       "  Widgets Documentation</a> for setup instructions.\n",
       "</p>\n",
       "<p>\n",
       "  If you're reading this message in another frontend (for example, a static\n",
       "  rendering on GitHub or <a href=\"https://nbviewer.jupyter.org/\">NBViewer</a>),\n",
       "  it may mean that your frontend doesn't currently support widgets.\n",
       "</p>\n"
      ],
      "text/plain": [
       "VBox(children=(Label(value=\"$k'=sak^α-(μ+q)k$\"), interactive(children=(FloatText(value=0.2, description='Норма накопичення: $s = $', layout=Layout(width='400px'), step=0.1, style=DescriptionStyle(description_width='initial')), FloatText(value=2.5, description='Рівень розвитку економіки: $a = $', layout=Layout(width='400px'), step=0.1, style=DescriptionStyle(description_width='initial')), FloatText(value=0.3, description='Частка капіталу у сукупній продукції: $α = $', layout=Layout(width='400px'), step=0.1, style=DescriptionStyle(description_width='initial')), FloatText(value=0.1, description='Норма витрат на амортизацію: $μ = $', layout=Layout(width='400px'), step=0.1, style=DescriptionStyle(description_width='initial')), FloatText(value=0.1, description='Темп приросту робочої сили: $q = $', layout=Layout(width='400px'), step=0.1, style=DescriptionStyle(description_width='initial')), FloatText(value=0.0, description='Початкова капіталозабезпеченість: $k_0 = $', layout=Layout(width='400px'), step=0.1, style=DescriptionStyle(description_width='initial')), Output()), _dom_classes=('widget-interact',))))"
      ]
     },
     "metadata": {},
     "output_type": "display_data"
    }
   ],
   "source": [
    "plot_model2(0.2, 2.5, 0.3, 0.1, 0.1, 0)"
   ]
  },
  {
   "cell_type": "markdown",
   "metadata": {},
   "source": [
    "Тривіальний стаціонарний розв'язок - $k_0 = 0$ (відсутність інвестицій)"
   ]
  },
  {
   "cell_type": "code",
   "execution_count": 43,
   "metadata": {},
   "outputs": [
    {
     "data": {
      "application/vnd.jupyter.widget-view+json": {
       "model_id": "4b3804b81332497394df0d52613f29ae",
       "version_major": 2,
       "version_minor": 0
      },
      "text/html": [
       "<p>Failed to display Jupyter Widget of type <code>VBox</code>.</p>\n",
       "<p>\n",
       "  If you're reading this message in the Jupyter Notebook or JupyterLab Notebook, it may mean\n",
       "  that the widgets JavaScript is still loading. If this message persists, it\n",
       "  likely means that the widgets JavaScript library is either not installed or\n",
       "  not enabled. See the <a href=\"https://ipywidgets.readthedocs.io/en/stable/user_install.html\">Jupyter\n",
       "  Widgets Documentation</a> for setup instructions.\n",
       "</p>\n",
       "<p>\n",
       "  If you're reading this message in another frontend (for example, a static\n",
       "  rendering on GitHub or <a href=\"https://nbviewer.jupyter.org/\">NBViewer</a>),\n",
       "  it may mean that your frontend doesn't currently support widgets.\n",
       "</p>\n"
      ],
      "text/plain": [
       "VBox(children=(Label(value=\"$k'=sak^α-(μ+q)k$\"), interactive(children=(FloatText(value=0.2, description='Норма накопичення: $s = $', layout=Layout(width='400px'), step=0.1, style=DescriptionStyle(description_width='initial')), FloatText(value=2.5, description='Рівень розвитку економіки: $a = $', layout=Layout(width='400px'), step=0.1, style=DescriptionStyle(description_width='initial')), FloatText(value=0.3, description='Частка капіталу у сукупній продукції: $α = $', layout=Layout(width='400px'), step=0.1, style=DescriptionStyle(description_width='initial')), FloatText(value=0.1, description='Норма витрат на амортизацію: $μ = $', layout=Layout(width='400px'), step=0.1, style=DescriptionStyle(description_width='initial')), FloatText(value=0.1, description='Темп приросту робочої сили: $q = $', layout=Layout(width='400px'), step=0.1, style=DescriptionStyle(description_width='initial')), FloatText(value=3.7024203699314673, description='Початкова капіталозабезпеченість: $k_0 = $', layout=Layout(width='400px'), step=0.1, style=DescriptionStyle(description_width='initial')), Output()), _dom_classes=('widget-interact',))))"
      ]
     },
     "metadata": {},
     "output_type": "display_data"
    }
   ],
   "source": [
    "s = 0.2\n",
    "a = 2.5\n",
    "alpha = 0.3\n",
    "mu = 0.1\n",
    "g = 0.1\n",
    "k = (s * a / (mu + g)) ** (1 / (1 - alpha))\n",
    "plot_model2(s, a, alpha, mu, g, k)"
   ]
  },
  {
   "cell_type": "markdown",
   "metadata": {},
   "source": [
    "Стаціонарний розв'язок при $k_0 = (\\frac{sa}{\\mu+g})^{\\frac{1}{1-\\alpha}}$ - капіталоозброєність залишатиметься такою і надалі."
   ]
  },
  {
   "cell_type": "markdown",
   "metadata": {},
   "source": [
    "### Спадний процес"
   ]
  },
  {
   "cell_type": "code",
   "execution_count": 44,
   "metadata": {
    "scrolled": false
   },
   "outputs": [
    {
     "data": {
      "application/vnd.jupyter.widget-view+json": {
       "model_id": "e5551d07d97c4ab3b2afc6980280dcdd",
       "version_major": 2,
       "version_minor": 0
      },
      "text/html": [
       "<p>Failed to display Jupyter Widget of type <code>VBox</code>.</p>\n",
       "<p>\n",
       "  If you're reading this message in the Jupyter Notebook or JupyterLab Notebook, it may mean\n",
       "  that the widgets JavaScript is still loading. If this message persists, it\n",
       "  likely means that the widgets JavaScript library is either not installed or\n",
       "  not enabled. See the <a href=\"https://ipywidgets.readthedocs.io/en/stable/user_install.html\">Jupyter\n",
       "  Widgets Documentation</a> for setup instructions.\n",
       "</p>\n",
       "<p>\n",
       "  If you're reading this message in another frontend (for example, a static\n",
       "  rendering on GitHub or <a href=\"https://nbviewer.jupyter.org/\">NBViewer</a>),\n",
       "  it may mean that your frontend doesn't currently support widgets.\n",
       "</p>\n"
      ],
      "text/plain": [
       "VBox(children=(Label(value=\"$k'=sak^α-(μ+q)k$\"), interactive(children=(FloatText(value=0.2, description='Норма накопичення: $s = $', layout=Layout(width='400px'), step=0.1, style=DescriptionStyle(description_width='initial')), FloatText(value=2.5, description='Рівень розвитку економіки: $a = $', layout=Layout(width='400px'), step=0.1, style=DescriptionStyle(description_width='initial')), FloatText(value=0.3, description='Частка капіталу у сукупній продукції: $α = $', layout=Layout(width='400px'), step=0.1, style=DescriptionStyle(description_width='initial')), FloatText(value=0.1, description='Норма витрат на амортизацію: $μ = $', layout=Layout(width='400px'), step=0.1, style=DescriptionStyle(description_width='initial')), FloatText(value=0.1, description='Темп приросту робочої сили: $q = $', layout=Layout(width='400px'), step=0.1, style=DescriptionStyle(description_width='initial')), FloatText(value=3.8, description='Початкова капіталозабезпеченість: $k_0 = $', layout=Layout(width='400px'), step=0.1, style=DescriptionStyle(description_width='initial')), Output()), _dom_classes=('widget-interact',))))"
      ]
     },
     "metadata": {},
     "output_type": "display_data"
    }
   ],
   "source": [
    "plot_model2(0.2, 2.5, 0.3, 0.1, 0.1, 3.8)"
   ]
  },
  {
   "cell_type": "markdown",
   "metadata": {},
   "source": [
    "Коли початкова капіталозброєність більша, ніж стаціонарний стан ($k_0 > (\\frac{sa}{\\mu+g})^{\\frac{1}{1-\\alpha}}$), спостерігається явище \"проїдання фондів\", коли при недостатньо високому рівні економіки і невеликій частці капіталу у сукупній продукції вкладають багато інвестицій."
   ]
  },
  {
   "cell_type": "markdown",
   "metadata": {
    "collapsed": true
   },
   "source": [
    "## Вимушені коливання"
   ]
  },
  {
   "cell_type": "markdown",
   "metadata": {},
   "source": [
    "$ x''+2\\delta x'+\\omega_0^2 x=0 $\n",
    "\n",
    "$ \\delta $ - коефіцієнт згасання\n",
    "\n",
    "$ ω_0 $ - власна частота коливань\n",
    "\n",
    "$ ω $ – частота коливань зовнішньої сили\n",
    "\n",
    "$ f_0 $ – амплітуда зовнішньої сили"
   ]
  },
  {
   "cell_type": "markdown",
   "metadata": {},
   "source": [
    "### Гармонічні коливання"
   ]
  },
  {
   "cell_type": "code",
   "execution_count": 45,
   "metadata": {
    "code_folding": []
   },
   "outputs": [
    {
     "data": {
      "application/vnd.jupyter.widget-view+json": {
       "model_id": "13f99b16b4aa45bab780e0ee9ab66880",
       "version_major": 2,
       "version_minor": 0
      },
      "text/html": [
       "<p>Failed to display Jupyter Widget of type <code>VBox</code>.</p>\n",
       "<p>\n",
       "  If you're reading this message in the Jupyter Notebook or JupyterLab Notebook, it may mean\n",
       "  that the widgets JavaScript is still loading. If this message persists, it\n",
       "  likely means that the widgets JavaScript library is either not installed or\n",
       "  not enabled. See the <a href=\"https://ipywidgets.readthedocs.io/en/stable/user_install.html\">Jupyter\n",
       "  Widgets Documentation</a> for setup instructions.\n",
       "</p>\n",
       "<p>\n",
       "  If you're reading this message in another frontend (for example, a static\n",
       "  rendering on GitHub or <a href=\"https://nbviewer.jupyter.org/\">NBViewer</a>),\n",
       "  it may mean that your frontend doesn't currently support widgets.\n",
       "</p>\n"
      ],
      "text/plain": [
       "VBox(children=(Label(value=\"$x''+2δ x'+ω_0^2 x=f_0 cos(ωt)$\"), interactive(children=(FloatText(value=0.0, description='Коефіцієнт згасання: $δ = $', layout=Layout(width='400px'), step=0.1, style=DescriptionStyle(description_width='initial')), FloatText(value=0.4, description='Власна частота: $ω_0 = $', layout=Layout(width='400px'), step=0.1, style=DescriptionStyle(description_width='initial')), FloatText(value=0.0, description='Частота зовнішньої сили: $ω = $', layout=Layout(width='400px'), step=0.1, style=DescriptionStyle(description_width='initial')), FloatText(value=0.0, description='Амплітуда зовнішньої сили: $f_0 = $', layout=Layout(width='400px'), step=0.1, style=DescriptionStyle(description_width='initial')), FloatText(value=0.3, description='Початкове положення: $x_0 = $', layout=Layout(width='400px'), step=0.1, style=DescriptionStyle(description_width='initial')), FloatText(value=0.2, description=\"Початкова швидкіть: $x_0' = $\", layout=Layout(width='400px'), step=0.1, style=DescriptionStyle(description_width='initial')), Output()), _dom_classes=('widget-interact',))))"
      ]
     },
     "metadata": {},
     "output_type": "display_data"
    }
   ],
   "source": [
    "plot_model3(0, 0.4, 0, 0, 0.3, 0.2)"
   ]
  },
  {
   "cell_type": "markdown",
   "metadata": {},
   "source": [
    "Графік гармонічних коливань (коли $\\delta = 0$, $f_0 = 0$). Амплітуда не міняється з часом, немає ніяких зовнішніх сил."
   ]
  },
  {
   "cell_type": "markdown",
   "metadata": {},
   "source": [
    "### Згасаючі коливання"
   ]
  },
  {
   "cell_type": "code",
   "execution_count": 46,
   "metadata": {
    "code_folding": []
   },
   "outputs": [
    {
     "data": {
      "application/vnd.jupyter.widget-view+json": {
       "model_id": "b3c3c9273f50407092c65c497b8dc4f1",
       "version_major": 2,
       "version_minor": 0
      },
      "text/html": [
       "<p>Failed to display Jupyter Widget of type <code>VBox</code>.</p>\n",
       "<p>\n",
       "  If you're reading this message in the Jupyter Notebook or JupyterLab Notebook, it may mean\n",
       "  that the widgets JavaScript is still loading. If this message persists, it\n",
       "  likely means that the widgets JavaScript library is either not installed or\n",
       "  not enabled. See the <a href=\"https://ipywidgets.readthedocs.io/en/stable/user_install.html\">Jupyter\n",
       "  Widgets Documentation</a> for setup instructions.\n",
       "</p>\n",
       "<p>\n",
       "  If you're reading this message in another frontend (for example, a static\n",
       "  rendering on GitHub or <a href=\"https://nbviewer.jupyter.org/\">NBViewer</a>),\n",
       "  it may mean that your frontend doesn't currently support widgets.\n",
       "</p>\n"
      ],
      "text/plain": [
       "VBox(children=(Label(value=\"$x''+2δ x'+ω_0^2 x=f_0 cos(ωt)$\"), interactive(children=(FloatText(value=0.1, description='Коефіцієнт згасання: $δ = $', layout=Layout(width='400px'), step=0.1, style=DescriptionStyle(description_width='initial')), FloatText(value=0.7, description='Власна частота: $ω_0 = $', layout=Layout(width='400px'), step=0.1, style=DescriptionStyle(description_width='initial')), FloatText(value=0.0, description='Частота зовнішньої сили: $ω = $', layout=Layout(width='400px'), step=0.1, style=DescriptionStyle(description_width='initial')), FloatText(value=0.0, description='Амплітуда зовнішньої сили: $f_0 = $', layout=Layout(width='400px'), step=0.1, style=DescriptionStyle(description_width='initial')), FloatText(value=0.4, description='Початкове положення: $x_0 = $', layout=Layout(width='400px'), step=0.1, style=DescriptionStyle(description_width='initial')), FloatText(value=1.4, description=\"Початкова швидкіть: $x_0' = $\", layout=Layout(width='400px'), step=0.1, style=DescriptionStyle(description_width='initial')), Output()), _dom_classes=('widget-interact',))))"
      ]
     },
     "metadata": {},
     "output_type": "display_data"
    }
   ],
   "source": [
    "plot_model3(0.1, 0.7, 0, 0, 0.4, 1.4)"
   ]
  },
  {
   "cell_type": "markdown",
   "metadata": {},
   "source": [
    "Графік згасаючих коливань, коли коефіцієнт згасання $0 < δ < 1$ (енергія коливань зменшується з плином часу, наприклад, під дією сил опору середовища). Зовнішня сила відсутня $f_0=0$. Амплітуда коливань в цьому випадку спадає експоненційно: $A(t)=C e^{-\\zeta \\delta _{0}t}$, де $C$ залежить від початкових умов."
   ]
  },
  {
   "cell_type": "code",
   "execution_count": 47,
   "metadata": {
    "scrolled": false
   },
   "outputs": [
    {
     "data": {
      "application/vnd.jupyter.widget-view+json": {
       "model_id": "a488841070da43b194c5f33bb104e933",
       "version_major": 2,
       "version_minor": 0
      },
      "text/html": [
       "<p>Failed to display Jupyter Widget of type <code>VBox</code>.</p>\n",
       "<p>\n",
       "  If you're reading this message in the Jupyter Notebook or JupyterLab Notebook, it may mean\n",
       "  that the widgets JavaScript is still loading. If this message persists, it\n",
       "  likely means that the widgets JavaScript library is either not installed or\n",
       "  not enabled. See the <a href=\"https://ipywidgets.readthedocs.io/en/stable/user_install.html\">Jupyter\n",
       "  Widgets Documentation</a> for setup instructions.\n",
       "</p>\n",
       "<p>\n",
       "  If you're reading this message in another frontend (for example, a static\n",
       "  rendering on GitHub or <a href=\"https://nbviewer.jupyter.org/\">NBViewer</a>),\n",
       "  it may mean that your frontend doesn't currently support widgets.\n",
       "</p>\n"
      ],
      "text/plain": [
       "VBox(children=(Label(value=\"$x''+2δ x'+ω_0^2 x=f_0 cos(ωt)$\"), interactive(children=(FloatText(value=1.0, description='Коефіцієнт згасання: $δ = $', layout=Layout(width='400px'), step=0.1, style=DescriptionStyle(description_width='initial')), FloatText(value=0.7, description='Власна частота: $ω_0 = $', layout=Layout(width='400px'), step=0.1, style=DescriptionStyle(description_width='initial')), FloatText(value=0.0, description='Частота зовнішньої сили: $ω = $', layout=Layout(width='400px'), step=0.1, style=DescriptionStyle(description_width='initial')), FloatText(value=0.0, description='Амплітуда зовнішньої сили: $f_0 = $', layout=Layout(width='400px'), step=0.1, style=DescriptionStyle(description_width='initial')), FloatText(value=4.1, description='Початкове положення: $x_0 = $', layout=Layout(width='400px'), step=0.1, style=DescriptionStyle(description_width='initial')), FloatText(value=-0.1, description=\"Початкова швидкіть: $x_0' = $\", layout=Layout(width='400px'), step=0.1, style=DescriptionStyle(description_width='initial')), Output()), _dom_classes=('widget-interact',))))"
      ]
     },
     "metadata": {},
     "output_type": "display_data"
    }
   ],
   "source": [
    "plot_model3(1, 0.7, 0, 0, 4.1, -0.1)"
   ]
  },
  {
   "cell_type": "markdown",
   "metadata": {},
   "source": [
    "Вище зображено графік згасаючих коливань, коли коефіцієнт згасання $δ = 1$, а зовнішня сила відсутня $f_0=0$. При цьому коливання відсутні і розв'язок спадає відповідно до наступного закону: ${\\displaystyle x(t)=(c_{1}t+c_{2})e^{-\\omega _{o}t}}$, де $c_1$ і $c_2$ знаходяться через початкові умови."
   ]
  },
  {
   "cell_type": "code",
   "execution_count": 48,
   "metadata": {
    "scrolled": false
   },
   "outputs": [
    {
     "data": {
      "application/vnd.jupyter.widget-view+json": {
       "model_id": "cb5b7a357824477ea0c2df4fc995b1fc",
       "version_major": 2,
       "version_minor": 0
      },
      "text/html": [
       "<p>Failed to display Jupyter Widget of type <code>VBox</code>.</p>\n",
       "<p>\n",
       "  If you're reading this message in the Jupyter Notebook or JupyterLab Notebook, it may mean\n",
       "  that the widgets JavaScript is still loading. If this message persists, it\n",
       "  likely means that the widgets JavaScript library is either not installed or\n",
       "  not enabled. See the <a href=\"https://ipywidgets.readthedocs.io/en/stable/user_install.html\">Jupyter\n",
       "  Widgets Documentation</a> for setup instructions.\n",
       "</p>\n",
       "<p>\n",
       "  If you're reading this message in another frontend (for example, a static\n",
       "  rendering on GitHub or <a href=\"https://nbviewer.jupyter.org/\">NBViewer</a>),\n",
       "  it may mean that your frontend doesn't currently support widgets.\n",
       "</p>\n"
      ],
      "text/plain": [
       "VBox(children=(Label(value=\"$x''+2δ x'+ω_0^2 x=f_0 cos(ωt)$\"), interactive(children=(FloatText(value=2.0, description='Коефіцієнт згасання: $δ = $', layout=Layout(width='400px'), step=0.1, style=DescriptionStyle(description_width='initial')), FloatText(value=0.7, description='Власна частота: $ω_0 = $', layout=Layout(width='400px'), step=0.1, style=DescriptionStyle(description_width='initial')), FloatText(value=0.0, description='Частота зовнішньої сили: $ω = $', layout=Layout(width='400px'), step=0.1, style=DescriptionStyle(description_width='initial')), FloatText(value=0.0, description='Амплітуда зовнішньої сили: $f_0 = $', layout=Layout(width='400px'), step=0.1, style=DescriptionStyle(description_width='initial')), FloatText(value=4.1, description='Початкове положення: $x_0 = $', layout=Layout(width='400px'), step=0.1, style=DescriptionStyle(description_width='initial')), FloatText(value=-0.1, description=\"Початкова швидкіть: $x_0' = $\", layout=Layout(width='400px'), step=0.1, style=DescriptionStyle(description_width='initial')), Output()), _dom_classes=('widget-interact',))))"
      ]
     },
     "metadata": {},
     "output_type": "display_data"
    }
   ],
   "source": [
    "plot_model3(2, 0.7, 0, 0, 4.1, -0.1)"
   ]
  },
  {
   "cell_type": "markdown",
   "metadata": {},
   "source": [
    "Вище зображено графік згасаючих коливань, коли коефіцієнт згасання $δ > 1$, а зовнішня сила відсутня $f_0=0$. При цьому коливання відсутні і розв'язок експоненційно спадає відповідно до наступного закону: ${\\displaystyle x(t)=c_{1}e^{\\lambda _{-}\\,t}+c_{2}e^{\\lambda _{+}\\,t}}$, де $c_1$ і $c_2$ знаходяться через початкові умови."
   ]
  },
  {
   "cell_type": "markdown",
   "metadata": {},
   "source": [
    "### Вимушені коливання"
   ]
  },
  {
   "cell_type": "code",
   "execution_count": 49,
   "metadata": {},
   "outputs": [
    {
     "data": {
      "application/vnd.jupyter.widget-view+json": {
       "model_id": "52f75f391f06470cbefb2a068af4fbc2",
       "version_major": 2,
       "version_minor": 0
      },
      "text/html": [
       "<p>Failed to display Jupyter Widget of type <code>VBox</code>.</p>\n",
       "<p>\n",
       "  If you're reading this message in the Jupyter Notebook or JupyterLab Notebook, it may mean\n",
       "  that the widgets JavaScript is still loading. If this message persists, it\n",
       "  likely means that the widgets JavaScript library is either not installed or\n",
       "  not enabled. See the <a href=\"https://ipywidgets.readthedocs.io/en/stable/user_install.html\">Jupyter\n",
       "  Widgets Documentation</a> for setup instructions.\n",
       "</p>\n",
       "<p>\n",
       "  If you're reading this message in another frontend (for example, a static\n",
       "  rendering on GitHub or <a href=\"https://nbviewer.jupyter.org/\">NBViewer</a>),\n",
       "  it may mean that your frontend doesn't currently support widgets.\n",
       "</p>\n"
      ],
      "text/plain": [
       "VBox(children=(Label(value=\"$x''+2δ x'+ω_0^2 x=f_0 cos(ωt)$\"), interactive(children=(FloatText(value=0.01, description='Коефіцієнт згасання: $δ = $', layout=Layout(width='400px'), step=0.1, style=DescriptionStyle(description_width='initial')), FloatText(value=0.9, description='Власна частота: $ω_0 = $', layout=Layout(width='400px'), step=0.1, style=DescriptionStyle(description_width='initial')), FloatText(value=0.8, description='Частота зовнішньої сили: $ω = $', layout=Layout(width='400px'), step=0.1, style=DescriptionStyle(description_width='initial')), FloatText(value=50.0, description='Амплітуда зовнішньої сили: $f_0 = $', layout=Layout(width='400px'), step=0.1, style=DescriptionStyle(description_width='initial')), FloatText(value=0.4, description='Початкове положення: $x_0 = $', layout=Layout(width='400px'), step=0.1, style=DescriptionStyle(description_width='initial')), FloatText(value=1.4, description=\"Початкова швидкіть: $x_0' = $\", layout=Layout(width='400px'), step=0.1, style=DescriptionStyle(description_width='initial')), Output()), _dom_classes=('widget-interact',))))"
      ]
     },
     "metadata": {},
     "output_type": "display_data"
    }
   ],
   "source": [
    "plot_model3(0.01, 0.9, 0.8, 50, 0.4, 1.4)"
   ]
  },
  {
   "cell_type": "markdown",
   "metadata": {},
   "source": [
    "Вимушені коливання при відсутності резонансу, графік розв'язку містить дві частоти - зовнішню і внутрішню. Вище зображено випадок, коли $\\omega_0 > \\omega$"
   ]
  },
  {
   "cell_type": "code",
   "execution_count": 50,
   "metadata": {},
   "outputs": [
    {
     "data": {
      "application/vnd.jupyter.widget-view+json": {
       "model_id": "5b019b300e5d486fb91ffdd3a1c0b981",
       "version_major": 2,
       "version_minor": 0
      },
      "text/html": [
       "<p>Failed to display Jupyter Widget of type <code>VBox</code>.</p>\n",
       "<p>\n",
       "  If you're reading this message in the Jupyter Notebook or JupyterLab Notebook, it may mean\n",
       "  that the widgets JavaScript is still loading. If this message persists, it\n",
       "  likely means that the widgets JavaScript library is either not installed or\n",
       "  not enabled. See the <a href=\"https://ipywidgets.readthedocs.io/en/stable/user_install.html\">Jupyter\n",
       "  Widgets Documentation</a> for setup instructions.\n",
       "</p>\n",
       "<p>\n",
       "  If you're reading this message in another frontend (for example, a static\n",
       "  rendering on GitHub or <a href=\"https://nbviewer.jupyter.org/\">NBViewer</a>),\n",
       "  it may mean that your frontend doesn't currently support widgets.\n",
       "</p>\n"
      ],
      "text/plain": [
       "VBox(children=(Label(value=\"$x''+2δ x'+ω_0^2 x=f_0 cos(ωt)$\"), interactive(children=(FloatText(value=0.01, description='Коефіцієнт згасання: $δ = $', layout=Layout(width='400px'), step=0.1, style=DescriptionStyle(description_width='initial')), FloatText(value=0.8, description='Власна частота: $ω_0 = $', layout=Layout(width='400px'), step=0.1, style=DescriptionStyle(description_width='initial')), FloatText(value=1.3, description='Частота зовнішньої сили: $ω = $', layout=Layout(width='400px'), step=0.1, style=DescriptionStyle(description_width='initial')), FloatText(value=50.0, description='Амплітуда зовнішньої сили: $f_0 = $', layout=Layout(width='400px'), step=0.1, style=DescriptionStyle(description_width='initial')), FloatText(value=0.4, description='Початкове положення: $x_0 = $', layout=Layout(width='400px'), step=0.1, style=DescriptionStyle(description_width='initial')), FloatText(value=1.4, description=\"Початкова швидкіть: $x_0' = $\", layout=Layout(width='400px'), step=0.1, style=DescriptionStyle(description_width='initial')), Output()), _dom_classes=('widget-interact',))))"
      ]
     },
     "metadata": {},
     "output_type": "display_data"
    }
   ],
   "source": [
    "plot_model3(0.01, 0.8, 1.3, 50, 0.4, 1.4)"
   ]
  },
  {
   "cell_type": "markdown",
   "metadata": {},
   "source": [
    "Вимушені коливання, коли $\\omega_0 < \\omega$"
   ]
  },
  {
   "cell_type": "code",
   "execution_count": 51,
   "metadata": {},
   "outputs": [
    {
     "data": {
      "application/vnd.jupyter.widget-view+json": {
       "model_id": "961eb0d559ad4e67b46c6355d1e836e7",
       "version_major": 2,
       "version_minor": 0
      },
      "text/html": [
       "<p>Failed to display Jupyter Widget of type <code>VBox</code>.</p>\n",
       "<p>\n",
       "  If you're reading this message in the Jupyter Notebook or JupyterLab Notebook, it may mean\n",
       "  that the widgets JavaScript is still loading. If this message persists, it\n",
       "  likely means that the widgets JavaScript library is either not installed or\n",
       "  not enabled. See the <a href=\"https://ipywidgets.readthedocs.io/en/stable/user_install.html\">Jupyter\n",
       "  Widgets Documentation</a> for setup instructions.\n",
       "</p>\n",
       "<p>\n",
       "  If you're reading this message in another frontend (for example, a static\n",
       "  rendering on GitHub or <a href=\"https://nbviewer.jupyter.org/\">NBViewer</a>),\n",
       "  it may mean that your frontend doesn't currently support widgets.\n",
       "</p>\n"
      ],
      "text/plain": [
       "VBox(children=(Label(value=\"$x''+2δ x'+ω_0^2 x=f_0 cos(ωt)$\"), interactive(children=(FloatText(value=0.01, description='Коефіцієнт згасання: $δ = $', layout=Layout(width='400px'), step=0.1, style=DescriptionStyle(description_width='initial')), FloatText(value=0.7, description='Власна частота: $ω_0 = $', layout=Layout(width='400px'), step=0.1, style=DescriptionStyle(description_width='initial')), FloatText(value=0.7, description='Частота зовнішньої сили: $ω = $', layout=Layout(width='400px'), step=0.1, style=DescriptionStyle(description_width='initial')), FloatText(value=50.0, description='Амплітуда зовнішньої сили: $f_0 = $', layout=Layout(width='400px'), step=0.1, style=DescriptionStyle(description_width='initial')), FloatText(value=0.4, description='Початкове положення: $x_0 = $', layout=Layout(width='400px'), step=0.1, style=DescriptionStyle(description_width='initial')), FloatText(value=1.4, description=\"Початкова швидкіть: $x_0' = $\", layout=Layout(width='400px'), step=0.1, style=DescriptionStyle(description_width='initial')), Output()), _dom_classes=('widget-interact',))))"
      ]
     },
     "metadata": {},
     "output_type": "display_data"
    }
   ],
   "source": [
    "plot_model3(0.01, 0.7, 0.7, 50, 0.4, 1.4)"
   ]
  },
  {
   "cell_type": "markdown",
   "metadata": {},
   "source": [
    "Явище резонансу при $\\delta > 0$. Причому, максимальна амплітуда $A_{max} \\approx \\frac{\\omega_0 f_0}{\\delta}$"
   ]
  },
  {
   "cell_type": "code",
   "execution_count": 61,
   "metadata": {},
   "outputs": [
    {
     "data": {
      "application/vnd.jupyter.widget-view+json": {
       "model_id": "fb8e6979f83e4d719b81334a788ca241",
       "version_major": 2,
       "version_minor": 0
      },
      "text/html": [
       "<p>Failed to display Jupyter Widget of type <code>VBox</code>.</p>\n",
       "<p>\n",
       "  If you're reading this message in the Jupyter Notebook or JupyterLab Notebook, it may mean\n",
       "  that the widgets JavaScript is still loading. If this message persists, it\n",
       "  likely means that the widgets JavaScript library is either not installed or\n",
       "  not enabled. See the <a href=\"https://ipywidgets.readthedocs.io/en/stable/user_install.html\">Jupyter\n",
       "  Widgets Documentation</a> for setup instructions.\n",
       "</p>\n",
       "<p>\n",
       "  If you're reading this message in another frontend (for example, a static\n",
       "  rendering on GitHub or <a href=\"https://nbviewer.jupyter.org/\">NBViewer</a>),\n",
       "  it may mean that your frontend doesn't currently support widgets.\n",
       "</p>\n"
      ],
      "text/plain": [
       "VBox(children=(Label(value=\"$x''+2δ x'+ω_0^2 x=f_0 cos(ωt)$\"), interactive(children=(FloatText(value=0.0, description='Коефіцієнт згасання: $δ = $', layout=Layout(width='400px'), step=0.1, style=DescriptionStyle(description_width='initial')), FloatText(value=0.7, description='Власна частота: $ω_0 = $', layout=Layout(width='400px'), step=0.1, style=DescriptionStyle(description_width='initial')), FloatText(value=0.7, description='Частота зовнішньої сили: $ω = $', layout=Layout(width='400px'), step=0.1, style=DescriptionStyle(description_width='initial')), FloatText(value=50.0, description='Амплітуда зовнішньої сили: $f_0 = $', layout=Layout(width='400px'), step=0.1, style=DescriptionStyle(description_width='initial')), FloatText(value=0.4, description='Початкове положення: $x_0 = $', layout=Layout(width='400px'), step=0.1, style=DescriptionStyle(description_width='initial')), FloatText(value=1.4, description=\"Початкова швидкіть: $x_0' = $\", layout=Layout(width='400px'), step=0.1, style=DescriptionStyle(description_width='initial')), Output()), _dom_classes=('widget-interact',))))"
      ]
     },
     "metadata": {},
     "output_type": "display_data"
    }
   ],
   "source": [
    "plot_model3(0., 0.7, 0.7, 50, 0.4, 1.4)"
   ]
  },
  {
   "cell_type": "markdown",
   "metadata": {},
   "source": [
    "Явище резонансу при $\\delta = 0$, амплітуда нескінченно зростає."
   ]
  },
  {
   "cell_type": "markdown",
   "metadata": {},
   "source": [
    "## Коливання у системі «хижак-жертва»"
   ]
  },
  {
   "cell_type": "markdown",
   "metadata": {},
   "source": [
    "$ \\left \\{ \\begin{array}{ll}\n",
    "            x'=(α_x y - β_x)x \\enspace - \\enspace \\text{для популяції хижаків}\\\\\n",
    "            y'=(α_y - β_y x)y \\enspace - \\enspace \\text{для популяції жертв}\n",
    "           \\end{array} \\right. $\n",
    "\n",
    "$ α_x $ - \"норма споживання\" жертв\n",
    " \n",
    "$  α_y $ - природна народжуваність жертв\n",
    " \n",
    "$  β_x $ - природна смертність хижаків\n",
    " \n",
    "$  β_y $ - \"норма споживаності\" жертв\n",
    " \n",
    "$  x_0 $ - початкова кількість хижаків\n",
    " \n",
    "$  y_0 $ - початкова кількість жертв\n",
    "\n",
    "Характерною особливістю рівннянь є те, що їхнім розв'язком є автоколивання, тобто амплітуда і період коливань залежать від властивостей самої системи і не залежать від початкових умов, далі це покажемо.\n",
    "Тут відбуваються такі процеси: розмноження жертв та їхня гибель в результаті поїдання хижаками, розмноження та вимирання хижаків."
   ]
  },
  {
   "cell_type": "markdown",
   "metadata": {},
   "source": [
    "### Стаціонарний процес"
   ]
  },
  {
   "cell_type": "code",
   "execution_count": 62,
   "metadata": {
    "scrolled": false
   },
   "outputs": [
    {
     "data": {
      "application/vnd.jupyter.widget-view+json": {
       "model_id": "41ac11a1026e4a429b37e9515c9e7e46",
       "version_major": 2,
       "version_minor": 0
      },
      "text/html": [
       "<p>Failed to display Jupyter Widget of type <code>VBox</code>.</p>\n",
       "<p>\n",
       "  If you're reading this message in the Jupyter Notebook or JupyterLab Notebook, it may mean\n",
       "  that the widgets JavaScript is still loading. If this message persists, it\n",
       "  likely means that the widgets JavaScript library is either not installed or\n",
       "  not enabled. See the <a href=\"https://ipywidgets.readthedocs.io/en/stable/user_install.html\">Jupyter\n",
       "  Widgets Documentation</a> for setup instructions.\n",
       "</p>\n",
       "<p>\n",
       "  If you're reading this message in another frontend (for example, a static\n",
       "  rendering on GitHub or <a href=\"https://nbviewer.jupyter.org/\">NBViewer</a>),\n",
       "  it may mean that your frontend doesn't currently support widgets.\n",
       "</p>\n"
      ],
      "text/plain": [
       "VBox(children=(Label(value=\"$ \\\\bigg\\\\{ \\\\matrix{x'=(α_x y - β_x)x \\\\cr y'=(α_y - β_y x)y} $\", layout=Layout(height='50px')), interactive(children=(FloatText(value=0.6, description='\"Норма споживання\" жертв: $α_x = $', layout=Layout(width='400px'), step=0.1, style=DescriptionStyle(description_width='initial')), FloatText(value=0.7, description='Природна народжуваність жертв: $α_y = $', layout=Layout(width='400px'), step=0.1, style=DescriptionStyle(description_width='initial')), FloatText(value=0.5, description='Природна смертність хижаків: $β_x = $', layout=Layout(width='400px'), step=0.1, style=DescriptionStyle(description_width='initial')), FloatText(value=0.6, description='\"Норма споживаності\" жертв: $β_y = $', layout=Layout(width='400px'), step=0.1, style=DescriptionStyle(description_width='initial')), FloatText(value=0.0, description='Початкова кількість хижаків: $x_0 = $', layout=Layout(width='400px'), step=0.1, style=DescriptionStyle(description_width='initial')), FloatText(value=0.0, description='Початкова кількість жертв: $y_0 = $', layout=Layout(width='400px'), step=0.1, style=DescriptionStyle(description_width='initial')), Output()), _dom_classes=('widget-interact',))))"
      ]
     },
     "metadata": {},
     "output_type": "display_data"
    }
   ],
   "source": [
    "plot_model4(0.6, 0.7, 0.5, 0.6, 0, 0)"
   ]
  },
  {
   "cell_type": "markdown",
   "metadata": {},
   "source": [
    "Тривіальний стаціонарний розв'язок: \n",
    "$\\left \\{ \\begin{array}{ll}\n",
    "            x_0 = 0 \\\\\n",
    "            y_0 = 0\n",
    "          \\end{array} \\right.$ тобто в популяції немає ні жертв, ні хижаків."
   ]
  },
  {
   "cell_type": "code",
   "execution_count": 53,
   "metadata": {
    "code_folding": []
   },
   "outputs": [
    {
     "data": {
      "application/vnd.jupyter.widget-view+json": {
       "model_id": "1fa08d983abb464287f47bc3ab66da6b",
       "version_major": 2,
       "version_minor": 0
      },
      "text/html": [
       "<p>Failed to display Jupyter Widget of type <code>VBox</code>.</p>\n",
       "<p>\n",
       "  If you're reading this message in the Jupyter Notebook or JupyterLab Notebook, it may mean\n",
       "  that the widgets JavaScript is still loading. If this message persists, it\n",
       "  likely means that the widgets JavaScript library is either not installed or\n",
       "  not enabled. See the <a href=\"https://ipywidgets.readthedocs.io/en/stable/user_install.html\">Jupyter\n",
       "  Widgets Documentation</a> for setup instructions.\n",
       "</p>\n",
       "<p>\n",
       "  If you're reading this message in another frontend (for example, a static\n",
       "  rendering on GitHub or <a href=\"https://nbviewer.jupyter.org/\">NBViewer</a>),\n",
       "  it may mean that your frontend doesn't currently support widgets.\n",
       "</p>\n"
      ],
      "text/plain": [
       "VBox(children=(Label(value=\"$ \\\\bigg\\\\{ \\\\matrix{x'=(α_x y - β_x)x \\\\cr y'=(α_y - β_y x)y} $\", layout=Layout(height='50px')), interactive(children=(FloatText(value=0.3, description='\"Норма споживання\" жертв: $α_x = $', layout=Layout(width='400px'), step=0.1, style=DescriptionStyle(description_width='initial')), FloatText(value=0.3, description='Природна народжуваність жертв: $α_y = $', layout=Layout(width='400px'), step=0.1, style=DescriptionStyle(description_width='initial')), FloatText(value=0.3, description='Природна смертність хижаків: $β_x = $', layout=Layout(width='400px'), step=0.1, style=DescriptionStyle(description_width='initial')), FloatText(value=0.6, description='\"Норма споживаності\" жертв: $β_y = $', layout=Layout(width='400px'), step=0.1, style=DescriptionStyle(description_width='initial')), FloatText(value=0.5, description='Початкова кількість хижаків: $x_0 = $', layout=Layout(width='400px'), step=0.1, style=DescriptionStyle(description_width='initial')), FloatText(value=1.0, description='Початкова кількість жертв: $y_0 = $', layout=Layout(width='400px'), step=0.1, style=DescriptionStyle(description_width='initial')), Output()), _dom_classes=('widget-interact',))))"
      ]
     },
     "metadata": {},
     "output_type": "display_data"
    }
   ],
   "source": [
    "αx = 0.3\n",
    "αy = 0.3\n",
    "βx = 0.3\n",
    "βy = 0.6\n",
    "plot_model4(αx, αy, βx, βy, αy/βy, βx/αx)"
   ]
  },
  {
   "cell_type": "markdown",
   "metadata": {},
   "source": [
    "### Коливання при незначних відхиленнях початкових умов від рівноваги"
   ]
  },
  {
   "cell_type": "code",
   "execution_count": 65,
   "metadata": {},
   "outputs": [
    {
     "data": {
      "application/vnd.jupyter.widget-view+json": {
       "model_id": "69047ed14fd9435d9f891cc0b12c89cb",
       "version_major": 2,
       "version_minor": 0
      },
      "text/html": [
       "<p>Failed to display Jupyter Widget of type <code>VBox</code>.</p>\n",
       "<p>\n",
       "  If you're reading this message in the Jupyter Notebook or JupyterLab Notebook, it may mean\n",
       "  that the widgets JavaScript is still loading. If this message persists, it\n",
       "  likely means that the widgets JavaScript library is either not installed or\n",
       "  not enabled. See the <a href=\"https://ipywidgets.readthedocs.io/en/stable/user_install.html\">Jupyter\n",
       "  Widgets Documentation</a> for setup instructions.\n",
       "</p>\n",
       "<p>\n",
       "  If you're reading this message in another frontend (for example, a static\n",
       "  rendering on GitHub or <a href=\"https://nbviewer.jupyter.org/\">NBViewer</a>),\n",
       "  it may mean that your frontend doesn't currently support widgets.\n",
       "</p>\n"
      ],
      "text/plain": [
       "VBox(children=(Label(value=\"$ \\\\bigg\\\\{ \\\\matrix{x'=(α_x y - β_x)x \\\\cr y'=(α_y - β_y x)y} $\", layout=Layout(height='50px')), interactive(children=(FloatText(value=0.5, description='\"Норма споживання\" жертв: $α_x = $', layout=Layout(width='400px'), step=0.1, style=DescriptionStyle(description_width='initial')), FloatText(value=0.3, description='Природна народжуваність жертв: $α_y = $', layout=Layout(width='400px'), step=0.1, style=DescriptionStyle(description_width='initial')), FloatText(value=0.5, description='Природна смертність хижаків: $β_x = $', layout=Layout(width='400px'), step=0.1, style=DescriptionStyle(description_width='initial')), FloatText(value=0.6, description='\"Норма споживаності\" жертв: $β_y = $', layout=Layout(width='400px'), step=0.1, style=DescriptionStyle(description_width='initial')), FloatText(value=0.5005, description='Початкова кількість хижаків: $x_0 = $', layout=Layout(width='400px'), step=0.1, style=DescriptionStyle(description_width='initial')), FloatText(value=1.005, description='Початкова кількість жертв: $y_0 = $', layout=Layout(width='400px'), step=0.1, style=DescriptionStyle(description_width='initial')), Output()), _dom_classes=('widget-interact',))))"
      ]
     },
     "metadata": {},
     "output_type": "display_data"
    }
   ],
   "source": [
    "plot_model4(0.5, 0.3, 0.5, 0.6, 0.5005, 1.005)"
   ]
  },
  {
   "cell_type": "markdown",
   "metadata": {},
   "source": [
    "### Коливання при значних відхиленнях початкових умов від рівноваги"
   ]
  },
  {
   "cell_type": "code",
   "execution_count": 66,
   "metadata": {
    "scrolled": false
   },
   "outputs": [
    {
     "data": {
      "application/vnd.jupyter.widget-view+json": {
       "model_id": "1f3039c99a7c423b82f59b969ae82053",
       "version_major": 2,
       "version_minor": 0
      },
      "text/html": [
       "<p>Failed to display Jupyter Widget of type <code>VBox</code>.</p>\n",
       "<p>\n",
       "  If you're reading this message in the Jupyter Notebook or JupyterLab Notebook, it may mean\n",
       "  that the widgets JavaScript is still loading. If this message persists, it\n",
       "  likely means that the widgets JavaScript library is either not installed or\n",
       "  not enabled. See the <a href=\"https://ipywidgets.readthedocs.io/en/stable/user_install.html\">Jupyter\n",
       "  Widgets Documentation</a> for setup instructions.\n",
       "</p>\n",
       "<p>\n",
       "  If you're reading this message in another frontend (for example, a static\n",
       "  rendering on GitHub or <a href=\"https://nbviewer.jupyter.org/\">NBViewer</a>),\n",
       "  it may mean that your frontend doesn't currently support widgets.\n",
       "</p>\n"
      ],
      "text/plain": [
       "VBox(children=(Label(value=\"$ \\\\bigg\\\\{ \\\\matrix{x'=(α_x y - β_x)x \\\\cr y'=(α_y - β_y x)y} $\", layout=Layout(height='50px')), interactive(children=(FloatText(value=0.6, description='\"Норма споживання\" жертв: $α_x = $', layout=Layout(width='400px'), step=0.1, style=DescriptionStyle(description_width='initial')), FloatText(value=0.2, description='Природна народжуваність жертв: $α_y = $', layout=Layout(width='400px'), step=0.1, style=DescriptionStyle(description_width='initial')), FloatText(value=0.5, description='Природна смертність хижаків: $β_x = $', layout=Layout(width='400px'), step=0.1, style=DescriptionStyle(description_width='initial')), FloatText(value=0.6, description='\"Норма споживаності\" жертв: $β_y = $', layout=Layout(width='400px'), step=0.1, style=DescriptionStyle(description_width='initial')), FloatText(value=0.9, description='Початкова кількість хижаків: $x_0 = $', layout=Layout(width='400px'), step=0.1, style=DescriptionStyle(description_width='initial')), FloatText(value=1.4, description='Початкова кількість жертв: $y_0 = $', layout=Layout(width='400px'), step=0.1, style=DescriptionStyle(description_width='initial')), Output()), _dom_classes=('widget-interact',))))"
      ]
     },
     "metadata": {},
     "output_type": "display_data"
    }
   ],
   "source": [
    "plot_model4(0.6, 0.2, 0.5, 0.6, 0.9, 1.4)"
   ]
  },
  {
   "cell_type": "code",
   "execution_count": 69,
   "metadata": {
    "scrolled": false
   },
   "outputs": [
    {
     "data": {
      "application/vnd.jupyter.widget-view+json": {
       "model_id": "90a8efa05d664dd38d7044b7da3c601f",
       "version_major": 2,
       "version_minor": 0
      },
      "text/html": [
       "<p>Failed to display Jupyter Widget of type <code>VBox</code>.</p>\n",
       "<p>\n",
       "  If you're reading this message in the Jupyter Notebook or JupyterLab Notebook, it may mean\n",
       "  that the widgets JavaScript is still loading. If this message persists, it\n",
       "  likely means that the widgets JavaScript library is either not installed or\n",
       "  not enabled. See the <a href=\"https://ipywidgets.readthedocs.io/en/stable/user_install.html\">Jupyter\n",
       "  Widgets Documentation</a> for setup instructions.\n",
       "</p>\n",
       "<p>\n",
       "  If you're reading this message in another frontend (for example, a static\n",
       "  rendering on GitHub or <a href=\"https://nbviewer.jupyter.org/\">NBViewer</a>),\n",
       "  it may mean that your frontend doesn't currently support widgets.\n",
       "</p>\n"
      ],
      "text/plain": [
       "VBox(children=(Label(value=\"$ \\\\bigg\\\\{ \\\\matrix{x'=(α_x y - β_x)x \\\\cr y'=(α_y - β_y x)y} $\", layout=Layout(height='50px')), interactive(children=(FloatText(value=0.8, description='\"Норма споживання\" жертв: $α_x = $', layout=Layout(width='400px'), step=0.1, style=DescriptionStyle(description_width='initial')), FloatText(value=0.5, description='Природна народжуваність жертв: $α_y = $', layout=Layout(width='400px'), step=0.1, style=DescriptionStyle(description_width='initial')), FloatText(value=0.7, description='Природна смертність хижаків: $β_x = $', layout=Layout(width='400px'), step=0.1, style=DescriptionStyle(description_width='initial')), FloatText(value=0.1, description='\"Норма споживаності\" жертв: $β_y = $', layout=Layout(width='400px'), step=0.1, style=DescriptionStyle(description_width='initial')), FloatText(value=5.2, description='Початкова кількість хижаків: $x_0 = $', layout=Layout(width='400px'), step=0.1, style=DescriptionStyle(description_width='initial')), FloatText(value=4.5, description='Початкова кількість жертв: $y_0 = $', layout=Layout(width='400px'), step=0.1, style=DescriptionStyle(description_width='initial')), Output()), _dom_classes=('widget-interact',))))"
      ]
     },
     "metadata": {},
     "output_type": "display_data"
    }
   ],
   "source": [
    "plot_model4(0.8, 0.5, 0.7, 0.1, 5.2, 4.5)"
   ]
  }
 ],
 "metadata": {
  "kernelspec": {
   "display_name": "Python 3",
   "language": "python",
   "name": "python3"
  },
  "language_info": {
   "codemirror_mode": {
    "name": "ipython",
    "version": 3
   },
   "file_extension": ".py",
   "mimetype": "text/x-python",
   "name": "python",
   "nbconvert_exporter": "python",
   "pygments_lexer": "ipython3",
   "version": "3.6.4"
  },
  "toc": {
   "nav_menu": {},
   "number_sections": true,
   "sideBar": true,
   "skip_h1_title": false,
   "toc_cell": false,
   "toc_position": {},
   "toc_section_display": "block",
   "toc_window_display": true
  }
 },
 "nbformat": 4,
 "nbformat_minor": 2
}
