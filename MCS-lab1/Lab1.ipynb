{
 "cells": [
  {
   "cell_type": "code",
   "execution_count": 23,
   "metadata": {},
   "outputs": [],
   "source": [
    "from ipywidgets import *\n",
    "import numpy as np\n",
    "from scipy.integrate import odeint\n",
    "import matplotlib.pyplot as plt\n",
    "from IPython.display import display\n",
    "%matplotlib inline\n",
    "\n",
    "from pylab import rcParams\n",
    "rcParams['figure.figsize'] = 14, 6\n",
    "style = {'description_width': 'initial'}\n",
    "layout = Layout(width = '400px')\n",
    "models = [None] * 4 "
   ]
  },
  {
   "cell_type": "markdown",
   "metadata": {},
   "source": [
    "## 1. Динаміка росту популяції"
   ]
  },
  {
   "cell_type": "code",
   "execution_count": 29,
   "metadata": {
    "code_folding": [
     0
    ]
   },
   "outputs": [],
   "source": [
    "def model1(k, μ, N0):\n",
    "    def model1_eq(N,t):\n",
    "        return μ*N*(k-N)\n",
    "    \n",
    "    t = np.linspace(0, 30, num=200)\n",
    "\n",
    "    # solve ODE\n",
    "    N = odeint(model1_eq, N0, t)\n",
    "\n",
    "    # plot results\n",
    "    plt.plot(t,N)\n",
    "    plt.xlabel('t')\n",
    "    plt.ylabel('N(t)')\n",
    "    plt.show()"
   ]
  },
  {
   "cell_type": "code",
   "execution_count": 41,
   "metadata": {
    "scrolled": false
   },
   "outputs": [],
   "source": [
    "description1 = Label(value=\"$N'=μN(k-N)$\")\n",
    "k_val = FloatText(value= 15, description = 'Ємність середовища (гранична чисельність): $k = $', step=0.1, style = style, layout = layout)\n",
    "μ_val = FloatText(value = 0.05, description = 'Швидкість росту популяції: $μ = $', step=0.1, style = style, layout = layout)\n",
    "N0_val = FloatText(value=0.5, description = 'Початковий розмір популяції: $N_0 = $', step=0.1, style = style, layout = layout)\n",
    "models[0] = VBox([description1, interactive(model1, k=k_val, μ=μ_val, N0=N0_val, continuous_update=True)])"
   ]
  },
  {
   "cell_type": "code",
   "execution_count": 42,
   "metadata": {},
   "outputs": [
    {
     "data": {
      "application/vnd.jupyter.widget-view+json": {
       "model_id": "4d7f94ed2dae4788a2b535e59468cf6c",
       "version_major": 2,
       "version_minor": 0
      },
      "text/html": [
       "<p>Failed to display Jupyter Widget of type <code>VBox</code>.</p>\n",
       "<p>\n",
       "  If you're reading this message in Jupyter Notebook or JupyterLab, it may mean\n",
       "  that the widgets JavaScript is still loading. If this message persists, it\n",
       "  likely means that the widgets JavaScript library is either not installed or\n",
       "  not enabled. See the <a href=\"https://ipywidgets.readthedocs.io/en/stable/user_install.html\">Jupyter\n",
       "  Widgets Documentation</a> for setup instructions.\n",
       "</p>\n",
       "<p>\n",
       "  If you're reading this message in another notebook frontend (for example, a static\n",
       "  rendering on GitHub or <a href=\"https://nbviewer.jupyter.org/\">NBViewer</a>),\n",
       "  it may mean that your frontend doesn't currently support widgets.\n",
       "</p>\n"
      ],
      "text/plain": [
       "VBox(children=(Label(value=\"$N'=μN(k-N)$\"), interactive(children=(FloatText(value=15.0, description='Ємність середовища (гранична чисельність): $k = $', layout=Layout(width='400px'), step=0.1, style=DescriptionStyle(description_width='initial')), FloatText(value=0.05, description='Швидкість росту популяції: $μ = $', layout=Layout(width='400px'), step=0.1, style=DescriptionStyle(description_width='initial')), FloatText(value=0.5, description='Початковий розмір популяції: $N_0 = $', layout=Layout(width='400px'), step=0.1, style=DescriptionStyle(description_width='initial')), Output()), _dom_classes=('widget-interact',))))"
      ]
     },
     "metadata": {},
     "output_type": "display_data"
    }
   ],
   "source": [
    "display(models[0])"
   ]
  },
  {
   "cell_type": "markdown",
   "metadata": {
    "collapsed": true
   },
   "source": [
    "## 2. Односекторна модель економічної динаміки (модель Солоу)"
   ]
  },
  {
   "cell_type": "code",
   "execution_count": 5,
   "metadata": {},
   "outputs": [],
   "source": [
    "def model2(s, a, α, μ, q, k0):\n",
    "    def model2_eq(k,t):\n",
    "        return s*a*k**α-(μ+q)*k\n",
    "\n",
    "    t = np.linspace(0, 100, num=200)\n",
    "\n",
    "    # solve ODE\n",
    "    k = odeint(model2_eq, k0, t)\n",
    "\n",
    "    # plot results\n",
    "    plt.plot(t, k)\n",
    "    plt.xlabel('t')\n",
    "    plt.ylabel('k(t)')\n",
    "    plt.show()"
   ]
  },
  {
   "cell_type": "code",
   "execution_count": 32,
   "metadata": {},
   "outputs": [],
   "source": [
    "description2 = Label(value=\"$k'=sak^α-(μ+q)k$\")\n",
    "s_val = FloatText(value=0.2, description = 'Норма накопичення: $s = $', step=0.1, style = style, layout = layout)\n",
    "a_val = FloatText(value=2.5, description = 'Рівень розвитку економіки: $a = $', step=0.1, style = style, layout = layout)\n",
    "α_val = FloatText(value=0.3, description = 'Частка капіталу у сукупній продукції: $α = $', step=0.1, style = style, layout = layout)\n",
    "μ_val = FloatText(value=0.1, description = 'Норма витрат на амортизацію: $μ = $', step=0.1, style = style, layout = layout)\n",
    "q_val = FloatText(value=0.1, description = 'Темп приросту робочої сили: $q = $', step=0.1, style = style, layout = layout)\n",
    "k0_val = FloatText(value=0.8, description = 'Початкова капіталозабезпеченість: $k_0 = $', step=0.1, style = style, layout = layout)\n",
    "models[1] = VBox([description2, interactive(model2, s=s_val, a=a_val, α=α_val, μ=μ_val, q=q_val, k0=k0_val, continuous_update=True)])"
   ]
  },
  {
   "cell_type": "code",
   "execution_count": 33,
   "metadata": {
    "scrolled": false
   },
   "outputs": [
    {
     "data": {
      "application/vnd.jupyter.widget-view+json": {
       "model_id": "5098d461656142c68e994d342f4a9ec6",
       "version_major": 2,
       "version_minor": 0
      },
      "text/html": [
       "<p>Failed to display Jupyter Widget of type <code>VBox</code>.</p>\n",
       "<p>\n",
       "  If you're reading this message in Jupyter Notebook or JupyterLab, it may mean\n",
       "  that the widgets JavaScript is still loading. If this message persists, it\n",
       "  likely means that the widgets JavaScript library is either not installed or\n",
       "  not enabled. See the <a href=\"https://ipywidgets.readthedocs.io/en/stable/user_install.html\">Jupyter\n",
       "  Widgets Documentation</a> for setup instructions.\n",
       "</p>\n",
       "<p>\n",
       "  If you're reading this message in another notebook frontend (for example, a static\n",
       "  rendering on GitHub or <a href=\"https://nbviewer.jupyter.org/\">NBViewer</a>),\n",
       "  it may mean that your frontend doesn't currently support widgets.\n",
       "</p>\n"
      ],
      "text/plain": [
       "VBox(children=(Label(value=\"$k'=sak^α-(μ+q)k$\"), interactive(children=(FloatText(value=0.2, description='Норма накопичення: $s = $', layout=Layout(width='400px'), step=0.1, style=DescriptionStyle(description_width='initial')), FloatText(value=2.5, description='Рівень розвитку економіки: $a = $', layout=Layout(width='400px'), step=0.1, style=DescriptionStyle(description_width='initial')), FloatText(value=0.3, description='Частка капіталу у сукупній продукції: $α = $', layout=Layout(width='400px'), step=0.1, style=DescriptionStyle(description_width='initial')), FloatText(value=0.1, description='Норма витрат на амортизацію: $μ = $', layout=Layout(width='400px'), step=0.1, style=DescriptionStyle(description_width='initial')), FloatText(value=0.1, description='Темп приросту робочої сили: $q = $', layout=Layout(width='400px'), step=0.1, style=DescriptionStyle(description_width='initial')), FloatText(value=0.8, description='Початкова капіталозабезпеченість: $k_0 = $', layout=Layout(width='400px'), step=0.1, style=DescriptionStyle(description_width='initial')), Output()), _dom_classes=('widget-interact',))))"
      ]
     },
     "metadata": {},
     "output_type": "display_data"
    }
   ],
   "source": [
    "display(models[1])"
   ]
  },
  {
   "cell_type": "markdown",
   "metadata": {
    "collapsed": true
   },
   "source": [
    "## 3. Рівняння вимушених коливань"
   ]
  },
  {
   "cell_type": "code",
   "execution_count": 46,
   "metadata": {
    "code_folding": []
   },
   "outputs": [],
   "source": [
    "def model3(δ, ω0, ω, f0, x0, x00):\n",
    "    \n",
    "    #x_0' = x_1 = x'\n",
    "    #x_1' = x'' = f0 * np.cos(ω * t) - 2 * δ * x[1] - (ω0 ** 2) * x[0]\n",
    "    def model3_eq(x,t):\n",
    "        return [x[1], f0 * np.cos(ω * t) - 2 * δ * x[1] - (ω0 ** 2) * x[0]]\n",
    "\n",
    "    t = np.linspace(0,300, num=1000)\n",
    "\n",
    "    # solve ODE\n",
    "    x = odeint(model3_eq, np.array([x0, x00]), t)\n",
    "\n",
    "    # plot results\n",
    "    fig, ax = plt.subplots(nrows=1, ncols=2)\n",
    "    ax[0].plot(t, x[:,0])\n",
    "    ax[0].set_xlabel('t')\n",
    "    ax[0].set_ylabel('x(t)')\n",
    "    ax[1].plot(x[:,0], x[:,1])\n",
    "    ax[1].set_xlabel('x(t)')\n",
    "    ax[1].set_ylabel(\"x'(t)\")\n",
    "    plt.show()"
   ]
  },
  {
   "cell_type": "code",
   "execution_count": 48,
   "metadata": {},
   "outputs": [],
   "source": [
    "description3 = Label(value=\"$x''+2δ x'+ω_0^2 x=f_0 cos(ωt)$\")\n",
    "δ_val = FloatText( description = 'Коефіцієнт згасання: $δ = $', step=0.1, style = style, layout = layout)\n",
    "ω0_val = FloatText(description = 'Власна частота: $ω_0 = $', step=0.1, style = style, layout = layout)\n",
    "ω_val = FloatText(description = 'Частота зовнішньої сили: $ω = $', step=0.1, style = style, layout = layout)\n",
    "f0_val = FloatText(description = 'Амплітуда зовнішньої сили: $f_0 = $', step=0.1, style = style, layout = layout)\n",
    "x0_val = FloatText( description = 'Початкове положення: $x_0 = $', step=0.1, style = style, layout = layout)\n",
    "x00_val = FloatText(description = \"Початкова швидкіть: $x_0' = $\", step=0.1, style = style, layout = layout)\n",
    "models[2] = VBox([description3, interactive(model3, δ=δ_val, ω0=ω0_val, ω=ω_val, f0=f0_val, x0=x0_val, x00=x00_val, continuous_update=True)])"
   ]
  },
  {
   "cell_type": "code",
   "execution_count": 49,
   "metadata": {
    "scrolled": false
   },
   "outputs": [
    {
     "data": {
      "application/vnd.jupyter.widget-view+json": {
       "model_id": "c26fe0511d944e7c93c57ebe149d59f0",
       "version_major": 2,
       "version_minor": 0
      },
      "text/html": [
       "<p>Failed to display Jupyter Widget of type <code>VBox</code>.</p>\n",
       "<p>\n",
       "  If you're reading this message in Jupyter Notebook or JupyterLab, it may mean\n",
       "  that the widgets JavaScript is still loading. If this message persists, it\n",
       "  likely means that the widgets JavaScript library is either not installed or\n",
       "  not enabled. See the <a href=\"https://ipywidgets.readthedocs.io/en/stable/user_install.html\">Jupyter\n",
       "  Widgets Documentation</a> for setup instructions.\n",
       "</p>\n",
       "<p>\n",
       "  If you're reading this message in another notebook frontend (for example, a static\n",
       "  rendering on GitHub or <a href=\"https://nbviewer.jupyter.org/\">NBViewer</a>),\n",
       "  it may mean that your frontend doesn't currently support widgets.\n",
       "</p>\n"
      ],
      "text/plain": [
       "VBox(children=(Label(value=\"$x''+2δ x'+ω_0^2 x=f_0 cos(ωt)$\"), interactive(children=(FloatText(value=0.0, description='Коефіцієнт згасання: $δ = $', layout=Layout(width='400px'), step=0.1, style=DescriptionStyle(description_width='initial')), FloatText(value=0.0, description='Власна частота: $ω_0 = $', layout=Layout(width='400px'), step=0.1, style=DescriptionStyle(description_width='initial')), FloatText(value=0.0, description='Частота зовнішньої сили: $ω = $', layout=Layout(width='400px'), step=0.1, style=DescriptionStyle(description_width='initial')), FloatText(value=0.0, description='Амплітуда зовнішньої сили: $f_0 = $', layout=Layout(width='400px'), step=0.1, style=DescriptionStyle(description_width='initial')), FloatText(value=0.0, description='Початкове положення: $x_0 = $', layout=Layout(width='400px'), step=0.1, style=DescriptionStyle(description_width='initial')), FloatText(value=0.0, description=\"Початкова швидкіть: $x_0' = $\", layout=Layout(width='400px'), step=0.1, style=DescriptionStyle(description_width='initial')), Output()), _dom_classes=('widget-interact',))))"
      ]
     },
     "metadata": {},
     "output_type": "display_data"
    }
   ],
   "source": [
    "display(models[2])"
   ]
  },
  {
   "cell_type": "markdown",
   "metadata": {},
   "source": [
    "## 4. Рівняння коливань у системі «хижак-жертва»"
   ]
  },
  {
   "cell_type": "code",
   "execution_count": 50,
   "metadata": {
    "code_folding": []
   },
   "outputs": [],
   "source": [
    "def model4(αx, αy, βx, βy, x0, y0):\n",
    "    def model4_eq(x,t):\n",
    "        return [(αx * x[1] - βx) * x[0], (αy - x[0] * βy) * x[1]]\n",
    "    \n",
    "    t = np.linspace(0, 50, num=1000)\n",
    "\n",
    "    # solve ODE\n",
    "    x = odeint(model4_eq, np.array([x0, y0]), t)\n",
    "\n",
    "    # plot results\n",
    "    fig, ax = plt.subplots(nrows=1, ncols=2)\n",
    "    ax[0].plot(t, x[:,0], label = 'x(t)')\n",
    "    ax[0].plot(t, x[:,1], label = 'y(t)')\n",
    "    ax[0].legend()\n",
    "    ax[0].set_xlabel('t')\n",
    "    ax[1].plot(x[:,0], x[:,1])\n",
    "    if βy != 0 and αx != 0:\n",
    "        ax[1].scatter(αy/βy, βx/αx, s=25, c=4)\n",
    "    ax[1].set_xlabel('x(t)')\n",
    "    ax[1].set_ylabel(\"y(t)\")\n",
    "    plt.show()"
   ]
  },
  {
   "cell_type": "code",
   "execution_count": 51,
   "metadata": {},
   "outputs": [],
   "source": [
    "description4 = Label(value=r\"\"\"$ \\bigg\\{ \\matrix{x'=(α_x y - β_x)x \\cr y'=(α_y - β_y x)y} $\"\"\", layout = Layout(height = '50px'))\n",
    "αx_val = FloatText(value=0.3, description = '\"Норма споживання\" жертв: $α_x = $', step=0.1, style = style, layout = layout)\n",
    "αy_val = FloatText(value=0.3, description = 'Природна народжуваність жертв: $α_y = $', step=0.1, style = style, layout = layout)\n",
    "βx_val = FloatText(value=0.3, description = 'Природна смертність хижаків: $β_x = $', step=0.1, style = style, layout = layout)\n",
    "βy_val = FloatText(value=0.6, description = '\"Норма споживаності\" жертв: $β_y = $', step=0.1, style = style, layout = layout)\n",
    "x0_val = FloatText(value=0.3, description = 'Початкова кількість хижаків: $x_0 = $', step=0.1, style = style, layout = layout)\n",
    "y0_val = FloatText(value=0.2, description = \"Початкова кількість жертв: $y_0 = $\", step=0.1, style = style, layout = layout)\n",
    "models[3] = VBox([description4, interactive(model4, αx=αx_val, αy=αy_val, βx=βx_val, βy=βy_val, x0=x0_val, y0=y0_val, continuous_update=True)])"
   ]
  },
  {
   "cell_type": "code",
   "execution_count": 52,
   "metadata": {},
   "outputs": [
    {
     "data": {
      "application/vnd.jupyter.widget-view+json": {
       "model_id": "cded103935d0483b8b305fe7b88ae296",
       "version_major": 2,
       "version_minor": 0
      },
      "text/html": [
       "<p>Failed to display Jupyter Widget of type <code>VBox</code>.</p>\n",
       "<p>\n",
       "  If you're reading this message in Jupyter Notebook or JupyterLab, it may mean\n",
       "  that the widgets JavaScript is still loading. If this message persists, it\n",
       "  likely means that the widgets JavaScript library is either not installed or\n",
       "  not enabled. See the <a href=\"https://ipywidgets.readthedocs.io/en/stable/user_install.html\">Jupyter\n",
       "  Widgets Documentation</a> for setup instructions.\n",
       "</p>\n",
       "<p>\n",
       "  If you're reading this message in another notebook frontend (for example, a static\n",
       "  rendering on GitHub or <a href=\"https://nbviewer.jupyter.org/\">NBViewer</a>),\n",
       "  it may mean that your frontend doesn't currently support widgets.\n",
       "</p>\n"
      ],
      "text/plain": [
       "VBox(children=(Label(value=\"$ \\\\bigg\\\\{ \\\\matrix{x'=(α_x y - β_x)x \\\\cr y'=(α_y - β_y x)y} $\", layout=Layout(height='50px')), interactive(children=(FloatText(value=0.3, description='\"Норма споживання\" жертв: $α_x = $', layout=Layout(width='400px'), step=0.1, style=DescriptionStyle(description_width='initial')), FloatText(value=0.3, description='Природна народжуваність жертв: $α_y = $', layout=Layout(width='400px'), step=0.1, style=DescriptionStyle(description_width='initial')), FloatText(value=0.3, description='Природна смертність хижаків: $β_x = $', layout=Layout(width='400px'), step=0.1, style=DescriptionStyle(description_width='initial')), FloatText(value=0.6, description='\"Норма споживаності\" жертв: $β_y = $', layout=Layout(width='400px'), step=0.1, style=DescriptionStyle(description_width='initial')), FloatText(value=0.3, description='Початкова кількість хижаків: $x_0 = $', layout=Layout(width='400px'), step=0.1, style=DescriptionStyle(description_width='initial')), FloatText(value=0.2, description='Початкова кількість жертв: $y_0 = $', layout=Layout(width='400px'), step=0.1, style=DescriptionStyle(description_width='initial')), Output()), _dom_classes=('widget-interact',))))"
      ]
     },
     "metadata": {},
     "output_type": "display_data"
    }
   ],
   "source": [
    "display(models[3])"
   ]
  },
  {
   "cell_type": "code",
   "execution_count": null,
   "metadata": {},
   "outputs": [],
   "source": []
  },
  {
   "cell_type": "code",
   "execution_count": null,
   "metadata": {},
   "outputs": [],
   "source": []
  },
  {
   "cell_type": "code",
   "execution_count": null,
   "metadata": {},
   "outputs": [],
   "source": []
  }
 ],
 "metadata": {
  "kernelspec": {
   "display_name": "Python 3",
   "language": "python",
   "name": "python3"
  },
  "language_info": {
   "codemirror_mode": {
    "name": "ipython",
    "version": 3
   },
   "file_extension": ".py",
   "mimetype": "text/x-python",
   "name": "python",
   "nbconvert_exporter": "python",
   "pygments_lexer": "ipython3",
   "version": "3.6.0"
  }
 },
 "nbformat": 4,
 "nbformat_minor": 2
}
