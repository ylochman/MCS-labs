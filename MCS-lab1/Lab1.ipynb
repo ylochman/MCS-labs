{
 "cells": [
  {
   "cell_type": "code",
   "execution_count": null,
   "metadata": {},
   "outputs": [],
   "source": [
    "\\begin{titlepage} \n",
    "\\center\n",
    "\n",
    "{\\large\n",
    "Національний Технічний Університет України\\\\[0.2cm]\n",
    "«Київський політехнічний інститут імені Ігоря Сікорського»\\\\[0.2cm]\n",
    "Навчально-Науковий Комплекс \\\\[0.2cm]\n",
    "«Інститут прикладного системного аналізу»\n",
    "}\\\\[4cm] % Minor heading such as course title\n",
    "\n",
    "\n",
    "{ \\LARGE \\bfseries\n",
    "Лабороторна робота № 1 \\\\[0.4cm]\n",
    "з дисципліни «Моделювання складних систем»\\\\[0.4cm]\n",
    "Тема: «Динаміка процесів, що описуються диференціальними рівняннями першого та другого порядку»\n",
    "}\\\\[5cm] % Title of your document\n",
    "\n",
    "\\begin{minipage}{0.4\\textwidth}\n",
    "\\begin{flushleft} \\large\n",
    "\\emph{Виконали:} \\\\\n",
    "студенти гр. КА-41 \\\\\n",
    "Мельничук Валентин \\\\\n",
    "Лочман Ярослава  \\\\\n",
    "Снігірьова Валерія\n",
    "\\end{flushleft}\n",
    "\\end{minipage}\n",
    "~\n",
    "\\begin{minipage}{0.4\\textwidth}\n",
    "\\begin{flushright} \\large\n",
    "\\emph{Прийняв:} \\\\\n",
    "професор кафедри ММСА, \\\\\n",
    "д.т.н. Степашко В.С. \\\\\n",
    "\\end{flushright}\n",
    "\\end{minipage}\\\\[5cm]\n",
    "\n",
    "Київ 2018\n",
    "\n",
    "\\vfill % Fill the rest of the page with whitespace\n",
    "\n",
    "\\end{titlepage}"
   ]
  },
  {
   "cell_type": "markdown",
   "metadata": {},
   "source": [
    "# Опис та аналіз математичних моделей"
   ]
  },
  {
   "cell_type": "markdown",
   "metadata": {},
   "source": [
    "## Динаміка росту популяції (модель Фергюльста)"
   ]
  },
  {
   "cell_type": "markdown",
   "metadata": {},
   "source": [
    "Описує динаміку росту популяції з урахуванням обмеженості ресурсів середовища:\n",
    "\n",
    "$ N'=μN(k-N) \\enspace | \\enspace N_0 $\n",
    "\n",
    "$ N $ – чисельність популяції\n",
    "\n",
    "$ µ $ – коефіцієнти народжуваності (приріст популяції за одиницю часу)\n",
    "\n",
    "$ k $ – ємність середовища (гранична чисельність популяції)\n",
    "\n",
    "$ N_0 $ – початкова чисельність популяції"
   ]
  },
  {
   "cell_type": "markdown",
   "metadata": {},
   "source": [
    "Стаціонарні точки:\n",
    "\n",
    "$ N'= 0 \\enspace \\Leftrightarrow \\enspace μN(k-N) = 0 $\n",
    "\n",
    "$ \\Rightarrow \\left \\{ \\begin{array}{ll}\n",
    "                        N_{1,стац} = 0 \\\\\n",
    "                        N_{2,стац} = k\n",
    "                       \\end{array} \\right. $"
   ]
  },
  {
   "cell_type": "markdown",
   "metadata": {},
   "source": [
    "Точка перегину:\n",
    "\n",
    "$ N'' = μN'(k-N)-μNN' = μN'((k-2N) = μ^2N(k-N)(k-2N) $\n",
    "\n",
    "$ N'' = 0 \\enspace \\Leftrightarrow \\enspace μ^2N(k-N)(k-2N) = 0 $\n",
    "\n",
    "$ \\Rightarrow \\left \\{ \\begin{array}{ll}\n",
    "                        N_{1} = 0 \\\\\n",
    "                        N_{2} = k/2 \\\\\n",
    "                        N_{3} = k \\\\\n",
    "                        \\text{немає сенсу розглядати } N<0 \\\\\n",
    "                        N = k \\text{ - стаціонарна точка}\n",
    "                       \\end{array} \\right. $\n",
    "                       \n",
    "$ \\Rightarrow N_{перегин} = k/2 $"
   ]
  },
  {
   "cell_type": "markdown",
   "metadata": {},
   "source": [
    "### Зростаючий процес"
   ]
  },
  {
   "cell_type": "code",
   "execution_count": 31,
   "metadata": {},
   "outputs": [
    {
     "data": {
      "application/vnd.jupyter.widget-view+json": {
       "model_id": "dcd755830b72482f9ad72d16708b8113",
       "version_major": 2,
       "version_minor": 0
      },
      "text/html": [
       "<p>Failed to display Jupyter Widget of type <code>VBox</code>.</p>\n",
       "<p>\n",
       "  If you're reading this message in the Jupyter Notebook or JupyterLab Notebook, it may mean\n",
       "  that the widgets JavaScript is still loading. If this message persists, it\n",
       "  likely means that the widgets JavaScript library is either not installed or\n",
       "  not enabled. See the <a href=\"https://ipywidgets.readthedocs.io/en/stable/user_install.html\">Jupyter\n",
       "  Widgets Documentation</a> for setup instructions.\n",
       "</p>\n",
       "<p>\n",
       "  If you're reading this message in another frontend (for example, a static\n",
       "  rendering on GitHub or <a href=\"https://nbviewer.jupyter.org/\">NBViewer</a>),\n",
       "  it may mean that your frontend doesn't currently support widgets.\n",
       "</p>\n"
      ],
      "text/plain": [
       "VBox(children=(Label(value=\"$N'=μN(k-N)$\"), interactive(children=(FloatText(value=15.0, description='Ємність середовища (гранична чисельність): $k = $', layout=Layout(width='400px'), step=0.1, style=DescriptionStyle(description_width='initial')), FloatText(value=0.05, description='Швидкість росту популяції: $μ = $', layout=Layout(width='400px'), step=0.1, style=DescriptionStyle(description_width='initial')), FloatText(value=0.5, description='Початковий розмір популяції: $N_0 = $', layout=Layout(width='400px'), step=0.1, style=DescriptionStyle(description_width='initial')), Output()), _dom_classes=('widget-interact',))))"
      ]
     },
     "metadata": {},
     "output_type": "display_data"
    }
   ],
   "source": [
    "plot_model1(15, 0.05, 0.5)"
   ]
  },
  {
   "cell_type": "markdown",
   "metadata": {},
   "source": [
    "При $N0 < k$ та $\\mu > 0$ відбуватиметься зростання популяції аж до граничної чисельності. При цьому до значення $k/2$ швидкість зростання збільшується, а після нього зменшується до нуля (при $N=k$)"
   ]
  },
  {
   "cell_type": "code",
   "execution_count": 32,
   "metadata": {},
   "outputs": [
    {
     "data": {
      "application/vnd.jupyter.widget-view+json": {
       "model_id": "957fe750f3f04fb4ba8a4d73815f0309",
       "version_major": 2,
       "version_minor": 0
      },
      "text/html": [
       "<p>Failed to display Jupyter Widget of type <code>VBox</code>.</p>\n",
       "<p>\n",
       "  If you're reading this message in the Jupyter Notebook or JupyterLab Notebook, it may mean\n",
       "  that the widgets JavaScript is still loading. If this message persists, it\n",
       "  likely means that the widgets JavaScript library is either not installed or\n",
       "  not enabled. See the <a href=\"https://ipywidgets.readthedocs.io/en/stable/user_install.html\">Jupyter\n",
       "  Widgets Documentation</a> for setup instructions.\n",
       "</p>\n",
       "<p>\n",
       "  If you're reading this message in another frontend (for example, a static\n",
       "  rendering on GitHub or <a href=\"https://nbviewer.jupyter.org/\">NBViewer</a>),\n",
       "  it may mean that your frontend doesn't currently support widgets.\n",
       "</p>\n"
      ],
      "text/plain": [
       "VBox(children=(Label(value=\"$N'=μN(k-N)$\"), interactive(children=(FloatText(value=15.0, description='Ємність середовища (гранична чисельність): $k = $', layout=Layout(width='400px'), step=0.1, style=DescriptionStyle(description_width='initial')), FloatText(value=0.05, description='Швидкість росту популяції: $μ = $', layout=Layout(width='400px'), step=0.1, style=DescriptionStyle(description_width='initial')), FloatText(value=10.0, description='Початковий розмір популяції: $N_0 = $', layout=Layout(width='400px'), step=0.1, style=DescriptionStyle(description_width='initial')), Output()), _dom_classes=('widget-interact',))))"
      ]
     },
     "metadata": {},
     "output_type": "display_data"
    }
   ],
   "source": [
    "plot_model1(15, 0.05, 10)"
   ]
  },
  {
   "cell_type": "markdown",
   "metadata": {},
   "source": [
    "! Комментарий"
   ]
  },
  {
   "cell_type": "markdown",
   "metadata": {},
   "source": [
    "### Стаціонарний процес"
   ]
  },
  {
   "cell_type": "code",
   "execution_count": 33,
   "metadata": {
    "scrolled": false
   },
   "outputs": [
    {
     "data": {
      "application/vnd.jupyter.widget-view+json": {
       "model_id": "4a2c239cf364404eaaf2eb4802c0d5a8",
       "version_major": 2,
       "version_minor": 0
      },
      "text/html": [
       "<p>Failed to display Jupyter Widget of type <code>VBox</code>.</p>\n",
       "<p>\n",
       "  If you're reading this message in the Jupyter Notebook or JupyterLab Notebook, it may mean\n",
       "  that the widgets JavaScript is still loading. If this message persists, it\n",
       "  likely means that the widgets JavaScript library is either not installed or\n",
       "  not enabled. See the <a href=\"https://ipywidgets.readthedocs.io/en/stable/user_install.html\">Jupyter\n",
       "  Widgets Documentation</a> for setup instructions.\n",
       "</p>\n",
       "<p>\n",
       "  If you're reading this message in another frontend (for example, a static\n",
       "  rendering on GitHub or <a href=\"https://nbviewer.jupyter.org/\">NBViewer</a>),\n",
       "  it may mean that your frontend doesn't currently support widgets.\n",
       "</p>\n"
      ],
      "text/plain": [
       "VBox(children=(Label(value=\"$N'=μN(k-N)$\"), interactive(children=(FloatText(value=100.0, description='Ємність середовища (гранична чисельність): $k = $', layout=Layout(width='400px'), step=0.1, style=DescriptionStyle(description_width='initial')), FloatText(value=0.05, description='Швидкість росту популяції: $μ = $', layout=Layout(width='400px'), step=0.1, style=DescriptionStyle(description_width='initial')), FloatText(value=100.0, description='Початковий розмір популяції: $N_0 = $', layout=Layout(width='400px'), step=0.1, style=DescriptionStyle(description_width='initial')), Output()), _dom_classes=('widget-interact',))))"
      ]
     },
     "metadata": {},
     "output_type": "display_data"
    }
   ],
   "source": [
    "plot_model1(100, 0.05, 100)"
   ]
  },
  {
   "cell_type": "markdown",
   "metadata": {},
   "source": [
    "! Комментарий"
   ]
  },
  {
   "cell_type": "code",
   "execution_count": 34,
   "metadata": {},
   "outputs": [
    {
     "data": {
      "application/vnd.jupyter.widget-view+json": {
       "model_id": "be5811af42c84d0c90e081afcb70fad0",
       "version_major": 2,
       "version_minor": 0
      },
      "text/html": [
       "<p>Failed to display Jupyter Widget of type <code>VBox</code>.</p>\n",
       "<p>\n",
       "  If you're reading this message in the Jupyter Notebook or JupyterLab Notebook, it may mean\n",
       "  that the widgets JavaScript is still loading. If this message persists, it\n",
       "  likely means that the widgets JavaScript library is either not installed or\n",
       "  not enabled. See the <a href=\"https://ipywidgets.readthedocs.io/en/stable/user_install.html\">Jupyter\n",
       "  Widgets Documentation</a> for setup instructions.\n",
       "</p>\n",
       "<p>\n",
       "  If you're reading this message in another frontend (for example, a static\n",
       "  rendering on GitHub or <a href=\"https://nbviewer.jupyter.org/\">NBViewer</a>),\n",
       "  it may mean that your frontend doesn't currently support widgets.\n",
       "</p>\n"
      ],
      "text/plain": [
       "VBox(children=(Label(value=\"$N'=μN(k-N)$\"), interactive(children=(FloatText(value=100.0, description='Ємність середовища (гранична чисельність): $k = $', layout=Layout(width='400px'), step=0.1, style=DescriptionStyle(description_width='initial')), FloatText(value=0.05, description='Швидкість росту популяції: $μ = $', layout=Layout(width='400px'), step=0.1, style=DescriptionStyle(description_width='initial')), FloatText(value=0.0, description='Початковий розмір популяції: $N_0 = $', layout=Layout(width='400px'), step=0.1, style=DescriptionStyle(description_width='initial')), Output()), _dom_classes=('widget-interact',))))"
      ]
     },
     "metadata": {},
     "output_type": "display_data"
    }
   ],
   "source": [
    "plot_model1(100, 0.05, 0)"
   ]
  },
  {
   "cell_type": "markdown",
   "metadata": {},
   "source": [
    "! Комментарий"
   ]
  },
  {
   "cell_type": "markdown",
   "metadata": {},
   "source": [
    "### Спадний процес"
   ]
  },
  {
   "cell_type": "code",
   "execution_count": 35,
   "metadata": {
    "scrolled": false
   },
   "outputs": [
    {
     "data": {
      "application/vnd.jupyter.widget-view+json": {
       "model_id": "5361a59b962f49a4a830a9c233aaf868",
       "version_major": 2,
       "version_minor": 0
      },
      "text/html": [
       "<p>Failed to display Jupyter Widget of type <code>VBox</code>.</p>\n",
       "<p>\n",
       "  If you're reading this message in the Jupyter Notebook or JupyterLab Notebook, it may mean\n",
       "  that the widgets JavaScript is still loading. If this message persists, it\n",
       "  likely means that the widgets JavaScript library is either not installed or\n",
       "  not enabled. See the <a href=\"https://ipywidgets.readthedocs.io/en/stable/user_install.html\">Jupyter\n",
       "  Widgets Documentation</a> for setup instructions.\n",
       "</p>\n",
       "<p>\n",
       "  If you're reading this message in another frontend (for example, a static\n",
       "  rendering on GitHub or <a href=\"https://nbviewer.jupyter.org/\">NBViewer</a>),\n",
       "  it may mean that your frontend doesn't currently support widgets.\n",
       "</p>\n"
      ],
      "text/plain": [
       "VBox(children=(Label(value=\"$N'=μN(k-N)$\"), interactive(children=(FloatText(value=100.0, description='Ємність середовища (гранична чисельність): $k = $', layout=Layout(width='400px'), step=0.1, style=DescriptionStyle(description_width='initial')), FloatText(value=0.001, description='Швидкість росту популяції: $μ = $', layout=Layout(width='400px'), step=0.1, style=DescriptionStyle(description_width='initial')), FloatText(value=150.0, description='Початковий розмір популяції: $N_0 = $', layout=Layout(width='400px'), step=0.1, style=DescriptionStyle(description_width='initial')), Output()), _dom_classes=('widget-interact',))))"
      ]
     },
     "metadata": {},
     "output_type": "display_data"
    }
   ],
   "source": [
    "plot_model1(100, 0.001, 150)"
   ]
  },
  {
   "cell_type": "markdown",
   "metadata": {},
   "source": [
    "! Комментарий"
   ]
  },
  {
   "cell_type": "markdown",
   "metadata": {},
   "source": [
    "### Повне вимирання"
   ]
  },
  {
   "cell_type": "code",
   "execution_count": 36,
   "metadata": {},
   "outputs": [
    {
     "data": {
      "application/vnd.jupyter.widget-view+json": {
       "model_id": "57885126fa434970951efb38e859ab1d",
       "version_major": 2,
       "version_minor": 0
      },
      "text/html": [
       "<p>Failed to display Jupyter Widget of type <code>VBox</code>.</p>\n",
       "<p>\n",
       "  If you're reading this message in the Jupyter Notebook or JupyterLab Notebook, it may mean\n",
       "  that the widgets JavaScript is still loading. If this message persists, it\n",
       "  likely means that the widgets JavaScript library is either not installed or\n",
       "  not enabled. See the <a href=\"https://ipywidgets.readthedocs.io/en/stable/user_install.html\">Jupyter\n",
       "  Widgets Documentation</a> for setup instructions.\n",
       "</p>\n",
       "<p>\n",
       "  If you're reading this message in another frontend (for example, a static\n",
       "  rendering on GitHub or <a href=\"https://nbviewer.jupyter.org/\">NBViewer</a>),\n",
       "  it may mean that your frontend doesn't currently support widgets.\n",
       "</p>\n"
      ],
      "text/plain": [
       "VBox(children=(Label(value=\"$N'=μN(k-N)$\"), interactive(children=(FloatText(value=100.0, description='Ємність середовища (гранична чисельність): $k = $', layout=Layout(width='400px'), step=0.1, style=DescriptionStyle(description_width='initial')), FloatText(value=-0.001, description='Швидкість росту популяції: $μ = $', layout=Layout(width='400px'), step=0.1, style=DescriptionStyle(description_width='initial')), FloatText(value=10.0, description='Початковий розмір популяції: $N_0 = $', layout=Layout(width='400px'), step=0.1, style=DescriptionStyle(description_width='initial')), Output()), _dom_classes=('widget-interact',))))"
      ]
     },
     "metadata": {},
     "output_type": "display_data"
    }
   ],
   "source": [
    "plot_model1(100, -0.001, 10)"
   ]
  },
  {
   "cell_type": "markdown",
   "metadata": {},
   "source": [
    "! Комментарий"
   ]
  },
  {
   "cell_type": "markdown",
   "metadata": {
    "collapsed": true
   },
   "source": [
    "## Односекторна модель економічної динаміки (модель Солоу)"
   ]
  },
  {
   "cell_type": "markdown",
   "metadata": {},
   "source": [
    "Економічна система виробляє один продукт, який як споживається, так і інвестується. Експорт і імпорт не враховуються. Стан економіки в моделі Солоу визначається за допомогою п'яти ендогенних змінних, що змінюються з часом\n",
    "\n",
    "$ k'=sak^\\alpha-(\\mu+g)k $\n",
    "\n",
    "$ a $ – рівень розвитку економіки\n",
    "\n",
    "$ 0 < \\alpha < 1 $ – частка капіталу в продукції\n",
    "  \n",
    "$ 0 < \\mu < 1 $ – норма витрат на амортизацію\n",
    "  \n",
    "$ 0 < s < 1 $ – норма накопичення\n",
    "  \n",
    "$ 0 < g < 1 $ – темп приросту робочої сили\n",
    " \n",
    "$ k_0 $ – початковий капітал"
   ]
  },
  {
   "cell_type": "markdown",
   "metadata": {},
   "source": [
    "Стаціонарний розв’язок моделі економічної динаміки залежить від параметрів рівняння, початкових умов, а також конкретного варіанта виробничої функції. В цій роботі ми використовуємо виробничу функцію Кобба-Дугласа. Знайдемо для цього випадку стаціонарний розв'язок:\n",
    "\n",
    "$ k'= 0 \\enspace \\Leftrightarrow \\enspace sak^\\alpha-(\\mu+g)k = 0 $\n",
    "\n",
    "Позначимо $\\frac{sa}{\\mu+g} = c$\n",
    "\n",
    "$ \\Rightarrow ck^\\alpha-k = 0 $\n",
    "\n",
    "Обидві функції ( $ ck^\\alpha $ і $ k $ ) є монотонними функціями, і перша - увігнута, а друга - опулка (і одночасно увігнута, до речі). Вони перетинаються в нулі та ще одній точці:\n",
    "\n",
    "$ ck^{\\alpha-1}-1 = 0 \\enspace \\Rightarrow \\enspace k^{1-\\alpha} = c \\enspace \\Rightarrow \\enspace k = c^{\\frac{1}{1-\\alpha}} $\n",
    "\n",
    "$ \\Rightarrow \\left \\{ \\begin{array}{ll}\n",
    "                        k_{1,стац} = 0 \\\\\n",
    "                        k_{2,стац} = (\\frac{sa}{\\mu+g})^{\\frac{1}{1-\\alpha}}\n",
    "                       \\end{array} \\right. $"
   ]
  },
  {
   "cell_type": "markdown",
   "metadata": {},
   "source": [
    "### Значення вхідних параметрів для України"
   ]
  },
  {
   "cell_type": "code",
   "execution_count": 12,
   "metadata": {
    "scrolled": false
   },
   "outputs": [
    {
     "data": {
      "application/vnd.jupyter.widget-view+json": {
       "model_id": "45ab26653bb543578836b0915a115535",
       "version_major": 2,
       "version_minor": 0
      },
      "text/html": [
       "<p>Failed to display Jupyter Widget of type <code>VBox</code>.</p>\n",
       "<p>\n",
       "  If you're reading this message in the Jupyter Notebook or JupyterLab Notebook, it may mean\n",
       "  that the widgets JavaScript is still loading. If this message persists, it\n",
       "  likely means that the widgets JavaScript library is either not installed or\n",
       "  not enabled. See the <a href=\"https://ipywidgets.readthedocs.io/en/stable/user_install.html\">Jupyter\n",
       "  Widgets Documentation</a> for setup instructions.\n",
       "</p>\n",
       "<p>\n",
       "  If you're reading this message in another frontend (for example, a static\n",
       "  rendering on GitHub or <a href=\"https://nbviewer.jupyter.org/\">NBViewer</a>),\n",
       "  it may mean that your frontend doesn't currently support widgets.\n",
       "</p>\n"
      ],
      "text/plain": [
       "VBox(children=(Label(value=\"$k'=sak^α-(μ+q)k$\"), interactive(children=(FloatText(value=0.2, description='Норма накопичення: $s = $', layout=Layout(width='400px'), step=0.1, style=DescriptionStyle(description_width='initial')), FloatText(value=2.5, description='Рівень розвитку економіки: $a = $', layout=Layout(width='400px'), step=0.1, style=DescriptionStyle(description_width='initial')), FloatText(value=0.3, description='Частка капіталу у сукупній продукції: $α = $', layout=Layout(width='400px'), step=0.1, style=DescriptionStyle(description_width='initial')), FloatText(value=0.1, description='Норма витрат на амортизацію: $μ = $', layout=Layout(width='400px'), step=0.1, style=DescriptionStyle(description_width='initial')), FloatText(value=0.1, description='Темп приросту робочої сили: $q = $', layout=Layout(width='400px'), step=0.1, style=DescriptionStyle(description_width='initial')), FloatText(value=0.8, description='Початкова капіталозабезпеченість: $k_0 = $', layout=Layout(width='400px'), step=0.1, style=DescriptionStyle(description_width='initial')), Output()), _dom_classes=('widget-interact',))))"
      ]
     },
     "metadata": {},
     "output_type": "display_data"
    }
   ],
   "source": [
    "plot_model2(0.2, 2.5, 0.3, 0.1, 0.1, 0.8)"
   ]
  },
  {
   "cell_type": "markdown",
   "metadata": {},
   "source": [
    "! Комментарий"
   ]
  },
  {
   "cell_type": "markdown",
   "metadata": {},
   "source": [
    "### Зростаючий процес"
   ]
  },
  {
   "cell_type": "code",
   "execution_count": 16,
   "metadata": {},
   "outputs": [
    {
     "data": {
      "application/vnd.jupyter.widget-view+json": {
       "model_id": "2013ef99f10e498ba011491ffa5516d1",
       "version_major": 2,
       "version_minor": 0
      },
      "text/html": [
       "<p>Failed to display Jupyter Widget of type <code>VBox</code>.</p>\n",
       "<p>\n",
       "  If you're reading this message in the Jupyter Notebook or JupyterLab Notebook, it may mean\n",
       "  that the widgets JavaScript is still loading. If this message persists, it\n",
       "  likely means that the widgets JavaScript library is either not installed or\n",
       "  not enabled. See the <a href=\"https://ipywidgets.readthedocs.io/en/stable/user_install.html\">Jupyter\n",
       "  Widgets Documentation</a> for setup instructions.\n",
       "</p>\n",
       "<p>\n",
       "  If you're reading this message in another frontend (for example, a static\n",
       "  rendering on GitHub or <a href=\"https://nbviewer.jupyter.org/\">NBViewer</a>),\n",
       "  it may mean that your frontend doesn't currently support widgets.\n",
       "</p>\n"
      ],
      "text/plain": [
       "VBox(children=(Label(value=\"$k'=sak^α-(μ+q)k$\"), interactive(children=(FloatText(value=0.2, description='Норма накопичення: $s = $', layout=Layout(width='400px'), step=0.1, style=DescriptionStyle(description_width='initial')), FloatText(value=2.5, description='Рівень розвитку економіки: $a = $', layout=Layout(width='400px'), step=0.1, style=DescriptionStyle(description_width='initial')), FloatText(value=0.8, description='Частка капіталу у сукупній продукції: $α = $', layout=Layout(width='400px'), step=0.1, style=DescriptionStyle(description_width='initial')), FloatText(value=0.1, description='Норма витрат на амортизацію: $μ = $', layout=Layout(width='400px'), step=0.1, style=DescriptionStyle(description_width='initial')), FloatText(value=0.1, description='Темп приросту робочої сили: $q = $', layout=Layout(width='400px'), step=0.1, style=DescriptionStyle(description_width='initial')), FloatText(value=0.1, description='Початкова капіталозабезпеченість: $k_0 = $', layout=Layout(width='400px'), step=0.1, style=DescriptionStyle(description_width='initial')), Output()), _dom_classes=('widget-interact',))))"
      ]
     },
     "metadata": {},
     "output_type": "display_data"
    }
   ],
   "source": [
    "plot_model2(0.2, 2.5, 0.8, 0.1, 0.1, 0.1)"
   ]
  },
  {
   "cell_type": "markdown",
   "metadata": {},
   "source": [
    "! Комментарий"
   ]
  },
  {
   "cell_type": "code",
   "execution_count": 15,
   "metadata": {
    "scrolled": false
   },
   "outputs": [
    {
     "data": {
      "application/vnd.jupyter.widget-view+json": {
       "model_id": "75f27bfba0344a0aa733626885a0dede",
       "version_major": 2,
       "version_minor": 0
      },
      "text/html": [
       "<p>Failed to display Jupyter Widget of type <code>VBox</code>.</p>\n",
       "<p>\n",
       "  If you're reading this message in the Jupyter Notebook or JupyterLab Notebook, it may mean\n",
       "  that the widgets JavaScript is still loading. If this message persists, it\n",
       "  likely means that the widgets JavaScript library is either not installed or\n",
       "  not enabled. See the <a href=\"https://ipywidgets.readthedocs.io/en/stable/user_install.html\">Jupyter\n",
       "  Widgets Documentation</a> for setup instructions.\n",
       "</p>\n",
       "<p>\n",
       "  If you're reading this message in another frontend (for example, a static\n",
       "  rendering on GitHub or <a href=\"https://nbviewer.jupyter.org/\">NBViewer</a>),\n",
       "  it may mean that your frontend doesn't currently support widgets.\n",
       "</p>\n"
      ],
      "text/plain": [
       "VBox(children=(Label(value=\"$k'=sak^α-(μ+q)k$\"), interactive(children=(FloatText(value=0.5, description='Норма накопичення: $s = $', layout=Layout(width='400px'), step=0.1, style=DescriptionStyle(description_width='initial')), FloatText(value=2.7, description='Рівень розвитку економіки: $a = $', layout=Layout(width='400px'), step=0.1, style=DescriptionStyle(description_width='initial')), FloatText(value=0.9, description='Частка капіталу у сукупній продукції: $α = $', layout=Layout(width='400px'), step=0.1, style=DescriptionStyle(description_width='initial')), FloatText(value=0.1, description='Норма витрат на амортизацію: $μ = $', layout=Layout(width='400px'), step=0.1, style=DescriptionStyle(description_width='initial')), FloatText(value=0.1, description='Темп приросту робочої сили: $q = $', layout=Layout(width='400px'), step=0.1, style=DescriptionStyle(description_width='initial')), FloatText(value=0.8, description='Початкова капіталозабезпеченість: $k_0 = $', layout=Layout(width='400px'), step=0.1, style=DescriptionStyle(description_width='initial')), Output()), _dom_classes=('widget-interact',))))"
      ]
     },
     "metadata": {},
     "output_type": "display_data"
    }
   ],
   "source": [
    "plot_model2(0.5, 2.7, 0.9, 0.1, 0.1, 0.8)"
   ]
  },
  {
   "cell_type": "markdown",
   "metadata": {},
   "source": [
    "! Комментарий"
   ]
  },
  {
   "cell_type": "markdown",
   "metadata": {},
   "source": [
    "### Стаціонарний процес"
   ]
  },
  {
   "cell_type": "code",
   "execution_count": 18,
   "metadata": {},
   "outputs": [
    {
     "data": {
      "application/vnd.jupyter.widget-view+json": {
       "model_id": "1e31f6ef60d040f09a816685f5947340",
       "version_major": 2,
       "version_minor": 0
      },
      "text/html": [
       "<p>Failed to display Jupyter Widget of type <code>VBox</code>.</p>\n",
       "<p>\n",
       "  If you're reading this message in the Jupyter Notebook or JupyterLab Notebook, it may mean\n",
       "  that the widgets JavaScript is still loading. If this message persists, it\n",
       "  likely means that the widgets JavaScript library is either not installed or\n",
       "  not enabled. See the <a href=\"https://ipywidgets.readthedocs.io/en/stable/user_install.html\">Jupyter\n",
       "  Widgets Documentation</a> for setup instructions.\n",
       "</p>\n",
       "<p>\n",
       "  If you're reading this message in another frontend (for example, a static\n",
       "  rendering on GitHub or <a href=\"https://nbviewer.jupyter.org/\">NBViewer</a>),\n",
       "  it may mean that your frontend doesn't currently support widgets.\n",
       "</p>\n"
      ],
      "text/plain": [
       "VBox(children=(Label(value=\"$k'=sak^α-(μ+q)k$\"), interactive(children=(FloatText(value=0.2, description='Норма накопичення: $s = $', layout=Layout(width='400px'), step=0.1, style=DescriptionStyle(description_width='initial')), FloatText(value=2.5, description='Рівень розвитку економіки: $a = $', layout=Layout(width='400px'), step=0.1, style=DescriptionStyle(description_width='initial')), FloatText(value=0.3, description='Частка капіталу у сукупній продукції: $α = $', layout=Layout(width='400px'), step=0.1, style=DescriptionStyle(description_width='initial')), FloatText(value=0.1, description='Норма витрат на амортизацію: $μ = $', layout=Layout(width='400px'), step=0.1, style=DescriptionStyle(description_width='initial')), FloatText(value=0.1, description='Темп приросту робочої сили: $q = $', layout=Layout(width='400px'), step=0.1, style=DescriptionStyle(description_width='initial')), FloatText(value=0.0, description='Початкова капіталозабезпеченість: $k_0 = $', layout=Layout(width='400px'), step=0.1, style=DescriptionStyle(description_width='initial')), Output()), _dom_classes=('widget-interact',))))"
      ]
     },
     "metadata": {},
     "output_type": "display_data"
    }
   ],
   "source": [
    "plot_model2(0.2, 2.5, 0.3, 0.1, 0.1, 0)"
   ]
  },
  {
   "cell_type": "markdown",
   "metadata": {},
   "source": [
    "! Комментарий"
   ]
  },
  {
   "cell_type": "code",
   "execution_count": 24,
   "metadata": {},
   "outputs": [
    {
     "data": {
      "application/vnd.jupyter.widget-view+json": {
       "model_id": "c303d4edf26d447b8615a099553cc09e",
       "version_major": 2,
       "version_minor": 0
      },
      "text/html": [
       "<p>Failed to display Jupyter Widget of type <code>VBox</code>.</p>\n",
       "<p>\n",
       "  If you're reading this message in the Jupyter Notebook or JupyterLab Notebook, it may mean\n",
       "  that the widgets JavaScript is still loading. If this message persists, it\n",
       "  likely means that the widgets JavaScript library is either not installed or\n",
       "  not enabled. See the <a href=\"https://ipywidgets.readthedocs.io/en/stable/user_install.html\">Jupyter\n",
       "  Widgets Documentation</a> for setup instructions.\n",
       "</p>\n",
       "<p>\n",
       "  If you're reading this message in another frontend (for example, a static\n",
       "  rendering on GitHub or <a href=\"https://nbviewer.jupyter.org/\">NBViewer</a>),\n",
       "  it may mean that your frontend doesn't currently support widgets.\n",
       "</p>\n"
      ],
      "text/plain": [
       "VBox(children=(Label(value=\"$k'=sak^α-(μ+q)k$\"), interactive(children=(FloatText(value=0.2, description='Норма накопичення: $s = $', layout=Layout(width='400px'), step=0.1, style=DescriptionStyle(description_width='initial')), FloatText(value=2.5, description='Рівень розвитку економіки: $a = $', layout=Layout(width='400px'), step=0.1, style=DescriptionStyle(description_width='initial')), FloatText(value=0.3, description='Частка капіталу у сукупній продукції: $α = $', layout=Layout(width='400px'), step=0.1, style=DescriptionStyle(description_width='initial')), FloatText(value=0.1, description='Норма витрат на амортизацію: $μ = $', layout=Layout(width='400px'), step=0.1, style=DescriptionStyle(description_width='initial')), FloatText(value=0.1, description='Темп приросту робочої сили: $q = $', layout=Layout(width='400px'), step=0.1, style=DescriptionStyle(description_width='initial')), FloatText(value=3.7024203699314673, description='Початкова капіталозабезпеченість: $k_0 = $', layout=Layout(width='400px'), step=0.1, style=DescriptionStyle(description_width='initial')), Output()), _dom_classes=('widget-interact',))))"
      ]
     },
     "metadata": {},
     "output_type": "display_data"
    }
   ],
   "source": [
    "s = 0.2\n",
    "a = 2.5\n",
    "alpha = 0.3\n",
    "mu = 0.1\n",
    "g = 0.1\n",
    "k = (s * a / (mu + g)) ** (1 / (1 - alpha))\n",
    "plot_model2(s, a, alpha, mu, g, k)"
   ]
  },
  {
   "cell_type": "markdown",
   "metadata": {},
   "source": [
    "! Комментарий"
   ]
  },
  {
   "cell_type": "markdown",
   "metadata": {},
   "source": [
    "### Спадний процес"
   ]
  },
  {
   "cell_type": "code",
   "execution_count": 17,
   "metadata": {
    "scrolled": false
   },
   "outputs": [
    {
     "data": {
      "application/vnd.jupyter.widget-view+json": {
       "model_id": "29f4692d76e0473ebbe5c0647b994531",
       "version_major": 2,
       "version_minor": 0
      },
      "text/html": [
       "<p>Failed to display Jupyter Widget of type <code>VBox</code>.</p>\n",
       "<p>\n",
       "  If you're reading this message in the Jupyter Notebook or JupyterLab Notebook, it may mean\n",
       "  that the widgets JavaScript is still loading. If this message persists, it\n",
       "  likely means that the widgets JavaScript library is either not installed or\n",
       "  not enabled. See the <a href=\"https://ipywidgets.readthedocs.io/en/stable/user_install.html\">Jupyter\n",
       "  Widgets Documentation</a> for setup instructions.\n",
       "</p>\n",
       "<p>\n",
       "  If you're reading this message in another frontend (for example, a static\n",
       "  rendering on GitHub or <a href=\"https://nbviewer.jupyter.org/\">NBViewer</a>),\n",
       "  it may mean that your frontend doesn't currently support widgets.\n",
       "</p>\n"
      ],
      "text/plain": [
       "VBox(children=(Label(value=\"$k'=sak^α-(μ+q)k$\"), interactive(children=(FloatText(value=0.2, description='Норма накопичення: $s = $', layout=Layout(width='400px'), step=0.1, style=DescriptionStyle(description_width='initial')), FloatText(value=2.5, description='Рівень розвитку економіки: $a = $', layout=Layout(width='400px'), step=0.1, style=DescriptionStyle(description_width='initial')), FloatText(value=0.3, description='Частка капіталу у сукупній продукції: $α = $', layout=Layout(width='400px'), step=0.1, style=DescriptionStyle(description_width='initial')), FloatText(value=0.1, description='Норма витрат на амортизацію: $μ = $', layout=Layout(width='400px'), step=0.1, style=DescriptionStyle(description_width='initial')), FloatText(value=0.1, description='Темп приросту робочої сили: $q = $', layout=Layout(width='400px'), step=0.1, style=DescriptionStyle(description_width='initial')), FloatText(value=3.8, description='Початкова капіталозабезпеченість: $k_0 = $', layout=Layout(width='400px'), step=0.1, style=DescriptionStyle(description_width='initial')), Output()), _dom_classes=('widget-interact',))))"
      ]
     },
     "metadata": {},
     "output_type": "display_data"
    }
   ],
   "source": [
    "plot_model2(0.2, 2.5, 0.3, 0.1, 0.1, 3.8)"
   ]
  },
  {
   "cell_type": "markdown",
   "metadata": {},
   "source": [
    "! Комментарий"
   ]
  },
  {
   "cell_type": "markdown",
   "metadata": {
    "collapsed": true
   },
   "source": [
    "## Вимушені коливання"
   ]
  },
  {
   "cell_type": "markdown",
   "metadata": {},
   "source": [
    "$ x''+2\\delta x'+\\omega_0^2 x=0 $\n",
    "\n",
    "$ \\delta $ - коефіцієнт згасання\n",
    "\n",
    "$ ω_0 $ - власна частота коливань\n",
    "\n",
    "$ ω $ – частота коливань зовнішньої сили\n",
    "\n",
    "$ f_0 $ – амплітуда зовнішньої сили\n",
    "\n",
    "$ \\left \\{ \\begin{array}{ll}\n",
    "           \\ddot{x}(t)+2\\delta \\dot{x}(t)+\\omega_0^2 x(t)=0  \\\\\n",
    "           x(t) = A cos(\\omega t+\\phi); \\enspace \\dot{x}(t) = - A \\omega sin(\\omega t+\\phi); \\enspace \\ddot{x}(t) = - A \\omega^2 cos(\\omega t+\\phi) \n",
    "           \\end{array} \\right. $\n",
    "\n",
    "$   $\n",
    "\n",
    "$ \\Rightarrow \\left \\{ \\begin{array}{ll}\n",
    "                       A = \\frac{f_0}{\\sqrt{(\\omega_0^2-\\omega^2)^2+4\\delta^2\\omega^2}} \\\\ \n",
    "                       tg(\\phi) = - \\frac{2\\delta\\omega}{\\omega_0^2-\\omega^2)}\n",
    "           \\end{array} \\right. $\n",
    "\n",
    "$ x(t) = \\frac{f_0}{\\sqrt{(\\omega_0^2-\\omega^2)^2+4\\delta^2\\omega^2}}cos(\\omega t+\\phi) $\n",
    "\n",
    "% $ \\Rightarrow x(t) = \\frac{f_0}{\\sqrt{(\\omega_0^2-\\omega^2)^2+4\\delta^2\\omega^2}}cos(arctg(\\frac{2\\delta\\omega}{\\omega_0^2-\\omega^2)})) = \\frac{f_0}{\\sqrt{(\\omega_0^2-\\omega^2)^2+4\\delta^2\\omega^2}}\\frac{\\omega_0^2-\\omega^2}{\\sqrt{(\\omega_0^2-\\omega^2)^2+4\\delta^2\\omega^2}} = f_0\\frac{\\omega_0^2-\\omega^2}{(\\omega_0^2-\\omega^2)^2+4\\delta^2\\omega^2}$ %\n",
    "\n",
    "$ A_{рез} = \\frac{f_0}{2\\delta\\sqrt{\\omega_0^2-\\delta^2}} $\n",
    "\n",
    "$ A_{max} \\approx \\frac{w_0f_0}{2\\delta} $\n"
   ]
  },
  {
   "cell_type": "markdown",
   "metadata": {},
   "source": [
    "### Гармонічні коливання"
   ]
  },
  {
   "cell_type": "code",
   "execution_count": 72,
   "metadata": {
    "code_folding": []
   },
   "outputs": [
    {
     "data": {
      "application/vnd.jupyter.widget-view+json": {
       "model_id": "96dba198344146e58c500981b1b69a6b",
       "version_major": 2,
       "version_minor": 0
      },
      "text/html": [
       "<p>Failed to display Jupyter Widget of type <code>VBox</code>.</p>\n",
       "<p>\n",
       "  If you're reading this message in the Jupyter Notebook or JupyterLab Notebook, it may mean\n",
       "  that the widgets JavaScript is still loading. If this message persists, it\n",
       "  likely means that the widgets JavaScript library is either not installed or\n",
       "  not enabled. See the <a href=\"https://ipywidgets.readthedocs.io/en/stable/user_install.html\">Jupyter\n",
       "  Widgets Documentation</a> for setup instructions.\n",
       "</p>\n",
       "<p>\n",
       "  If you're reading this message in another frontend (for example, a static\n",
       "  rendering on GitHub or <a href=\"https://nbviewer.jupyter.org/\">NBViewer</a>),\n",
       "  it may mean that your frontend doesn't currently support widgets.\n",
       "</p>\n"
      ],
      "text/plain": [
       "VBox(children=(Label(value=\"$x''+2δ x'+ω_0^2 x=f_0 cos(ωt)$\"), interactive(children=(FloatText(value=0.0, description='Коефіцієнт згасання: $δ = $', layout=Layout(width='400px'), step=0.1, style=DescriptionStyle(description_width='initial')), FloatText(value=0.4, description='Власна частота: $ω_0 = $', layout=Layout(width='400px'), step=0.1, style=DescriptionStyle(description_width='initial')), FloatText(value=0.0, description='Частота зовнішньої сили: $ω = $', layout=Layout(width='400px'), step=0.1, style=DescriptionStyle(description_width='initial')), FloatText(value=0.0, description='Амплітуда зовнішньої сили: $f_0 = $', layout=Layout(width='400px'), step=0.1, style=DescriptionStyle(description_width='initial')), FloatText(value=0.3, description='Початкове положення: $x_0 = $', layout=Layout(width='400px'), step=0.1, style=DescriptionStyle(description_width='initial')), FloatText(value=0.2, description=\"Початкова швидкіть: $x_0' = $\", layout=Layout(width='400px'), step=0.1, style=DescriptionStyle(description_width='initial')), Output()), _dom_classes=('widget-interact',))))"
      ]
     },
     "metadata": {},
     "output_type": "display_data"
    }
   ],
   "source": [
    "plot_model3(0, 0.4, 0, 0, 0.3, 0.2)"
   ]
  },
  {
   "cell_type": "markdown",
   "metadata": {},
   "source": [
    "! Комментарий"
   ]
  },
  {
   "cell_type": "markdown",
   "metadata": {},
   "source": [
    "### Згасаючі коливання"
   ]
  },
  {
   "cell_type": "code",
   "execution_count": 73,
   "metadata": {
    "code_folding": []
   },
   "outputs": [
    {
     "data": {
      "application/vnd.jupyter.widget-view+json": {
       "model_id": "7889824c4b5b4f07b3ffaadf7da62ad0",
       "version_major": 2,
       "version_minor": 0
      },
      "text/html": [
       "<p>Failed to display Jupyter Widget of type <code>VBox</code>.</p>\n",
       "<p>\n",
       "  If you're reading this message in the Jupyter Notebook or JupyterLab Notebook, it may mean\n",
       "  that the widgets JavaScript is still loading. If this message persists, it\n",
       "  likely means that the widgets JavaScript library is either not installed or\n",
       "  not enabled. See the <a href=\"https://ipywidgets.readthedocs.io/en/stable/user_install.html\">Jupyter\n",
       "  Widgets Documentation</a> for setup instructions.\n",
       "</p>\n",
       "<p>\n",
       "  If you're reading this message in another frontend (for example, a static\n",
       "  rendering on GitHub or <a href=\"https://nbviewer.jupyter.org/\">NBViewer</a>),\n",
       "  it may mean that your frontend doesn't currently support widgets.\n",
       "</p>\n"
      ],
      "text/plain": [
       "VBox(children=(Label(value=\"$x''+2δ x'+ω_0^2 x=f_0 cos(ωt)$\"), interactive(children=(FloatText(value=0.1, description='Коефіцієнт згасання: $δ = $', layout=Layout(width='400px'), step=0.1, style=DescriptionStyle(description_width='initial')), FloatText(value=0.7, description='Власна частота: $ω_0 = $', layout=Layout(width='400px'), step=0.1, style=DescriptionStyle(description_width='initial')), FloatText(value=0.0, description='Частота зовнішньої сили: $ω = $', layout=Layout(width='400px'), step=0.1, style=DescriptionStyle(description_width='initial')), FloatText(value=0.0, description='Амплітуда зовнішньої сили: $f_0 = $', layout=Layout(width='400px'), step=0.1, style=DescriptionStyle(description_width='initial')), FloatText(value=0.4, description='Початкове положення: $x_0 = $', layout=Layout(width='400px'), step=0.1, style=DescriptionStyle(description_width='initial')), FloatText(value=1.4, description=\"Початкова швидкіть: $x_0' = $\", layout=Layout(width='400px'), step=0.1, style=DescriptionStyle(description_width='initial')), Output()), _dom_classes=('widget-interact',))))"
      ]
     },
     "metadata": {},
     "output_type": "display_data"
    }
   ],
   "source": [
    "plot_model3(0.1, 0.7, 0, 0, 0.4, 1.4)"
   ]
  },
  {
   "cell_type": "markdown",
   "metadata": {},
   "source": [
    "! Комментарий"
   ]
  },
  {
   "cell_type": "markdown",
   "metadata": {},
   "source": [
    "### Вимушені коливання"
   ]
  },
  {
   "cell_type": "code",
   "execution_count": 39,
   "metadata": {},
   "outputs": [
    {
     "data": {
      "application/vnd.jupyter.widget-view+json": {
       "model_id": "425290918c2b4c4abb9ff23845bfa44d",
       "version_major": 2,
       "version_minor": 0
      },
      "text/html": [
       "<p>Failed to display Jupyter Widget of type <code>VBox</code>.</p>\n",
       "<p>\n",
       "  If you're reading this message in the Jupyter Notebook or JupyterLab Notebook, it may mean\n",
       "  that the widgets JavaScript is still loading. If this message persists, it\n",
       "  likely means that the widgets JavaScript library is either not installed or\n",
       "  not enabled. See the <a href=\"https://ipywidgets.readthedocs.io/en/stable/user_install.html\">Jupyter\n",
       "  Widgets Documentation</a> for setup instructions.\n",
       "</p>\n",
       "<p>\n",
       "  If you're reading this message in another frontend (for example, a static\n",
       "  rendering on GitHub or <a href=\"https://nbviewer.jupyter.org/\">NBViewer</a>),\n",
       "  it may mean that your frontend doesn't currently support widgets.\n",
       "</p>\n"
      ],
      "text/plain": [
       "VBox(children=(Label(value=\"$x''+2δ x'+ω_0^2 x=f_0 cos(ωt)$\"), interactive(children=(FloatText(value=0.01, description='Коефіцієнт згасання: $δ = $', layout=Layout(width='400px'), step=0.1, style=DescriptionStyle(description_width='initial')), FloatText(value=0.9, description='Власна частота: $ω_0 = $', layout=Layout(width='400px'), step=0.1, style=DescriptionStyle(description_width='initial')), FloatText(value=0.8, description='Частота зовнішньої сили: $ω = $', layout=Layout(width='400px'), step=0.1, style=DescriptionStyle(description_width='initial')), FloatText(value=50.0, description='Амплітуда зовнішньої сили: $f_0 = $', layout=Layout(width='400px'), step=0.1, style=DescriptionStyle(description_width='initial')), FloatText(value=0.4, description='Початкове положення: $x_0 = $', layout=Layout(width='400px'), step=0.1, style=DescriptionStyle(description_width='initial')), FloatText(value=1.4, description=\"Початкова швидкіть: $x_0' = $\", layout=Layout(width='400px'), step=0.1, style=DescriptionStyle(description_width='initial')), Output()), _dom_classes=('widget-interact',))))"
      ]
     },
     "metadata": {},
     "output_type": "display_data"
    }
   ],
   "source": [
    "plot_model3(0.01, 0.9, 0.8, 50, 0.4, 1.4)"
   ]
  },
  {
   "cell_type": "markdown",
   "metadata": {},
   "source": [
    "! Комментарий"
   ]
  },
  {
   "cell_type": "code",
   "execution_count": 40,
   "metadata": {},
   "outputs": [
    {
     "data": {
      "application/vnd.jupyter.widget-view+json": {
       "model_id": "72ab1816a9c04adb94204bc5644ef243",
       "version_major": 2,
       "version_minor": 0
      },
      "text/html": [
       "<p>Failed to display Jupyter Widget of type <code>VBox</code>.</p>\n",
       "<p>\n",
       "  If you're reading this message in the Jupyter Notebook or JupyterLab Notebook, it may mean\n",
       "  that the widgets JavaScript is still loading. If this message persists, it\n",
       "  likely means that the widgets JavaScript library is either not installed or\n",
       "  not enabled. See the <a href=\"https://ipywidgets.readthedocs.io/en/stable/user_install.html\">Jupyter\n",
       "  Widgets Documentation</a> for setup instructions.\n",
       "</p>\n",
       "<p>\n",
       "  If you're reading this message in another frontend (for example, a static\n",
       "  rendering on GitHub or <a href=\"https://nbviewer.jupyter.org/\">NBViewer</a>),\n",
       "  it may mean that your frontend doesn't currently support widgets.\n",
       "</p>\n"
      ],
      "text/plain": [
       "VBox(children=(Label(value=\"$x''+2δ x'+ω_0^2 x=f_0 cos(ωt)$\"), interactive(children=(FloatText(value=0.01, description='Коефіцієнт згасання: $δ = $', layout=Layout(width='400px'), step=0.1, style=DescriptionStyle(description_width='initial')), FloatText(value=0.8, description='Власна частота: $ω_0 = $', layout=Layout(width='400px'), step=0.1, style=DescriptionStyle(description_width='initial')), FloatText(value=1.3, description='Частота зовнішньої сили: $ω = $', layout=Layout(width='400px'), step=0.1, style=DescriptionStyle(description_width='initial')), FloatText(value=50.0, description='Амплітуда зовнішньої сили: $f_0 = $', layout=Layout(width='400px'), step=0.1, style=DescriptionStyle(description_width='initial')), FloatText(value=0.4, description='Початкове положення: $x_0 = $', layout=Layout(width='400px'), step=0.1, style=DescriptionStyle(description_width='initial')), FloatText(value=1.4, description=\"Початкова швидкіть: $x_0' = $\", layout=Layout(width='400px'), step=0.1, style=DescriptionStyle(description_width='initial')), Output()), _dom_classes=('widget-interact',))))"
      ]
     },
     "metadata": {},
     "output_type": "display_data"
    }
   ],
   "source": [
    "plot_model3(0.01, 0.8, 1.3, 50, 0.4, 1.4)"
   ]
  },
  {
   "cell_type": "markdown",
   "metadata": {},
   "source": [
    "! Комментарий"
   ]
  },
  {
   "cell_type": "code",
   "execution_count": 41,
   "metadata": {},
   "outputs": [
    {
     "data": {
      "application/vnd.jupyter.widget-view+json": {
       "model_id": "1af8dd818aa747e6a75b586dc50948c4",
       "version_major": 2,
       "version_minor": 0
      },
      "text/html": [
       "<p>Failed to display Jupyter Widget of type <code>VBox</code>.</p>\n",
       "<p>\n",
       "  If you're reading this message in the Jupyter Notebook or JupyterLab Notebook, it may mean\n",
       "  that the widgets JavaScript is still loading. If this message persists, it\n",
       "  likely means that the widgets JavaScript library is either not installed or\n",
       "  not enabled. See the <a href=\"https://ipywidgets.readthedocs.io/en/stable/user_install.html\">Jupyter\n",
       "  Widgets Documentation</a> for setup instructions.\n",
       "</p>\n",
       "<p>\n",
       "  If you're reading this message in another frontend (for example, a static\n",
       "  rendering on GitHub or <a href=\"https://nbviewer.jupyter.org/\">NBViewer</a>),\n",
       "  it may mean that your frontend doesn't currently support widgets.\n",
       "</p>\n"
      ],
      "text/plain": [
       "VBox(children=(Label(value=\"$x''+2δ x'+ω_0^2 x=f_0 cos(ωt)$\"), interactive(children=(FloatText(value=0.01, description='Коефіцієнт згасання: $δ = $', layout=Layout(width='400px'), step=0.1, style=DescriptionStyle(description_width='initial')), FloatText(value=0.7, description='Власна частота: $ω_0 = $', layout=Layout(width='400px'), step=0.1, style=DescriptionStyle(description_width='initial')), FloatText(value=0.7, description='Частота зовнішньої сили: $ω = $', layout=Layout(width='400px'), step=0.1, style=DescriptionStyle(description_width='initial')), FloatText(value=50.0, description='Амплітуда зовнішньої сили: $f_0 = $', layout=Layout(width='400px'), step=0.1, style=DescriptionStyle(description_width='initial')), FloatText(value=0.4, description='Початкове положення: $x_0 = $', layout=Layout(width='400px'), step=0.1, style=DescriptionStyle(description_width='initial')), FloatText(value=1.4, description=\"Початкова швидкіть: $x_0' = $\", layout=Layout(width='400px'), step=0.1, style=DescriptionStyle(description_width='initial')), Output()), _dom_classes=('widget-interact',))))"
      ]
     },
     "metadata": {},
     "output_type": "display_data"
    }
   ],
   "source": [
    "plot_model3(0.01, 0.7, 0.7, 50, 0.4, 1.4)"
   ]
  },
  {
   "cell_type": "markdown",
   "metadata": {},
   "source": [
    "! Комментарий"
   ]
  },
  {
   "cell_type": "markdown",
   "metadata": {},
   "source": [
    "## Коливання у системі «хижак-жертва»"
   ]
  },
  {
   "cell_type": "markdown",
   "metadata": {},
   "source": [
    "$ \\left \\{ \\begin{array}{ll}\n",
    "            x'=(α_x y - β_x)x \\\\\n",
    "            y'=(α_y - β_y x)y\n",
    "           \\end{array} \\right. $\n",
    "\n",
    "$ α_x $ - \"норма споживання\" жертв\n",
    " \n",
    "$  α_y $ - природна народжуваність жертв\n",
    " \n",
    "$  β_x $ - природна смертність хижаків\n",
    " \n",
    "$  β_y $ - \"норма споживаності\" жертв\n",
    " \n",
    "$  x_0 $ - початкова кількість хижаків\n",
    " \n",
    "$  y_0 $ - початкова кількість жертв"
   ]
  },
  {
   "cell_type": "markdown",
   "metadata": {},
   "source": [
    "Стаціонарні точки:\n",
    "\n",
    "$ \\left \\{ \\begin{array}{ll}\n",
    "            x'= 0 \\\\\n",
    "            y'= 0\n",
    "           \\end{array} \\right. $\n",
    "$ \\enspace  \\Leftrightarrow \\enspace $\n",
    "$ \\left \\{ \\begin{array}{ll}\n",
    "            (α_x y - β_x)x = 0 \\\\\n",
    "            (α_y - β_y x)y = 0\n",
    "           \\end{array} \\right. $\n",
    "$ \\enspace  \\Rightarrow \\enspace $\n",
    "$ \\left [ \\begin{array}{ll}\n",
    "  \\left \\{ \\begin{array}{ll}\n",
    "            x^* = 0 \\\\\n",
    "            y^* = 0\n",
    "          \\end{array} \\right. \\\\\n",
    "  \\left \\{ \\begin{array}{ll}\n",
    "            x^* = \\frac{α_y}{β_y}\\\\\n",
    "            y^* = \\frac{β_x}{α_x}\n",
    "           \\end{array} \\right. \\\\\n",
    "           \\end{array} \\right. $"
   ]
  },
  {
   "cell_type": "markdown",
   "metadata": {},
   "source": [
    "Стаціонарна точка $ (x^*, y^*) = (\\frac{α_y}{β_y}, \\frac{β_x}{α_x}) \\enspace - $ положення рівноваги, в якому чисельність жертв і хижаків залишаються сталими. З відхиленням від цієї точки спостерігаються коливальні процеси зміни популяцій."
   ]
  },
  {
   "cell_type": "markdown",
   "metadata": {},
   "source": [
    "Коливання:\n",
    "\n",
    "Дослідимо систему при незначних відхиленнях від $ (x^*, y^*) $:\n",
    "\n",
    "$ \\text{Нехай} \\enspace x = x^* + u, y = y^* + v; \\enspace u,v - \\text{відносно маленькі величини} $\n",
    "\n",
    "$ \\dot{u} =\\dot{x}=(α_xv + α_x y^* - β_x) (x^*+u)=α_xv(x^*+u) \\approx α_xvx^* = \\frac{α_xα_y}{β_y}v $\n",
    "\n",
    "$ \\dot{v} = \\dot{x}=(α_y - β_y x^* - β_yu)(y^*+v) = (- β_yu)(y^*+v) \\approx - β_yuy^* = - \\frac{β_x β_y}{α_x}u $\n",
    "\n",
    "$ \\enspace \\Rightarrow \\enspace \\ddot{u} = \\frac{α_xα_y}{β_y}\\dot{v} = - α_yβ_xu \\enspace \\Rightarrow \\enspace \\ddot{u} + α_yβ_xu = 0$\n",
    "\n",
    "$ \\enspace \\Rightarrow \\enspace \\ddot{v} = - \\frac{β_x β_y}{α_x}\\dot{u} = - α_yβ_xv \\enspace \\Rightarrow \\enspace \\ddot{v} + α_yβ_xv = 0$\n",
    "\n",
    "$ \\Rightarrow \\omega_0 = \\sqrt{α_yβ_x} \\enspace \\text{як для u, так і для v}$\n",
    "\n",
    "Отже, частота коливань для обох популяцій однакова і визначається природною народжуваністю жертв і природною смертністю хижаків\n",
    "\n",
    "Амплітуди і фази коливань залежать від початкових умов."
   ]
  },
  {
   "cell_type": "markdown",
   "metadata": {},
   "source": [
    "### Стаціонарний процес"
   ]
  },
  {
   "cell_type": "code",
   "execution_count": 70,
   "metadata": {
    "scrolled": false
   },
   "outputs": [
    {
     "data": {
      "application/vnd.jupyter.widget-view+json": {
       "model_id": "87d4c4dabf5a4e48ac80c9b2b921aa78",
       "version_major": 2,
       "version_minor": 0
      },
      "text/html": [
       "<p>Failed to display Jupyter Widget of type <code>VBox</code>.</p>\n",
       "<p>\n",
       "  If you're reading this message in the Jupyter Notebook or JupyterLab Notebook, it may mean\n",
       "  that the widgets JavaScript is still loading. If this message persists, it\n",
       "  likely means that the widgets JavaScript library is either not installed or\n",
       "  not enabled. See the <a href=\"https://ipywidgets.readthedocs.io/en/stable/user_install.html\">Jupyter\n",
       "  Widgets Documentation</a> for setup instructions.\n",
       "</p>\n",
       "<p>\n",
       "  If you're reading this message in another frontend (for example, a static\n",
       "  rendering on GitHub or <a href=\"https://nbviewer.jupyter.org/\">NBViewer</a>),\n",
       "  it may mean that your frontend doesn't currently support widgets.\n",
       "</p>\n"
      ],
      "text/plain": [
       "VBox(children=(Label(value=\"$ \\\\bigg\\\\{ \\\\matrix{x'=(α_x y - β_x)x \\\\cr y'=(α_y - β_y x)y} $\", layout=Layout(height='50px')), interactive(children=(FloatText(value=0.6, description='\"Норма споживання\" жертв: $α_x = $', layout=Layout(width='400px'), step=0.1, style=DescriptionStyle(description_width='initial')), FloatText(value=0.7, description='Природна народжуваність жертв: $α_y = $', layout=Layout(width='400px'), step=0.1, style=DescriptionStyle(description_width='initial')), FloatText(value=0.5, description='Природна смертність хижаків: $β_x = $', layout=Layout(width='400px'), step=0.1, style=DescriptionStyle(description_width='initial')), FloatText(value=0.6, description='\"Норма споживаності\" жертв: $β_y = $', layout=Layout(width='400px'), step=0.1, style=DescriptionStyle(description_width='initial')), FloatText(value=0.0, description='Початкова кількість хижаків: $x_0 = $', layout=Layout(width='400px'), step=0.1, style=DescriptionStyle(description_width='initial')), FloatText(value=0.0, description='Початкова кількість жертв: $y_0 = $', layout=Layout(width='400px'), step=0.1, style=DescriptionStyle(description_width='initial')), Output()), _dom_classes=('widget-interact',))))"
      ]
     },
     "metadata": {},
     "output_type": "display_data"
    }
   ],
   "source": [
    "plot_model4(0.6, 0.7, 0.5, 0.6, 0, 0)"
   ]
  },
  {
   "cell_type": "markdown",
   "metadata": {},
   "source": [
    "! Комментарий"
   ]
  },
  {
   "cell_type": "code",
   "execution_count": 59,
   "metadata": {
    "code_folding": []
   },
   "outputs": [
    {
     "data": {
      "application/vnd.jupyter.widget-view+json": {
       "model_id": "938a5cb1ac024e1fb9fcdce960865514",
       "version_major": 2,
       "version_minor": 0
      },
      "text/html": [
       "<p>Failed to display Jupyter Widget of type <code>VBox</code>.</p>\n",
       "<p>\n",
       "  If you're reading this message in the Jupyter Notebook or JupyterLab Notebook, it may mean\n",
       "  that the widgets JavaScript is still loading. If this message persists, it\n",
       "  likely means that the widgets JavaScript library is either not installed or\n",
       "  not enabled. See the <a href=\"https://ipywidgets.readthedocs.io/en/stable/user_install.html\">Jupyter\n",
       "  Widgets Documentation</a> for setup instructions.\n",
       "</p>\n",
       "<p>\n",
       "  If you're reading this message in another frontend (for example, a static\n",
       "  rendering on GitHub or <a href=\"https://nbviewer.jupyter.org/\">NBViewer</a>),\n",
       "  it may mean that your frontend doesn't currently support widgets.\n",
       "</p>\n"
      ],
      "text/plain": [
       "VBox(children=(Label(value=\"$ \\\\bigg\\\\{ \\\\matrix{x'=(α_x y - β_x)x \\\\cr y'=(α_y - β_y x)y} $\", layout=Layout(height='50px')), interactive(children=(FloatText(value=0.3, description='\"Норма споживання\" жертв: $α_x = $', layout=Layout(width='400px'), step=0.1, style=DescriptionStyle(description_width='initial')), FloatText(value=0.3, description='Природна народжуваність жертв: $α_y = $', layout=Layout(width='400px'), step=0.1, style=DescriptionStyle(description_width='initial')), FloatText(value=0.3, description='Природна смертність хижаків: $β_x = $', layout=Layout(width='400px'), step=0.1, style=DescriptionStyle(description_width='initial')), FloatText(value=0.6, description='\"Норма споживаності\" жертв: $β_y = $', layout=Layout(width='400px'), step=0.1, style=DescriptionStyle(description_width='initial')), FloatText(value=0.5, description='Початкова кількість хижаків: $x_0 = $', layout=Layout(width='400px'), step=0.1, style=DescriptionStyle(description_width='initial')), FloatText(value=1.0, description='Початкова кількість жертв: $y_0 = $', layout=Layout(width='400px'), step=0.1, style=DescriptionStyle(description_width='initial')), Output()), _dom_classes=('widget-interact',))))"
      ]
     },
     "metadata": {},
     "output_type": "display_data"
    }
   ],
   "source": [
    "αx = 0.3\n",
    "αy = 0.3\n",
    "βx = 0.3\n",
    "βy = 0.6\n",
    "plot_model4(αx, αy, βx, βy, αy/βy, βx/αx)"
   ]
  },
  {
   "cell_type": "markdown",
   "metadata": {},
   "source": [
    "! Комментарий"
   ]
  },
  {
   "cell_type": "markdown",
   "metadata": {},
   "source": [
    "### Коливання при незначних відхиленнях початкових умов від рівноваги"
   ]
  },
  {
   "cell_type": "code",
   "execution_count": 71,
   "metadata": {},
   "outputs": [
    {
     "data": {
      "application/vnd.jupyter.widget-view+json": {
       "model_id": "0a6f1108a4e84f809d8fc73b421f8b05",
       "version_major": 2,
       "version_minor": 0
      },
      "text/html": [
       "<p>Failed to display Jupyter Widget of type <code>VBox</code>.</p>\n",
       "<p>\n",
       "  If you're reading this message in the Jupyter Notebook or JupyterLab Notebook, it may mean\n",
       "  that the widgets JavaScript is still loading. If this message persists, it\n",
       "  likely means that the widgets JavaScript library is either not installed or\n",
       "  not enabled. See the <a href=\"https://ipywidgets.readthedocs.io/en/stable/user_install.html\">Jupyter\n",
       "  Widgets Documentation</a> for setup instructions.\n",
       "</p>\n",
       "<p>\n",
       "  If you're reading this message in another frontend (for example, a static\n",
       "  rendering on GitHub or <a href=\"https://nbviewer.jupyter.org/\">NBViewer</a>),\n",
       "  it may mean that your frontend doesn't currently support widgets.\n",
       "</p>\n"
      ],
      "text/plain": [
       "VBox(children=(Label(value=\"$ \\\\bigg\\\\{ \\\\matrix{x'=(α_x y - β_x)x \\\\cr y'=(α_y - β_y x)y} $\", layout=Layout(height='50px')), interactive(children=(FloatText(value=0.5, description='\"Норма споживання\" жертв: $α_x = $', layout=Layout(width='400px'), step=0.1, style=DescriptionStyle(description_width='initial')), FloatText(value=0.3, description='Природна народжуваність жертв: $α_y = $', layout=Layout(width='400px'), step=0.1, style=DescriptionStyle(description_width='initial')), FloatText(value=0.5, description='Природна смертність хижаків: $β_x = $', layout=Layout(width='400px'), step=0.1, style=DescriptionStyle(description_width='initial')), FloatText(value=0.6, description='\"Норма споживаності\" жертв: $β_y = $', layout=Layout(width='400px'), step=0.1, style=DescriptionStyle(description_width='initial')), FloatText(value=0.5001, description='Початкова кількість хижаків: $x_0 = $', layout=Layout(width='400px'), step=0.1, style=DescriptionStyle(description_width='initial')), FloatText(value=1.001, description='Початкова кількість жертв: $y_0 = $', layout=Layout(width='400px'), step=0.1, style=DescriptionStyle(description_width='initial')), Output()), _dom_classes=('widget-interact',))))"
      ]
     },
     "metadata": {},
     "output_type": "display_data"
    }
   ],
   "source": [
    "plot_model4(0.5, 0.3, 0.5, 0.6, 0.5001, 1.001)"
   ]
  },
  {
   "cell_type": "markdown",
   "metadata": {},
   "source": [
    "! Комментарий"
   ]
  },
  {
   "cell_type": "markdown",
   "metadata": {},
   "source": [
    "### Коливання при значних відхиленнях початкових умов від рівноваги"
   ]
  },
  {
   "cell_type": "code",
   "execution_count": 62,
   "metadata": {
    "scrolled": false
   },
   "outputs": [
    {
     "data": {
      "application/vnd.jupyter.widget-view+json": {
       "model_id": "35431e7f300f450b8a92b51e58c53c09",
       "version_major": 2,
       "version_minor": 0
      },
      "text/html": [
       "<p>Failed to display Jupyter Widget of type <code>VBox</code>.</p>\n",
       "<p>\n",
       "  If you're reading this message in the Jupyter Notebook or JupyterLab Notebook, it may mean\n",
       "  that the widgets JavaScript is still loading. If this message persists, it\n",
       "  likely means that the widgets JavaScript library is either not installed or\n",
       "  not enabled. See the <a href=\"https://ipywidgets.readthedocs.io/en/stable/user_install.html\">Jupyter\n",
       "  Widgets Documentation</a> for setup instructions.\n",
       "</p>\n",
       "<p>\n",
       "  If you're reading this message in another frontend (for example, a static\n",
       "  rendering on GitHub or <a href=\"https://nbviewer.jupyter.org/\">NBViewer</a>),\n",
       "  it may mean that your frontend doesn't currently support widgets.\n",
       "</p>\n"
      ],
      "text/plain": [
       "VBox(children=(Label(value=\"$ \\\\bigg\\\\{ \\\\matrix{x'=(α_x y - β_x)x \\\\cr y'=(α_y - β_y x)y} $\", layout=Layout(height='50px')), interactive(children=(FloatText(value=0.6, description='\"Норма споживання\" жертв: $α_x = $', layout=Layout(width='400px'), step=0.1, style=DescriptionStyle(description_width='initial')), FloatText(value=0.2, description='Природна народжуваність жертв: $α_y = $', layout=Layout(width='400px'), step=0.1, style=DescriptionStyle(description_width='initial')), FloatText(value=0.5, description='Природна смертність хижаків: $β_x = $', layout=Layout(width='400px'), step=0.1, style=DescriptionStyle(description_width='initial')), FloatText(value=0.6, description='\"Норма споживаності\" жертв: $β_y = $', layout=Layout(width='400px'), step=0.1, style=DescriptionStyle(description_width='initial')), FloatText(value=0.9, description='Початкова кількість хижаків: $x_0 = $', layout=Layout(width='400px'), step=0.1, style=DescriptionStyle(description_width='initial')), FloatText(value=1.4, description='Початкова кількість жертв: $y_0 = $', layout=Layout(width='400px'), step=0.1, style=DescriptionStyle(description_width='initial')), Output()), _dom_classes=('widget-interact',))))"
      ]
     },
     "metadata": {},
     "output_type": "display_data"
    }
   ],
   "source": [
    "plot_model4(0.6, 0.2, 0.5, 0.6, 0.9, 1.4)"
   ]
  },
  {
   "cell_type": "markdown",
   "metadata": {},
   "source": [
    "! Комментарий"
   ]
  },
  {
   "cell_type": "code",
   "execution_count": 57,
   "metadata": {
    "scrolled": false
   },
   "outputs": [
    {
     "data": {
      "application/vnd.jupyter.widget-view+json": {
       "model_id": "349a4377362e4d209433fb9807e85bba",
       "version_major": 2,
       "version_minor": 0
      },
      "text/html": [
       "<p>Failed to display Jupyter Widget of type <code>VBox</code>.</p>\n",
       "<p>\n",
       "  If you're reading this message in the Jupyter Notebook or JupyterLab Notebook, it may mean\n",
       "  that the widgets JavaScript is still loading. If this message persists, it\n",
       "  likely means that the widgets JavaScript library is either not installed or\n",
       "  not enabled. See the <a href=\"https://ipywidgets.readthedocs.io/en/stable/user_install.html\">Jupyter\n",
       "  Widgets Documentation</a> for setup instructions.\n",
       "</p>\n",
       "<p>\n",
       "  If you're reading this message in another frontend (for example, a static\n",
       "  rendering on GitHub or <a href=\"https://nbviewer.jupyter.org/\">NBViewer</a>),\n",
       "  it may mean that your frontend doesn't currently support widgets.\n",
       "</p>\n"
      ],
      "text/plain": [
       "VBox(children=(Label(value=\"$ \\\\bigg\\\\{ \\\\matrix{x'=(α_x y - β_x)x \\\\cr y'=(α_y - β_y x)y} $\", layout=Layout(height='50px')), interactive(children=(FloatText(value=0.8, description='\"Норма споживання\" жертв: $α_x = $', layout=Layout(width='400px'), step=0.1, style=DescriptionStyle(description_width='initial')), FloatText(value=0.5, description='Природна народжуваність жертв: $α_y = $', layout=Layout(width='400px'), step=0.1, style=DescriptionStyle(description_width='initial')), FloatText(value=0.7, description='Природна смертність хижаків: $β_x = $', layout=Layout(width='400px'), step=0.1, style=DescriptionStyle(description_width='initial')), FloatText(value=0.1, description='\"Норма споживаності\" жертв: $β_y = $', layout=Layout(width='400px'), step=0.1, style=DescriptionStyle(description_width='initial')), FloatText(value=5.2, description='Початкова кількість хижаків: $x_0 = $', layout=Layout(width='400px'), step=0.1, style=DescriptionStyle(description_width='initial')), FloatText(value=4.5, description='Початкова кількість жертв: $y_0 = $', layout=Layout(width='400px'), step=0.1, style=DescriptionStyle(description_width='initial')), Output()), _dom_classes=('widget-interact',))))"
      ]
     },
     "metadata": {},
     "output_type": "display_data"
    }
   ],
   "source": [
    "plot_model4(0.8, 0.5, 0.7, 0.1, 5.2, 4.5)"
   ]
  },
  {
   "cell_type": "markdown",
   "metadata": {},
   "source": [
    "! Комментарий"
   ]
  },
  {
   "cell_type": "markdown",
   "metadata": {},
   "source": [
    "# Висновки"
   ]
  },
  {
   "cell_type": "markdown",
   "metadata": {},
   "source": [
    "! Выводы"
   ]
  },
  {
   "cell_type": "markdown",
   "metadata": {},
   "source": [
    "# Код програми"
   ]
  },
  {
   "cell_type": "code",
   "execution_count": 30,
   "metadata": {},
   "outputs": [],
   "source": [
    "from ipywidgets import *\n",
    "import numpy as np\n",
    "from scipy.integrate import odeint\n",
    "import matplotlib.pyplot as plt\n",
    "from IPython.display import display\n",
    "%matplotlib inline\n",
    "\n",
    "from pylab import rcParams\n",
    "rcParams['figure.figsize'] = 14, 6\n",
    "style = {'description_width': 'initial'}\n",
    "layout = Layout(width = '400px')\n",
    "models = [None] * 4 \n",
    "\n",
    "\n",
    "\n",
    "def model1(k, μ, N0):\n",
    "    def model1_eq(N,t):\n",
    "        return μ*N*(k-N)\n",
    "    \n",
    "    t = np.linspace(0, 30, num=200)\n",
    "\n",
    "    # solve ODE\n",
    "    N = odeint(model1_eq, N0, t)\n",
    "\n",
    "    # plot results\n",
    "    plt.plot(t,N)\n",
    "    plt.xlabel('t')\n",
    "    plt.ylabel('N(t)')\n",
    "    plt.show()\n",
    "\n",
    "def plot_model1(k, mu, N0):\n",
    "    description1 = Label(value=\"$N'=μN(k-N)$\")\n",
    "    k_val = FloatText(value=k, description = 'Ємність середовища (гранична чисельність): $k = $', step=0.1, style = style, layout = layout)\n",
    "    μ_val = FloatText(value=mu, description = 'Швидкість росту популяції: $μ = $', step=0.1, style = style, layout = layout)\n",
    "    N0_val = FloatText(value=N0, description = 'Початковий розмір популяції: $N_0 = $', step=0.1, style = style, layout = layout)\n",
    "    models[0] = VBox([description1, interactive(model1, k=k_val, μ=μ_val, N0=N0_val, continuous_update=True)])\n",
    "    display(models[0])\n",
    "    \n",
    "\n",
    "def model2(s, a, α, μ, q, k0):\n",
    "    def model2_eq(k,t):\n",
    "        return s*a*k**α-(μ+q)*k\n",
    "\n",
    "    t = np.linspace(0, 100, num=200)\n",
    "\n",
    "    # solve ODE\n",
    "    k = odeint(model2_eq, k0, t)\n",
    "\n",
    "    # plot results\n",
    "    plt.plot(t, k)\n",
    "    plt.xlabel('t')\n",
    "    plt.ylabel('k(t)')\n",
    "    plt.show()\n",
    "\n",
    "def plot_model2(s, a, alpha, mu, q, k0):\n",
    "    description2 = Label(value=\"$k'=sak^α-(μ+q)k$\")\n",
    "    s_val = FloatText(s, description = 'Норма накопичення: $s = $', step=0.1, style = style, layout = layout)\n",
    "    a_val = FloatText(a, description = 'Рівень розвитку економіки: $a = $', step=0.1, style = style, layout = layout)\n",
    "    α_val = FloatText(alpha, description = 'Частка капіталу у сукупній продукції: $α = $', step=0.1, style = style, layout = layout)\n",
    "    μ_val = FloatText(mu, description = 'Норма витрат на амортизацію: $μ = $', step=0.1, style = style, layout = layout)\n",
    "    q_val = FloatText(q, description = 'Темп приросту робочої сили: $q = $', step=0.1, style = style, layout = layout)\n",
    "    k0_val = FloatText(k0, description = 'Початкова капіталозабезпеченість: $k_0 = $', step=0.1, style = style, layout = layout)\n",
    "    models[1] = VBox([description2, interactive(model2, s=s_val, a=a_val, α=α_val, μ=μ_val, q=q_val, k0=k0_val, continuous_update=True)])\n",
    "    display(models[1])\n",
    "    \n",
    "    \n",
    "def model3(δ, ω0, ω, f0, x0, x00):\n",
    "    \n",
    "    #x_0' = x_1 = x'\n",
    "    #x_1' = x'' = f0 * np.cos(ω * t) - 2 * δ * x[1] - (ω0 ** 2) * x[0]\n",
    "    def model3_eq(x,t):\n",
    "        return [x[1], f0 * np.cos(ω * t) - 2 * δ * x[1] - (ω0 ** 2) * x[0]]\n",
    "\n",
    "    t = np.linspace(0, 300, num=1000)\n",
    "\n",
    "    # solve ODE\n",
    "    x = odeint(model3_eq, np.array([x0, x00]), t)\n",
    "\n",
    "    # plot results\n",
    "    fig, ax = plt.subplots(nrows=1, ncols=2)\n",
    "    ax[0].plot(t, x[:,0])\n",
    "    ax[0].set_xlabel('t')\n",
    "    ax[0].set_ylabel('x(t)')\n",
    "    ax[1].plot(x[:,0], x[:,1])\n",
    "    ax[1].set_xlabel('x(t)')\n",
    "    ax[1].set_ylabel(\"x'(t)\")\n",
    "    plt.show()\n",
    "\n",
    "def plot_model3(delta, omega0, omega, f0, x0, x00):\n",
    "    description3 = Label(value=\"$x''+2δ x'+ω_0^2 x=f_0 cos(ωt)$\")\n",
    "    δ_val = FloatText(value=delta, description = 'Коефіцієнт згасання: $δ = $', step=0.1, style = style, layout = layout)\n",
    "    ω0_val = FloatText(value=omega0, description = 'Власна частота: $ω_0 = $', step=0.1, style = style, layout = layout)\n",
    "    ω_val = FloatText(value=omega, description = 'Частота зовнішньої сили: $ω = $', step=0.1, style = style, layout = layout)\n",
    "    f0_val = FloatText(value=f0, description = 'Амплітуда зовнішньої сили: $f_0 = $', step=0.1, style = style, layout = layout)\n",
    "    x0_val = FloatText(value=x0, description = 'Початкове положення: $x_0 = $', step=0.1, style = style, layout = layout)\n",
    "    x00_val = FloatText(value=x00, description = \"Початкова швидкіть: $x_0' = $\", step=0.1, style = style, layout = layout)\n",
    "    models[2] = VBox([description3, interactive(model3, δ=δ_val, ω0=ω0_val, ω=ω_val, f0=f0_val, x0=x0_val, x00=x00_val, continuous_update=True)])\n",
    "    display(models[2])\n",
    "    \n",
    "    \n",
    "def model4(αx, αy, βx, βy, x0, y0):\n",
    "    def model4_eq(x,t):\n",
    "        return [(αx * x[1] - βx) * x[0], (αy - x[0] * βy) * x[1]]\n",
    "    \n",
    "    t = np.linspace(0, 50, num=1000)\n",
    "\n",
    "    # solve ODE\n",
    "    x = odeint(model4_eq, np.array([x0, y0]), t)\n",
    "\n",
    "    # plot results\n",
    "    fig, ax = plt.subplots(nrows=1, ncols=2)\n",
    "    ax[0].plot(t, x[:,0], label = 'x(t)')\n",
    "    ax[0].plot(t, x[:,1], label = 'y(t)')\n",
    "    ax[0].legend()\n",
    "    ax[0].set_xlabel('t')\n",
    "    ax[1].plot(x[:,0], x[:,1])\n",
    "    if βy != 0 and αx != 0:\n",
    "        ax[1].scatter(αy/βy, βx/αx, s=25, c=4)\n",
    "    ax[1].set_xlabel('x(t)')\n",
    "    ax[1].set_ylabel(\"y(t)\")\n",
    "    plt.show()\n",
    "\n",
    "def plot_model4(alpha_x, alpha_y, beta_x, beta_y, x0, y0):\n",
    "    description4 = Label(value=r\"\"\"$ \\bigg\\{ \\matrix{x'=(α_x y - β_x)x \\cr y'=(α_y - β_y x)y} $\"\"\", layout = Layout(height = '50px'))\n",
    "    αx_val = FloatText(value=alpha_x, description = '\"Норма споживання\" жертв: $α_x = $', step=0.1, style = style, layout = layout)\n",
    "    αy_val = FloatText(value=alpha_y, description = 'Природна народжуваність жертв: $α_y = $', step=0.1, style = style, layout = layout)\n",
    "    βx_val = FloatText(value=beta_x, description = 'Природна смертність хижаків: $β_x = $', step=0.1, style = style, layout = layout)\n",
    "    βy_val = FloatText(value=beta_y, description = '\"Норма споживаності\" жертв: $β_y = $', step=0.1, style = style, layout = layout)\n",
    "    x0_val = FloatText(value=x0, description = 'Початкова кількість хижаків: $x_0 = $', step=0.1, style = style, layout = layout)\n",
    "    y0_val = FloatText(value=y0, description = \"Початкова кількість жертв: $y_0 = $\", step=0.1, style = style, layout = layout)\n",
    "    models[3] = VBox([description4, interactive(model4, αx=αx_val, αy=αy_val, βx=βx_val, βy=βy_val, x0=x0_val, y0=y0_val, continuous_update=True)])\n",
    "    display(models[3])"
   ]
  },
  {
   "cell_type": "code",
   "execution_count": null,
   "metadata": {},
   "outputs": [],
   "source": []
  }
 ],
 "metadata": {
  "kernelspec": {
   "display_name": "Python 3",
   "language": "python",
   "name": "python3"
  },
  "language_info": {
   "codemirror_mode": {
    "name": "ipython",
    "version": 3
   },
   "file_extension": ".py",
   "mimetype": "text/x-python",
   "name": "python",
   "nbconvert_exporter": "python",
   "pygments_lexer": "ipython3",
   "version": "3.6.4"
  },
  "toc": {
   "nav_menu": {},
   "number_sections": true,
   "sideBar": true,
   "skip_h1_title": false,
   "toc_cell": false,
   "toc_position": {},
   "toc_section_display": "block",
   "toc_window_display": true
  }
 },
 "nbformat": 4,
 "nbformat_minor": 2
}
